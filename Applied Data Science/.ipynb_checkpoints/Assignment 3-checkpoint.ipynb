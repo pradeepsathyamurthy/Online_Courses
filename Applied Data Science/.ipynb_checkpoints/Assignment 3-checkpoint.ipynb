{
 "cells": [
  {
   "cell_type": "markdown",
   "metadata": {},
   "source": [
    "---\n",
    "\n",
    "_You are currently looking at **version 1.0** of this notebook. To download notebooks and datafiles, as well as get help on Jupyter notebooks in the Coursera platform, visit the [Jupyter Notebook FAQ](https://www.coursera.org/learn/python-data-analysis/resources/0dhYG) course resource._\n",
    "\n",
    "---"
   ]
  },
  {
   "cell_type": "markdown",
   "metadata": {},
   "source": [
    "# Assignment 3 - More Pandas\n",
    "All questions are weighted the same in this assignment. This assignment requires more individual learning then the last one did - you are encouraged to check out the [pandas documentation](http://pandas.pydata.org/pandas-docs/stable/) to find functions or methods you might not have used yet, or ask questions on [Stack Overflow](http://stackoverflow.com/) and tag them as pandas and python related. And of course, the discussion forums are open for interaction with your peers and the course staff."
   ]
  },
  {
   "cell_type": "code",
   "execution_count": 5,
   "metadata": {
    "collapsed": true
   },
   "outputs": [],
   "source": [
    "import pandas as pd\n",
    "import numpy as np"
   ]
  },
  {
   "cell_type": "markdown",
   "metadata": {},
   "source": [
    "### Question 1\n",
    "Load the energy data from the file `Energy Indicators.xls`, which is a list of indicators of [energy supply and renewable electricity production](Energy%20Indicators.xls) from the [United Nations](http://unstats.un.org/unsd/environment/excel_file_tables/2013/Energy%20Indicators.xls) for the year 2013, and should be put into a DataFrame with the variable name of **energy**.\n",
    "\n",
    "Keep in mind that this is an Excel file, and not a comma separated values file. Also, make sure to exclude the footer and header information from the datafile. The first two columns are unneccessary, so you should get rid of them, and you should change the column labels so that the columns are:\n",
    "\n",
    "`['Country', 'Energy Supply', 'Energy Supply per Capita', '% Renewable's]`\n",
    "\n",
    "Convert the energy supply and the energy supply per capita to gigajoules (there are 1,000,000 gigajoules in a petajoule). For all countries which have missing data (e.g. data with \"...\") make sure this is reflected as `np.NaN` values.\n",
    "\n",
    "Rename the following list of countries (for use in later questions):\n",
    "\n",
    "```\"Republic of Korea\": \"South Korea\",\n",
    "\"United States of America\": \"United States\",\n",
    "\"United Kingdom of Great Britain and Northern Ireland\": \"United Kingdom\",\n",
    "\"China, Hong Kong Special Administrative Region\": \"Hong Kong\"```\n",
    "\n",
    "There are also several countries with parenthesis in their name. Be sure to remove these, e.g. `'Bolivia (Plurinational State of)'` should be `'Bolivia'`.\n",
    "\n",
    "<br>\n",
    "\n",
    "Next, load the GDP data from the file `world_bank.csv`, which is a csv containing countries' GDP from 1960 to 2015 from [World Bank](http://data.worldbank.org/indicator/NY.GDP.MKTP.CD). Call this DataFrame **GDP**. \n",
    "\n",
    "Make sure to skip the header, and rename the following list of countries:\n",
    "\n",
    "```\"Korea, Rep.\": \"South Korea\", \n",
    "\"Iran, Islamic Rep.\": \"Iran\",\n",
    "\"Hong Kong SAR, China\": \"Hong Kong\"```\n",
    "\n",
    "<br>\n",
    "\n",
    "Finally, load the [Sciamgo Journal and Country Rank data for Energy Engineering and Power Technology](http://www.scimagojr.com/countryrank.php?category=2102), which ranks countries based on their journal contributions in the aforementioned area. Call this DataFrame **ScimEn**.\n",
    "\n",
    "Join the three datasets: GDP, Energy, and ScimEn into a new dataset (using the intersection of country names). Use only the last 10 years (2006-2015) of GDP data and only the top 15 countries by Scimagojr 'Rank' (Rank 1 through 15). \n",
    "\n",
    "The index of this DataFrame should be the name of the country.\n",
    "\n",
    "*This function should return a DataFrame with 20 columns and 15 entries.*"
   ]
  },
  {
   "cell_type": "code",
   "execution_count": 54,
   "metadata": {
    "collapsed": true
   },
   "outputs": [],
   "source": [
    "def energy():\n",
    "    energy = pd.read_excel('Energy Indicators.xls',skiprows=17,na_values='...',skip_footer=38,parse_cols=[2,3,4,5,6] \n",
    "                       ,names=['Country', 'Energy Supply', 'Energy Supply per Capita', '% Renewable'])\n",
    "    energy.columns = ['Country', 'Energy Supply', 'Energy Supply per Capita', '% Renewable']\n",
    "    energy['Energy Supply'] = energy['Energy Supply'] * 1000000\n",
    "    dicts = {'Republic of Korea': 'South Korea',\n",
    "               'United States of America': 'United States',\n",
    "               'United Kingdom of Great Britain and Northern Ireland': 'United Kingdom',\n",
    "               'China, Hong Kong Special Administrative Region': 'Hong Kong'}\n",
    "    energy['Country_M'] = energy['Country']\n",
    "    energy = energy.set_index('Country')\n",
    "    \n",
    "    for country in energy.index:\n",
    "        if (country.endswith(('1','2','3','4','5','6','7','8','9','0'))):\n",
    "            country_edit = country[:-1]\n",
    "            energy.set_value(country,'Country_M',country_edit)\n",
    "            if (country_edit.endswith(('1','2','3','4','5','6','7','8','9','0'))):\n",
    "                country_edit = country_edit[:-1]\n",
    "                #print(country_edit)\n",
    "                energy.set_value(country,'Country_M',country_edit)\n",
    "    \n",
    "    energy['Country_E'] = energy['Country_M']\n",
    "    energy = energy.set_index('Country_M')\n",
    "    #print(energy.columns)\n",
    "    \n",
    "    for country in energy.index:\n",
    "        for key,value in dicts.items():\n",
    "            #print('country>>>>',country)\n",
    "            #print('key>>>>',key)\n",
    "            if (key==country):\n",
    "                energy.set_value(key,'Country_E',value)\n",
    "        \n",
    "    # removing () from Country names\n",
    "    for names in energy.index:\n",
    "        if names.find('(') > -1 or names.find(')') >-1:\n",
    "            #print(names[:names.find('(')])\n",
    "            energy.set_value(names,'Country_E',names[:names.find('(')].strip())\n",
    "    energy.reset_index(drop=True,inplace=True)\n",
    "    energy.columns = ['Energy Supply', 'Energy Supply per Capita', '% Renewable','Country']\n",
    "    return energy"
   ]
  },
  {
   "cell_type": "code",
   "execution_count": 55,
   "metadata": {
    "collapsed": true
   },
   "outputs": [],
   "source": [
    "def gdp():\n",
    "    GDP = pd.read_csv('world_bank.csv',skiprows=4)\n",
    "    dicts = {'Korea, Rep.': 'South Korea', \n",
    "           'Iran, Islamic Rep.': 'Iran',\n",
    "           'Hong Kong SAR, China': 'Hong Kong'}\n",
    "    GDP['Country_M'] = GDP['Country Name']\n",
    "    GDP = GDP.set_index('Country Name')\n",
    "    for country in GDP.index:\n",
    "        for key,value in dicts.items():\n",
    "            if(country==key):\n",
    "                GDP.set_value(country,'Country_M',value)\n",
    "    GDP.reset_index(drop=True,inplace=True)\n",
    "    GDP.columns = ['Country Code', 'Indicator Name', 'Indicator Code', '1960', '1961',\n",
    "           '1962', '1963', '1964', '1965', '1966', '1967', '1968', '1969', '1970',\n",
    "           '1971', '1972', '1973', '1974', '1975', '1976', '1977', '1978', '1979',\n",
    "           '1980', '1981', '1982', '1983', '1984', '1985', '1986', '1987', '1988',\n",
    "           '1989', '1990', '1991', '1992', '1993', '1994', '1995', '1996', '1997',\n",
    "           '1998', '1999', '2000', '2001', '2002', '2003', '2004', '2005', '2006',\n",
    "           '2007', '2008', '2009', '2010', '2011', '2012', '2013', '2014', '2015',\n",
    "           'Country']\n",
    "    GDP_col_needed = list(np.arange(2006,2016,1))\n",
    "    GDP_col_needed = list(map(str,GDP_col_needed))\n",
    "    GDP_col_needed.append('Country')\n",
    "    GDP_DF2 = GDP[GDP_col_needed]\n",
    "    return GDP_DF2"
   ]
  },
  {
   "cell_type": "code",
   "execution_count": 56,
   "metadata": {
    "collapsed": true
   },
   "outputs": [],
   "source": [
    "def scimen():\n",
    "    ScimEn = pd.read_excel('scimagojr-3.xlsx')\n",
    "    return ScimEn"
   ]
  },
  {
   "cell_type": "code",
   "execution_count": 57,
   "metadata": {
    "collapsed": false
   },
   "outputs": [],
   "source": [
    "def answer_one():\n",
    "    energy_df, GDP_df, ScimEn_df = energy(),gdp(),scimen()\n",
    "    tdf = pd.merge(energy_df,GDP_df,how='inner',left_on='Country',right_on='Country')\n",
    "    tdf = pd.merge(tdf,ScimEn_df,how='inner',left_on='Country',right_on='Country')\n",
    "    condition_mask = tdf['Rank'] <= 15\n",
    "    res = tdf[condition_mask]\n",
    "    res = res.set_index('Country')\n",
    "    return res"
   ]
  },
  {
   "cell_type": "code",
   "execution_count": 61,
   "metadata": {
    "collapsed": false
   },
   "outputs": [
    {
     "data": {
      "text/plain": [
       "(15, 20)"
      ]
     },
     "execution_count": 61,
     "metadata": {},
     "output_type": "execute_result"
    }
   ],
   "source": [
    "a = answer_one()\n",
    "a.shape"
   ]
  },
  {
   "cell_type": "code",
   "execution_count": 62,
   "metadata": {
    "collapsed": false
   },
   "outputs": [
    {
     "name": "stdout",
     "output_type": "stream",
     "text": [
      "<class 'pandas.core.frame.DataFrame'>\n",
      "Index: 15 entries, Australia to United States\n",
      "Data columns (total 20 columns):\n",
      "Energy Supply               15 non-null float64\n",
      "Energy Supply per Capita    15 non-null float64\n",
      "% Renewable                 15 non-null float64\n",
      "2006                        15 non-null float64\n",
      "2007                        15 non-null float64\n",
      "2008                        15 non-null float64\n",
      "2009                        15 non-null float64\n",
      "2010                        15 non-null float64\n",
      "2011                        15 non-null float64\n",
      "2012                        15 non-null float64\n",
      "2013                        15 non-null float64\n",
      "2014                        15 non-null float64\n",
      "2015                        14 non-null float64\n",
      "Rank                        15 non-null int64\n",
      "Documents                   15 non-null int64\n",
      "Citable documents           15 non-null int64\n",
      "Citations                   15 non-null int64\n",
      "Self-citations              15 non-null int64\n",
      "Citations per document      15 non-null float64\n",
      "H index                     15 non-null int64\n",
      "dtypes: float64(14), int64(6)\n",
      "memory usage: 2.5+ KB\n"
     ]
    }
   ],
   "source": [
    "a.info()"
   ]
  },
  {
   "cell_type": "markdown",
   "metadata": {},
   "source": [
    "### Question 2 (6.6%)\n",
    "The previous question joined three datasets then reduced this to just the top 15 entries. When you joined the datasets, but before you reduced this to the top 15 items, how many entries did you lose?\n",
    "\n",
    "*This function should return a single number.*"
   ]
  },
  {
   "cell_type": "code",
   "execution_count": 1,
   "metadata": {
    "collapsed": false
   },
   "outputs": [
    {
     "data": {
      "text/html": [
       "<svg width=\"800\" height=\"300\">\n",
       "  <circle cx=\"150\" cy=\"180\" r=\"80\" fill-opacity=\"0.2\" stroke=\"black\" stroke-width=\"2\" fill=\"blue\" />\n",
       "  <circle cx=\"200\" cy=\"100\" r=\"80\" fill-opacity=\"0.2\" stroke=\"black\" stroke-width=\"2\" fill=\"red\" />\n",
       "  <circle cx=\"100\" cy=\"100\" r=\"80\" fill-opacity=\"0.2\" stroke=\"black\" stroke-width=\"2\" fill=\"green\" />\n",
       "  <line x1=\"150\" y1=\"125\" x2=\"300\" y2=\"150\" stroke=\"black\" stroke-width=\"2\" fill=\"black\" stroke-dasharray=\"5,3\"/>\n",
       "  <text  x=\"300\" y=\"165\" font-family=\"Verdana\" font-size=\"35\">Everything but this!</text>\n",
       "</svg>"
      ],
      "text/plain": [
       "<IPython.core.display.HTML object>"
      ]
     },
     "metadata": {},
     "output_type": "display_data"
    }
   ],
   "source": [
    "%%HTML\n",
    "<svg width=\"800\" height=\"300\">\n",
    "  <circle cx=\"150\" cy=\"180\" r=\"80\" fill-opacity=\"0.2\" stroke=\"black\" stroke-width=\"2\" fill=\"blue\" />\n",
    "  <circle cx=\"200\" cy=\"100\" r=\"80\" fill-opacity=\"0.2\" stroke=\"black\" stroke-width=\"2\" fill=\"red\" />\n",
    "  <circle cx=\"100\" cy=\"100\" r=\"80\" fill-opacity=\"0.2\" stroke=\"black\" stroke-width=\"2\" fill=\"green\" />\n",
    "  <line x1=\"150\" y1=\"125\" x2=\"300\" y2=\"150\" stroke=\"black\" stroke-width=\"2\" fill=\"black\" stroke-dasharray=\"5,3\"/>\n",
    "  <text  x=\"300\" y=\"165\" font-family=\"Verdana\" font-size=\"35\">Everything but this!</text>\n",
    "</svg>"
   ]
  },
  {
   "cell_type": "code",
   "execution_count": 63,
   "metadata": {
    "collapsed": false
   },
   "outputs": [],
   "source": [
    "def answer_two():\n",
    "    energy_df, GDP_df, ScimEn_df = energy(),gdp(),scimen()\n",
    "    tdf_in = pd.merge(energy_df,GDP_df,how='inner',left_on='Country',right_on='Country')\n",
    "    tdf_in = pd.merge(tdf_in,ScimEn_df,how='inner',left_on='Country',right_on='Country')\n",
    "    tdf_out = pd.merge(energy_df,GDP_df,how='outer',left_on='Country',right_on='Country')\n",
    "    tdf_out = pd.merge(tdf_out,ScimEn_df,how='outer',left_on='Country',right_on='Country')\n",
    "    diff_count = len(tdf_out) - len(tdf_in)\n",
    "    return diff_count"
   ]
  },
  {
   "cell_type": "markdown",
   "metadata": {},
   "source": [
    "### Question 3 (6.6%)\n",
    "What are the top 15 countries for average GDP over the last 10 years?\n",
    "\n",
    "*This function should return a Series named `avgGDP` with 15 countries and their average GDP sorted in descending order.*"
   ]
  },
  {
   "cell_type": "code",
   "execution_count": 64,
   "metadata": {
    "collapsed": false,
    "scrolled": true
   },
   "outputs": [],
   "source": [
    "def answer_three():\n",
    "    Top15 = answer_one().copy()\n",
    "    col_selected = ['2006','2007','2008','2009','2010','2011','2012','2013','2014','2015']\n",
    "    Top15 = Top15[col_selected]\n",
    "    result = Top15.apply(lambda x: np.mean(x),axis=1)\n",
    "    result = result.sort_values(ascending=False)\n",
    "    return result"
   ]
  },
  {
   "cell_type": "markdown",
   "metadata": {},
   "source": [
    "### Question 4 (6.6%)\n",
    "By how much had the GDP changed over the 10 year span for the country with the 6th largest average GDP?\n",
    "\n",
    "*This function should return a single number.*"
   ]
  },
  {
   "cell_type": "code",
   "execution_count": 99,
   "metadata": {
    "collapsed": false,
    "scrolled": true
   },
   "outputs": [],
   "source": [
    "def answer_four():\n",
    "    Top15 = answer_one().copy()\n",
    "    Top15 = Top15[['2006', '2007', '2008', '2009', '2010', '2011', '2012', '2013', '2014', '2015']]\n",
    "    Top15['Avg_GDP'] = Top15.apply(np.mean,axis=1)\n",
    "    Top15.sort_values(by='Avg_GDP',ascending=False,inplace=True)\n",
    "    res_series = Top15.iloc[5]\n",
    "    result = res_series.loc['2015'] - res_series.loc['2006']\n",
    "    return result"
   ]
  },
  {
   "cell_type": "markdown",
   "metadata": {},
   "source": [
    "### Question 5 (6.6%)\n",
    "What is the mean energy supply per capita?\n",
    "\n",
    "*This function should return a single number.*"
   ]
  },
  {
   "cell_type": "code",
   "execution_count": 50,
   "metadata": {
    "collapsed": false
   },
   "outputs": [],
   "source": [
    "def answer_five():\n",
    "    Top15 = answer_one()\n",
    "    mean_perCapita = np.mean(Top15['Energy Supply per Capita'],axis=0)\n",
    "    return mean_perCapita"
   ]
  },
  {
   "cell_type": "markdown",
   "metadata": {},
   "source": [
    "### Question 6 (6.6%)\n",
    "What country has the maximum % Renewable and what is the percentage?\n",
    "\n",
    "*This function should return a tuple with the name of the country and the percentage.*"
   ]
  },
  {
   "cell_type": "code",
   "execution_count": 66,
   "metadata": {
    "collapsed": false
   },
   "outputs": [],
   "source": [
    "def answer_six():\n",
    "    Top15 = answer_one()\n",
    "    return (Top15['% Renewable'].idxmax(),Top15['% Renewable'].max())"
   ]
  },
  {
   "cell_type": "markdown",
   "metadata": {},
   "source": [
    "### Question 7 (6.6%)\n",
    "Create a new column that is the ratio of Self-Citations to Total Citations. \n",
    "What is the maximum value for this new column, and what country has the highest ratio?\n",
    "\n",
    "*This function should return a tuple with the name of the country and the ratio.*"
   ]
  },
  {
   "cell_type": "code",
   "execution_count": 67,
   "metadata": {
    "collapsed": false
   },
   "outputs": [],
   "source": [
    "def answer_seven():\n",
    "    Top15 = answer_one().copy()\n",
    "    Top15 = Top15[['Citations','Self-citations']]\n",
    "    Top15['Ration_Citation'] = np.divide(Top15['Self-citations'],Top15['Citations'])\n",
    "    ans = (Top15['Ration_Citation'].idxmax(), Top15['Ration_Citation'].max())\n",
    "    return ans"
   ]
  },
  {
   "cell_type": "markdown",
   "metadata": {},
   "source": [
    "### Question 8 (6.6%)\n",
    "\n",
    "Create a column that estimates the population using Energy Supply and Energy Supply per capita. \n",
    "What is the third most populous country according to this estimate?\n",
    "\n",
    "*This function should return a single string value.*"
   ]
  },
  {
   "cell_type": "code",
   "execution_count": 69,
   "metadata": {
    "collapsed": false
   },
   "outputs": [],
   "source": [
    "def answer_eight():\n",
    "    Top15 = answer_one().copy()\n",
    "    Top15['Population'] = np.divide(Top15['Energy Supply'],Top15['Energy Supply per Capita'])\n",
    "    Pop_Sorted = Top15['Population'].sort_values(ascending=False)\n",
    "    return Pop_Sorted.index[2]"
   ]
  },
  {
   "cell_type": "markdown",
   "metadata": {},
   "source": [
    "### Question 9 (6.6%)\n",
    "Create a column that estimates the number of citable documents per person. \n",
    "What is the correlation between the number of citable documents per capita and the energy supply per capita?\n",
    "\n",
    "*This function should return a single number.*\n",
    "\n",
    "*(Optional: Use the built-in function `plot9()` to visualize the relationship between Energy Supply per Capita vs. Citable docs per Capita).*"
   ]
  },
  {
   "cell_type": "code",
   "execution_count": 100,
   "metadata": {
    "collapsed": false
   },
   "outputs": [],
   "source": [
    "def answer_nine():\n",
    "    Top15 = answer_one().copy()\n",
    "    Top15['Population'] = np.divide(Top15['Energy Supply'],Top15['Energy Supply per Capita'])\n",
    "    Top15['Citable_Doc_Per_Capita'] = np.divide(Top15['Citable documents'],Top15['Population'])\n",
    "    Top15 = Top15[['Energy Supply per Capita','Citable_Doc_Per_Capita']]\n",
    "    cor_value = Top15.corr()\n",
    "    result = cor_value.iloc[1][0]\n",
    "    return result"
   ]
  },
  {
   "cell_type": "code",
   "execution_count": 11,
   "metadata": {
    "collapsed": false
   },
   "outputs": [],
   "source": [
    "def plot9():    \n",
    "    Top15 = answer_one()\n",
    "    Top15['PopEst'] = Top15['Energy Supply'] / Top15['Energy Supply per Capita']\n",
    "    Top15['Citable docs per Capita'] = Top15['Citable documents'] / Top15['PopEst']\n",
    "    Top15.plot(x='Citable docs per Capita', y='Energy Supply per Capita', kind='scatter', xlim=[0, 0.0006])"
   ]
  },
  {
   "cell_type": "code",
   "execution_count": 12,
   "metadata": {
    "collapsed": false
   },
   "outputs": [],
   "source": [
    "#plot9()"
   ]
  },
  {
   "cell_type": "markdown",
   "metadata": {},
   "source": [
    "### Question 10 (6.6%)\n",
    "Create a new column with a 1 if the country's % Renewable value is at or above the median for all countries in the top 15.\n",
    "\n",
    "*This function should return a series named `HighRenew` whose index is the country name sorted in ascending order of rank.*"
   ]
  },
  {
   "cell_type": "code",
   "execution_count": 95,
   "metadata": {
    "collapsed": false
   },
   "outputs": [],
   "source": [
    "def answer_ten():\n",
    "    Top15 = answer_one()\n",
    "    renew_mean = Top15['% Renewable'].mean()\n",
    "    def funct1(x):\n",
    "        if x['% Renewable'] >= renew_mean:\n",
    "            return 1\n",
    "        else:\n",
    "            return 0\n",
    "    Top15['New_Col'] = Top15.apply(funct1,axis=1)\n",
    "    Top15 = Top15.sort_values(by='Rank')\n",
    "    return Top15['New_Col']"
   ]
  },
  {
   "cell_type": "markdown",
   "metadata": {},
   "source": [
    "### Question 11 (6.6%)\n",
    "Use the following dictionary to group the Countries by Continent, then create a dateframe that displays the sample size (the number of countries in each continent bin), and the sum, mean, and std deviation for the estimated population of each country.\n",
    "\n",
    "```python\n",
    "ContinentDict  = {'China':'Asia', \n",
    "                  'United States':'North America', \n",
    "                  'Japan':'Asia', \n",
    "                  'United Kingdom':'Europe', \n",
    "                  'Russian Federation':'Europe', \n",
    "                  'Canada':'North America', \n",
    "                  'Germany':'Europe', \n",
    "                  'India':'Asia',\n",
    "                  'France':'Europe', \n",
    "                  'South Korea':'Asia', \n",
    "                  'Italy':'Europe', \n",
    "                  'Spain':'Europe', \n",
    "                  'Iran':'Asia',\n",
    "                  'Australia':'Australia', \n",
    "                  'Brazil':'South America'}\n",
    "```\n",
    "\n",
    "*This function should return a DataFrame with index named Continent `['Asia', 'Australia', 'Europe', 'North America', 'South America']` and columns `['size', 'sum', 'mean', 'std']`*"
   ]
  },
  {
   "cell_type": "code",
   "execution_count": 97,
   "metadata": {
    "collapsed": false
   },
   "outputs": [],
   "source": [
    "def answer_eleven():\n",
    "    Top15 = answer_one().copy()\n",
    "    ContinentDict  = {'China':'Asia', \n",
    "                  'United States':'North America', \n",
    "                  'Japan':'Asia', \n",
    "                  'United Kingdom':'Europe', \n",
    "                  'Russian Federation':'Europe', \n",
    "                  'Canada':'North America', \n",
    "                  'Germany':'Europe', \n",
    "                  'India':'Asia',\n",
    "                  'France':'Europe', \n",
    "                  'South Korea':'Asia', \n",
    "                  'Italy':'Europe', \n",
    "                  'Spain':'Europe', \n",
    "                  'Iran':'Asia',\n",
    "                  'Australia':'Australia', \n",
    "                  'Brazil':'South America'}\n",
    "    df_q11 = pd.Series(ContinentDict)\n",
    "    df = pd.concat((Top15,df_q11),join='inner',axis=1)\n",
    "    df=df.reset_index('Continent')\n",
    "    df.columns = [                  'Country',            'Energy Supply',\n",
    "                   'Energy Supply per Capita',              '% Renewable',\n",
    "                                       '2006',                     '2007',\n",
    "                                       '2008',                     '2009',\n",
    "                                       '2010',                     '2011',\n",
    "                                       '2012',                     '2013',\n",
    "                                       '2014',                     '2015',\n",
    "                                       'Rank',                'Documents',\n",
    "                          'Citable documents',                'Citations',\n",
    "                             'Self-citations',   'Citations per document',\n",
    "                                    'H index',                'Continent']\n",
    "    df = df.set_index('Continent')\n",
    "    df['Population'] = np.divide(df['Energy Supply'],df['Energy Supply per Capita'])\n",
    "    df_final = df[['Country','Population']].copy()\n",
    "    res = df_final.groupby(level=0)['Population'].agg({'size':np.count_nonzero,'sum': np.sum,'mean': np.average,'std': np.std})\n",
    "    return res"
   ]
  },
  {
   "cell_type": "markdown",
   "metadata": {},
   "source": [
    "### Question 12 (6.6%)\n",
    "Cut % Renewable into 5 bins. Group Top15 by the Continent, as well as these new % Renewable bins. How many countries are in each of these groups?\n",
    "\n",
    "*This function should return a Series with a MultiIndex of `Continent`, then the bins for `% Renewable`. Do not include groups with no countries.*"
   ]
  },
  {
   "cell_type": "code",
   "execution_count": 15,
   "metadata": {
    "collapsed": false,
    "scrolled": true
   },
   "outputs": [],
   "source": [
    "def answer_twelve():\n",
    "    Top15 = answer_one()\n",
    "    return \"ANSWER\""
   ]
  },
  {
   "cell_type": "markdown",
   "metadata": {},
   "source": [
    "### Question 13 (6.6%)\n",
    "Convert the Population Estimate series to a string with thousands separator (using commas)\n",
    "\n",
    "e.g. 12345678.90 -> 12,345,678.90\n",
    "\n",
    "*This function should return a Series `PopEst` whose index is the country name and whose values are the population estimate string.*"
   ]
  },
  {
   "cell_type": "code",
   "execution_count": 16,
   "metadata": {
    "collapsed": false,
    "scrolled": true
   },
   "outputs": [],
   "source": [
    "def answer_thirteen():\n",
    "    Top15 = answer_one()\n",
    "    return \"ANSWER\""
   ]
  },
  {
   "cell_type": "markdown",
   "metadata": {},
   "source": [
    "### Optional\n",
    "\n",
    "Use the built in function `plot_optional()` to see an example visualization."
   ]
  },
  {
   "cell_type": "code",
   "execution_count": 17,
   "metadata": {
    "collapsed": false,
    "scrolled": true
   },
   "outputs": [],
   "source": [
    "def plot_optional():\n",
    "    import matplotlib as plt\n",
    "    %matplotlib inline\n",
    "    ax = Top15.plot(x='Rank', y='% Renewable', kind='scatter', \n",
    "                    c=['#e41a1c','#377eb8','#e41a1c','#4daf4a','#4daf4a','#377eb8','#4daf4a','#e41a1c',\n",
    "                       '#4daf4a','#e41a1c','#4daf4a','#4daf4a','#e41a1c','#dede00','#ff7f00'], \n",
    "                    xticks=range(1,16), s=6*Top15['2014']/10**10, alpha=.75, figsize=[16,6]);\n",
    "\n",
    "    for i, txt in enumerate(Top15.index):\n",
    "        ax.annotate(txt, [Top15['Rank'][i], Top15['% Renewable'][i]], ha='center')\n",
    "\n",
    "    print(\"This is an example of a visualization that can be created to help understand the data. \\\n",
    "This is a bubble chart showing % Renewable vs. Rank. The size of the bubble corresponds to the countries' \\\n",
    "2014 GDP, and the color corresponds to the continent.\")"
   ]
  },
  {
   "cell_type": "code",
   "execution_count": 18,
   "metadata": {
    "collapsed": false
   },
   "outputs": [],
   "source": [
    "#plot_optional()"
   ]
  }
 ],
 "metadata": {
  "anaconda-cloud": {},
  "coursera": {
   "course_slug": "python-data-analysis",
   "graded_item_id": "zAr06",
   "launcher_item_id": "KSSjT",
   "part_id": "SL3fU"
  },
  "kernelspec": {
   "display_name": "Python 3",
   "language": "python",
   "name": "python3"
  },
  "language_info": {
   "codemirror_mode": {
    "name": "ipython",
    "version": 3
   },
   "file_extension": ".py",
   "mimetype": "text/x-python",
   "name": "python",
   "nbconvert_exporter": "python",
   "pygments_lexer": "ipython3",
   "version": "3.5.4"
  }
 },
 "nbformat": 4,
 "nbformat_minor": 0
}
