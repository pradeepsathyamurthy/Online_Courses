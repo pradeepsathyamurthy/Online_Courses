{
 "cells": [
  {
   "cell_type": "code",
   "execution_count": 1,
   "metadata": {
    "collapsed": true
   },
   "outputs": [],
   "source": [
    "# importing packages\n",
    "import pandas as pd\n",
    "import numpy as np"
   ]
  },
  {
   "cell_type": "code",
   "execution_count": 2,
   "metadata": {
    "collapsed": false
   },
   "outputs": [],
   "source": [
    "# Reading the file Energy Indicators.xls\n",
    "energy = pd.read_excel('Energy Indicators.xls',skiprows=17,na_values='...',skip_footer=38,parse_cols=[2,3,4,5,6] \n",
    "                       ,names=['Country', 'Energy Supply', 'Energy Supply per Capita', '% Renewables'])"
   ]
  },
  {
   "cell_type": "code",
   "execution_count": 3,
   "metadata": {
    "collapsed": false
   },
   "outputs": [],
   "source": [
    "energy.columns = ['Country', 'Energy Supply', 'Energy Supply per Capita', '% Renewables']"
   ]
  },
  {
   "cell_type": "code",
   "execution_count": 4,
   "metadata": {
    "collapsed": false
   },
   "outputs": [
    {
     "data": {
      "text/html": [
       "<div>\n",
       "<table border=\"1\" class=\"dataframe\">\n",
       "  <thead>\n",
       "    <tr style=\"text-align: right;\">\n",
       "      <th></th>\n",
       "      <th>Country</th>\n",
       "      <th>Energy Supply</th>\n",
       "      <th>Energy Supply per Capita</th>\n",
       "      <th>% Renewables</th>\n",
       "    </tr>\n",
       "  </thead>\n",
       "  <tbody>\n",
       "    <tr>\n",
       "      <th>0</th>\n",
       "      <td>Afghanistan</td>\n",
       "      <td>321.0</td>\n",
       "      <td>10.0</td>\n",
       "      <td>78.669280</td>\n",
       "    </tr>\n",
       "    <tr>\n",
       "      <th>1</th>\n",
       "      <td>Albania</td>\n",
       "      <td>102.0</td>\n",
       "      <td>35.0</td>\n",
       "      <td>100.000000</td>\n",
       "    </tr>\n",
       "    <tr>\n",
       "      <th>2</th>\n",
       "      <td>Algeria</td>\n",
       "      <td>1959.0</td>\n",
       "      <td>51.0</td>\n",
       "      <td>0.551010</td>\n",
       "    </tr>\n",
       "    <tr>\n",
       "      <th>3</th>\n",
       "      <td>American Samoa</td>\n",
       "      <td>NaN</td>\n",
       "      <td>NaN</td>\n",
       "      <td>0.641026</td>\n",
       "    </tr>\n",
       "    <tr>\n",
       "      <th>4</th>\n",
       "      <td>Andorra</td>\n",
       "      <td>9.0</td>\n",
       "      <td>121.0</td>\n",
       "      <td>88.695650</td>\n",
       "    </tr>\n",
       "  </tbody>\n",
       "</table>\n",
       "</div>"
      ],
      "text/plain": [
       "          Country  Energy Supply  Energy Supply per Capita  % Renewables\n",
       "0     Afghanistan          321.0                      10.0     78.669280\n",
       "1         Albania          102.0                      35.0    100.000000\n",
       "2         Algeria         1959.0                      51.0      0.551010\n",
       "3  American Samoa            NaN                       NaN      0.641026\n",
       "4         Andorra            9.0                     121.0     88.695650"
      ]
     },
     "execution_count": 4,
     "metadata": {},
     "output_type": "execute_result"
    }
   ],
   "source": [
    "energy.head()"
   ]
  },
  {
   "cell_type": "code",
   "execution_count": 5,
   "metadata": {
    "collapsed": false
   },
   "outputs": [
    {
     "data": {
      "text/html": [
       "<div>\n",
       "<table border=\"1\" class=\"dataframe\">\n",
       "  <thead>\n",
       "    <tr style=\"text-align: right;\">\n",
       "      <th></th>\n",
       "      <th>Country</th>\n",
       "      <th>Energy Supply</th>\n",
       "      <th>Energy Supply per Capita</th>\n",
       "      <th>% Renewables</th>\n",
       "    </tr>\n",
       "  </thead>\n",
       "  <tbody>\n",
       "    <tr>\n",
       "      <th>222</th>\n",
       "      <td>Viet Nam</td>\n",
       "      <td>2554.0</td>\n",
       "      <td>28.0</td>\n",
       "      <td>45.32152</td>\n",
       "    </tr>\n",
       "    <tr>\n",
       "      <th>223</th>\n",
       "      <td>Wallis and Futuna Islands</td>\n",
       "      <td>0.0</td>\n",
       "      <td>26.0</td>\n",
       "      <td>0.00000</td>\n",
       "    </tr>\n",
       "    <tr>\n",
       "      <th>224</th>\n",
       "      <td>Yemen</td>\n",
       "      <td>344.0</td>\n",
       "      <td>13.0</td>\n",
       "      <td>0.00000</td>\n",
       "    </tr>\n",
       "    <tr>\n",
       "      <th>225</th>\n",
       "      <td>Zambia</td>\n",
       "      <td>400.0</td>\n",
       "      <td>26.0</td>\n",
       "      <td>99.71467</td>\n",
       "    </tr>\n",
       "    <tr>\n",
       "      <th>226</th>\n",
       "      <td>Zimbabwe</td>\n",
       "      <td>480.0</td>\n",
       "      <td>32.0</td>\n",
       "      <td>52.53612</td>\n",
       "    </tr>\n",
       "  </tbody>\n",
       "</table>\n",
       "</div>"
      ],
      "text/plain": [
       "                       Country  Energy Supply  Energy Supply per Capita  \\\n",
       "222                   Viet Nam         2554.0                      28.0   \n",
       "223  Wallis and Futuna Islands            0.0                      26.0   \n",
       "224                      Yemen          344.0                      13.0   \n",
       "225                     Zambia          400.0                      26.0   \n",
       "226                   Zimbabwe          480.0                      32.0   \n",
       "\n",
       "     % Renewables  \n",
       "222      45.32152  \n",
       "223       0.00000  \n",
       "224       0.00000  \n",
       "225      99.71467  \n",
       "226      52.53612  "
      ]
     },
     "execution_count": 5,
     "metadata": {},
     "output_type": "execute_result"
    }
   ],
   "source": [
    "energy.tail()"
   ]
  },
  {
   "cell_type": "code",
   "execution_count": 6,
   "metadata": {
    "collapsed": false
   },
   "outputs": [
    {
     "data": {
      "text/plain": [
       "(227, 4)"
      ]
     },
     "execution_count": 6,
     "metadata": {},
     "output_type": "execute_result"
    }
   ],
   "source": [
    "energy.shape"
   ]
  },
  {
   "cell_type": "code",
   "execution_count": 7,
   "metadata": {
    "collapsed": true
   },
   "outputs": [],
   "source": [
    "energy['Energy Supply'] = energy['Energy Supply'] * 1000000"
   ]
  },
  {
   "cell_type": "code",
   "execution_count": 8,
   "metadata": {
    "collapsed": false
   },
   "outputs": [
    {
     "data": {
      "text/html": [
       "<div>\n",
       "<table border=\"1\" class=\"dataframe\">\n",
       "  <thead>\n",
       "    <tr style=\"text-align: right;\">\n",
       "      <th></th>\n",
       "      <th>Country</th>\n",
       "      <th>Energy Supply</th>\n",
       "      <th>Energy Supply per Capita</th>\n",
       "      <th>% Renewables</th>\n",
       "    </tr>\n",
       "  </thead>\n",
       "  <tbody>\n",
       "    <tr>\n",
       "      <th>0</th>\n",
       "      <td>Afghanistan</td>\n",
       "      <td>3.210000e+08</td>\n",
       "      <td>10.0</td>\n",
       "      <td>78.669280</td>\n",
       "    </tr>\n",
       "    <tr>\n",
       "      <th>1</th>\n",
       "      <td>Albania</td>\n",
       "      <td>1.020000e+08</td>\n",
       "      <td>35.0</td>\n",
       "      <td>100.000000</td>\n",
       "    </tr>\n",
       "    <tr>\n",
       "      <th>2</th>\n",
       "      <td>Algeria</td>\n",
       "      <td>1.959000e+09</td>\n",
       "      <td>51.0</td>\n",
       "      <td>0.551010</td>\n",
       "    </tr>\n",
       "    <tr>\n",
       "      <th>3</th>\n",
       "      <td>American Samoa</td>\n",
       "      <td>NaN</td>\n",
       "      <td>NaN</td>\n",
       "      <td>0.641026</td>\n",
       "    </tr>\n",
       "    <tr>\n",
       "      <th>4</th>\n",
       "      <td>Andorra</td>\n",
       "      <td>9.000000e+06</td>\n",
       "      <td>121.0</td>\n",
       "      <td>88.695650</td>\n",
       "    </tr>\n",
       "  </tbody>\n",
       "</table>\n",
       "</div>"
      ],
      "text/plain": [
       "          Country  Energy Supply  Energy Supply per Capita  % Renewables\n",
       "0     Afghanistan   3.210000e+08                      10.0     78.669280\n",
       "1         Albania   1.020000e+08                      35.0    100.000000\n",
       "2         Algeria   1.959000e+09                      51.0      0.551010\n",
       "3  American Samoa            NaN                       NaN      0.641026\n",
       "4         Andorra   9.000000e+06                     121.0     88.695650"
      ]
     },
     "execution_count": 8,
     "metadata": {},
     "output_type": "execute_result"
    }
   ],
   "source": [
    "energy.head()"
   ]
  },
  {
   "cell_type": "code",
   "execution_count": 9,
   "metadata": {
    "collapsed": false
   },
   "outputs": [],
   "source": [
    "energy = energy.reset_index()"
   ]
  },
  {
   "cell_type": "code",
   "execution_count": 10,
   "metadata": {
    "collapsed": false
   },
   "outputs": [],
   "source": [
    "energy['Country_M'] = energy['Country']"
   ]
  },
  {
   "cell_type": "code",
   "execution_count": 11,
   "metadata": {
    "collapsed": false
   },
   "outputs": [],
   "source": [
    "energy = energy.set_index('Country')"
   ]
  },
  {
   "cell_type": "code",
   "execution_count": 12,
   "metadata": {
    "collapsed": false
   },
   "outputs": [
    {
     "data": {
      "text/html": [
       "<div>\n",
       "<table border=\"1\" class=\"dataframe\">\n",
       "  <thead>\n",
       "    <tr style=\"text-align: right;\">\n",
       "      <th></th>\n",
       "      <th>index</th>\n",
       "      <th>Energy Supply</th>\n",
       "      <th>Energy Supply per Capita</th>\n",
       "      <th>% Renewables</th>\n",
       "      <th>Country_M</th>\n",
       "    </tr>\n",
       "    <tr>\n",
       "      <th>Country</th>\n",
       "      <th></th>\n",
       "      <th></th>\n",
       "      <th></th>\n",
       "      <th></th>\n",
       "      <th></th>\n",
       "    </tr>\n",
       "  </thead>\n",
       "  <tbody>\n",
       "    <tr>\n",
       "      <th>Afghanistan</th>\n",
       "      <td>0.0</td>\n",
       "      <td>3.210000e+08</td>\n",
       "      <td>10.0</td>\n",
       "      <td>78.669280</td>\n",
       "      <td>Afghanistan</td>\n",
       "    </tr>\n",
       "    <tr>\n",
       "      <th>Albania</th>\n",
       "      <td>1.0</td>\n",
       "      <td>1.020000e+08</td>\n",
       "      <td>35.0</td>\n",
       "      <td>100.000000</td>\n",
       "      <td>Albania</td>\n",
       "    </tr>\n",
       "    <tr>\n",
       "      <th>Algeria</th>\n",
       "      <td>2.0</td>\n",
       "      <td>1.959000e+09</td>\n",
       "      <td>51.0</td>\n",
       "      <td>0.551010</td>\n",
       "      <td>Algeria</td>\n",
       "    </tr>\n",
       "    <tr>\n",
       "      <th>American Samoa</th>\n",
       "      <td>3.0</td>\n",
       "      <td>NaN</td>\n",
       "      <td>NaN</td>\n",
       "      <td>0.641026</td>\n",
       "      <td>American Samoa</td>\n",
       "    </tr>\n",
       "    <tr>\n",
       "      <th>Andorra</th>\n",
       "      <td>4.0</td>\n",
       "      <td>9.000000e+06</td>\n",
       "      <td>121.0</td>\n",
       "      <td>88.695650</td>\n",
       "      <td>Andorra</td>\n",
       "    </tr>\n",
       "  </tbody>\n",
       "</table>\n",
       "</div>"
      ],
      "text/plain": [
       "                index  Energy Supply  Energy Supply per Capita  % Renewables  \\\n",
       "Country                                                                        \n",
       "Afghanistan       0.0   3.210000e+08                      10.0     78.669280   \n",
       "Albania           1.0   1.020000e+08                      35.0    100.000000   \n",
       "Algeria           2.0   1.959000e+09                      51.0      0.551010   \n",
       "American Samoa    3.0            NaN                       NaN      0.641026   \n",
       "Andorra           4.0   9.000000e+06                     121.0     88.695650   \n",
       "\n",
       "                     Country_M  \n",
       "Country                         \n",
       "Afghanistan        Afghanistan  \n",
       "Albania                Albania  \n",
       "Algeria                Algeria  \n",
       "American Samoa  American Samoa  \n",
       "Andorra                Andorra  "
      ]
     },
     "execution_count": 12,
     "metadata": {},
     "output_type": "execute_result"
    }
   ],
   "source": [
    "energy.set_value('Republic of Korea','Country_M','South Korea')\n",
    "energy.set_value('United States of America','Country_M','United States')\n",
    "energy.set_value('United Kingdom of Great Britain and Northern Ireland','Country_M','United Kingdom')\n",
    "energy.set_value('China, Hong Kong Special Administrative Region','Country_M','Hong Kong')\n",
    "energy.head(5)"
   ]
  },
  {
   "cell_type": "code",
   "execution_count": 13,
   "metadata": {
    "collapsed": false
   },
   "outputs": [
    {
     "data": {
      "text/plain": [
       "index                               164\n",
       "Energy Supply                1.1007e+10\n",
       "Energy Supply per Capita            221\n",
       "% Renewables                    2.27935\n",
       "Country_M                   South Korea\n",
       "Name: Republic of Korea, dtype: object"
      ]
     },
     "execution_count": 13,
     "metadata": {},
     "output_type": "execute_result"
    }
   ],
   "source": [
    "# checking the Country_M column to see if the change got reflected\n",
    "energy.loc['Republic of Korea']"
   ]
  },
  {
   "cell_type": "code",
   "execution_count": 14,
   "metadata": {
    "collapsed": false
   },
   "outputs": [],
   "source": [
    "# removing () from Country names\n",
    "for names in energy.index:\n",
    "    if names.find('(') > -1 or names.find(')') >-1:\n",
    "        #print(names[:names.find('(')])\n",
    "        energy.set_value(names,'Country_M',names[:names.find('(')])"
   ]
  },
  {
   "cell_type": "code",
   "execution_count": null,
   "metadata": {
    "collapsed": false
   },
   "outputs": [],
   "source": [
    "# importing world_bank data\n",
    "GDP = pd.read_csv('world_bank.csv',skiprows=4)"
   ]
  },
  {
   "cell_type": "code",
   "execution_count": null,
   "metadata": {
    "collapsed": false
   },
   "outputs": [],
   "source": [
    "GDP.head()"
   ]
  },
  {
   "cell_type": "code",
   "execution_count": null,
   "metadata": {
    "collapsed": false
   },
   "outputs": [],
   "source": [
    "GDP.columns"
   ]
  },
  {
   "cell_type": "code",
   "execution_count": null,
   "metadata": {
    "collapsed": true
   },
   "outputs": [],
   "source": [
    "GDP['Country_M'] = GDP['Country Name']\n",
    "GDP = GDP.set_index('Country Name')"
   ]
  },
  {
   "cell_type": "code",
   "execution_count": null,
   "metadata": {
    "collapsed": false
   },
   "outputs": [],
   "source": [
    "GDP.head()"
   ]
  },
  {
   "cell_type": "code",
   "execution_count": null,
   "metadata": {
    "collapsed": false
   },
   "outputs": [],
   "source": [
    "GDP.set_value('Korea, Rep.','Country_M','South Korea')\n",
    "GDP.set_value('Iran, Islamic Rep.','Country_M','Iran')\n",
    "GDP.set_value('Hong Kong SAR, China','Country_M','Hong Kong')"
   ]
  },
  {
   "cell_type": "code",
   "execution_count": null,
   "metadata": {
    "collapsed": true
   },
   "outputs": [],
   "source": [
    "GDP.reset_index(drop=True,inplace=True)"
   ]
  },
  {
   "cell_type": "code",
   "execution_count": null,
   "metadata": {
    "collapsed": false
   },
   "outputs": [],
   "source": [
    "GDP.columns = ['Country Code', 'Indicator Name', 'Indicator Code', '1960', '1961',\n",
    "       '1962', '1963', '1964', '1965', '1966', '1967', '1968', '1969', '1970',\n",
    "       '1971', '1972', '1973', '1974', '1975', '1976', '1977', '1978', '1979',\n",
    "       '1980', '1981', '1982', '1983', '1984', '1985', '1986', '1987', '1988',\n",
    "       '1989', '1990', '1991', '1992', '1993', '1994', '1995', '1996', '1997',\n",
    "       '1998', '1999', '2000', '2001', '2002', '2003', '2004', '2005', '2006',\n",
    "       '2007', '2008', '2009', '2010', '2011', '2012', '2013', '2014', '2015',\n",
    "       'Country']"
   ]
  },
  {
   "cell_type": "code",
   "execution_count": null,
   "metadata": {
    "collapsed": false
   },
   "outputs": [],
   "source": [
    "GDP.head()"
   ]
  },
  {
   "cell_type": "code",
   "execution_count": null,
   "metadata": {
    "collapsed": true
   },
   "outputs": [],
   "source": [
    "ScimEn = pd.read_excel('scimagojr.xlsx')"
   ]
  },
  {
   "cell_type": "code",
   "execution_count": null,
   "metadata": {
    "collapsed": false
   },
   "outputs": [],
   "source": [
    "ScimEn.head()"
   ]
  },
  {
   "cell_type": "code",
   "execution_count": null,
   "metadata": {
    "collapsed": false
   },
   "outputs": [],
   "source": [
    "GDP_col_needed = list(np.arange(2006,2016,1))\n",
    "GDP_col_needed = list(map(str,GDP_col_needed))\n",
    "GDP_col_needed.append('Country')\n",
    "GDP_col_needed"
   ]
  },
  {
   "cell_type": "code",
   "execution_count": null,
   "metadata": {
    "collapsed": false
   },
   "outputs": [],
   "source": [
    "GDP_DF2 = GDP[GDP_col_needed]\n",
    "GDP_DF2.head(5)"
   ]
  },
  {
   "cell_type": "code",
   "execution_count": null,
   "metadata": {
    "collapsed": false
   },
   "outputs": [],
   "source": [
    "energy.head(2)"
   ]
  },
  {
   "cell_type": "code",
   "execution_count": null,
   "metadata": {
    "collapsed": false
   },
   "outputs": [],
   "source": [
    "ScimEn.head(2)"
   ]
  },
  {
   "cell_type": "code",
   "execution_count": null,
   "metadata": {
    "collapsed": false
   },
   "outputs": [],
   "source": [
    "GDP_DF2.head(2)"
   ]
  },
  {
   "cell_type": "code",
   "execution_count": null,
   "metadata": {
    "collapsed": true
   },
   "outputs": [],
   "source": [
    "GDP_final = GDP_DF2"
   ]
  },
  {
   "cell_type": "code",
   "execution_count": null,
   "metadata": {
    "collapsed": false
   },
   "outputs": [],
   "source": [
    "GDP_final.shape"
   ]
  },
  {
   "cell_type": "code",
   "execution_count": null,
   "metadata": {
    "collapsed": false
   },
   "outputs": [],
   "source": [
    "sci_Condi = (ScimEn.Rank >= 0) & (ScimEn.Rank <= 15)"
   ]
  },
  {
   "cell_type": "code",
   "execution_count": null,
   "metadata": {
    "collapsed": false
   },
   "outputs": [],
   "source": [
    "sci_Condi_final = ScimEn[sci_Condi]"
   ]
  },
  {
   "cell_type": "code",
   "execution_count": null,
   "metadata": {
    "collapsed": false
   },
   "outputs": [],
   "source": [
    "sci_Condi_final.shape"
   ]
  },
  {
   "cell_type": "code",
   "execution_count": null,
   "metadata": {
    "collapsed": true
   },
   "outputs": [],
   "source": [
    "energy_gdp_df = pd.merge(energy,GDP_final,how='inner',left_on='Country',right_on='Country',copy=True)"
   ]
  },
  {
   "cell_type": "code",
   "execution_count": null,
   "metadata": {
    "collapsed": false
   },
   "outputs": [],
   "source": [
    "energy_gdp_df.shape"
   ]
  },
  {
   "cell_type": "code",
   "execution_count": null,
   "metadata": {
    "collapsed": false
   },
   "outputs": [],
   "source": [
    "energy_gdp_df.head(2)"
   ]
  },
  {
   "cell_type": "code",
   "execution_count": null,
   "metadata": {
    "collapsed": true
   },
   "outputs": [],
   "source": [
    "final_df = pd.merge(energy_gdp_df,sci_Condi_final,how='inner',left_on='Country',right_on='Country',copy=True)"
   ]
  },
  {
   "cell_type": "code",
   "execution_count": null,
   "metadata": {
    "collapsed": false
   },
   "outputs": [],
   "source": [
    "final_df.shape"
   ]
  },
  {
   "cell_type": "code",
   "execution_count": null,
   "metadata": {
    "collapsed": false
   },
   "outputs": [],
   "source": [
    "final_df"
   ]
  },
  {
   "cell_type": "code",
   "execution_count": null,
   "metadata": {
    "collapsed": false
   },
   "outputs": [],
   "source": [
    "energy.columns"
   ]
  },
  {
   "cell_type": "code",
   "execution_count": null,
   "metadata": {
    "collapsed": false
   },
   "outputs": [],
   "source": [
    "GDP_final.columns"
   ]
  },
  {
   "cell_type": "code",
   "execution_count": null,
   "metadata": {
    "collapsed": false
   },
   "outputs": [],
   "source": [
    "sci_Condi_final.columns"
   ]
  },
  {
   "cell_type": "code",
   "execution_count": 137,
   "metadata": {
    "collapsed": false
   },
   "outputs": [],
   "source": [
    "def energy():\n",
    "    energy = pd.read_excel('Energy Indicators.xls',skiprows=17,na_values='...',skip_footer=38,parse_cols=[2,3,4,5,6] \n",
    "                       ,names=['Country', 'Energy Supply', 'Energy Supply per Capita', '% Renewables'])\n",
    "    energy.columns = ['Country', 'Energy Supply', 'Energy Supply per Capita', '% Renewables']\n",
    "    energy['Energy Supply'] = energy['Energy Supply'] * 1000000\n",
    "    \n",
    "    energy['Country_M'] = energy['Country']\n",
    "    energy = energy.set_index('Country')\n",
    "    \n",
    "    for country in energy.index:\n",
    "        if (country.endswith(('1','2','3','4','5','6','7','8','9','0'))):\n",
    "            country_edit = country[:-1]\n",
    "            print('Country1>>',country_edit)\n",
    "            if (country_edit.endswith(('1','2','3','4','5','6','7','8','9','0'))):\n",
    "                country_edit = country_edit[:-1]\n",
    "                print('Country2>>>',country_edit)\n",
    "                energy.set_value(country,'Country_M',country_edit)\n",
    "    \n",
    "    #energy['Country_E'] = energy['Country_M']\n",
    "    #energy = energy.set_index('Country_M')\n",
    "    #print(energy.columns)\n",
    "    \n",
    "#     dicts = {'Republic of Korea': 'South Korea',\n",
    "#                'United States of America': 'United States',\n",
    "#                'United Kingdom of Great Britain and Northern Ireland': 'United Kingdom',\n",
    "#                'China, Hong Kong Special Administrative Region': 'Hong Kong'}\n",
    "#     for country in energy.index:\n",
    "#         for key,value in dicts.items():\n",
    "#             #print('country>>>>',country)\n",
    "#             #print('key>>>>',key)\n",
    "#             if (key==country):\n",
    "#                 energy.set_value(key,'Country_E',value)\n",
    "        \n",
    "#     # removing () from Country names\n",
    "#     for names in energy.index:\n",
    "#         if names.find('(') > -1 or names.find(')') >-1:\n",
    "#             #print(names[:names.find('(')])\n",
    "#             energy.set_value(names,'Country_E',names[:names.find('(')])\n",
    "#     energy.reset_index(drop=True,inplace=True)\n",
    "#     energy.columns = ['Energy Supply', 'Energy Supply per Capita', '% Renewables','Country']\n",
    "    return energy"
   ]
  },
  {
   "cell_type": "code",
   "execution_count": 138,
   "metadata": {
    "collapsed": false
   },
   "outputs": [
    {
     "name": "stdout",
     "output_type": "stream",
     "text": [
      "Country1>> Australia\n",
      "Country1>> China\n",
      "Country1>> China, Hong Kong Special Administrative Region\n",
      "Country1>> China, Macao Special Administrative Region\n",
      "Country1>> Denmark\n",
      "Country1>> France\n",
      "Country1>> Greenland\n",
      "Country1>> Indonesia\n",
      "Country1>> Italy\n",
      "Country1>> Japan1\n",
      "Country2>>> Japan\n",
      "Country1>> Kuwait1\n",
      "Country2>>> Kuwait\n",
      "Country1>> Netherlands1\n",
      "Country2>>> Netherlands\n",
      "Country1>> Portugal1\n",
      "Country2>>> Portugal\n",
      "Country1>> Saudi Arabia1\n",
      "Country2>>> Saudi Arabia\n",
      "Country1>> Serbia1\n",
      "Country2>>> Serbia\n",
      "Country1>> Spain1\n",
      "Country2>>> Spain\n",
      "Country1>> Switzerland1\n",
      "Country2>>> Switzerland\n",
      "Country1>> Ukraine1\n",
      "Country2>>> Ukraine\n",
      "Country1>> United Kingdom of Great Britain and Northern Ireland1\n",
      "Country2>>> United Kingdom of Great Britain and Northern Ireland\n",
      "Country1>> United States of America2\n",
      "Country2>>> United States of America\n"
     ]
    }
   ],
   "source": [
    "energy_df = energy()"
   ]
  },
  {
   "cell_type": "code",
   "execution_count": 139,
   "metadata": {
    "collapsed": false
   },
   "outputs": [
    {
     "data": {
      "text/html": [
       "<div>\n",
       "<table border=\"1\" class=\"dataframe\">\n",
       "  <thead>\n",
       "    <tr style=\"text-align: right;\">\n",
       "      <th></th>\n",
       "      <th>Energy Supply</th>\n",
       "      <th>Energy Supply per Capita</th>\n",
       "      <th>% Renewables</th>\n",
       "      <th>Country_M</th>\n",
       "    </tr>\n",
       "    <tr>\n",
       "      <th>Country</th>\n",
       "      <th></th>\n",
       "      <th></th>\n",
       "      <th></th>\n",
       "      <th></th>\n",
       "    </tr>\n",
       "  </thead>\n",
       "  <tbody>\n",
       "    <tr>\n",
       "      <th>Afghanistan</th>\n",
       "      <td>3.210000e+08</td>\n",
       "      <td>10.0</td>\n",
       "      <td>78.669280</td>\n",
       "      <td>Afghanistan</td>\n",
       "    </tr>\n",
       "    <tr>\n",
       "      <th>Albania</th>\n",
       "      <td>1.020000e+08</td>\n",
       "      <td>35.0</td>\n",
       "      <td>100.000000</td>\n",
       "      <td>Albania</td>\n",
       "    </tr>\n",
       "    <tr>\n",
       "      <th>Algeria</th>\n",
       "      <td>1.959000e+09</td>\n",
       "      <td>51.0</td>\n",
       "      <td>0.551010</td>\n",
       "      <td>Algeria</td>\n",
       "    </tr>\n",
       "    <tr>\n",
       "      <th>American Samoa</th>\n",
       "      <td>NaN</td>\n",
       "      <td>NaN</td>\n",
       "      <td>0.641026</td>\n",
       "      <td>American Samoa</td>\n",
       "    </tr>\n",
       "    <tr>\n",
       "      <th>Andorra</th>\n",
       "      <td>9.000000e+06</td>\n",
       "      <td>121.0</td>\n",
       "      <td>88.695650</td>\n",
       "      <td>Andorra</td>\n",
       "    </tr>\n",
       "    <tr>\n",
       "      <th>Angola</th>\n",
       "      <td>6.420000e+08</td>\n",
       "      <td>27.0</td>\n",
       "      <td>70.909090</td>\n",
       "      <td>Angola</td>\n",
       "    </tr>\n",
       "    <tr>\n",
       "      <th>Anguilla</th>\n",
       "      <td>2.000000e+06</td>\n",
       "      <td>136.0</td>\n",
       "      <td>0.000000</td>\n",
       "      <td>Anguilla</td>\n",
       "    </tr>\n",
       "    <tr>\n",
       "      <th>Antigua and Barbuda</th>\n",
       "      <td>8.000000e+06</td>\n",
       "      <td>84.0</td>\n",
       "      <td>0.000000</td>\n",
       "      <td>Antigua and Barbuda</td>\n",
       "    </tr>\n",
       "    <tr>\n",
       "      <th>Argentina</th>\n",
       "      <td>3.378000e+09</td>\n",
       "      <td>79.0</td>\n",
       "      <td>24.064520</td>\n",
       "      <td>Argentina</td>\n",
       "    </tr>\n",
       "    <tr>\n",
       "      <th>Armenia</th>\n",
       "      <td>1.430000e+08</td>\n",
       "      <td>48.0</td>\n",
       "      <td>28.236060</td>\n",
       "      <td>Armenia</td>\n",
       "    </tr>\n",
       "    <tr>\n",
       "      <th>Aruba</th>\n",
       "      <td>1.200000e+07</td>\n",
       "      <td>120.0</td>\n",
       "      <td>14.870690</td>\n",
       "      <td>Aruba</td>\n",
       "    </tr>\n",
       "    <tr>\n",
       "      <th>Australia1</th>\n",
       "      <td>5.386000e+09</td>\n",
       "      <td>231.0</td>\n",
       "      <td>11.810810</td>\n",
       "      <td>Australia1</td>\n",
       "    </tr>\n",
       "    <tr>\n",
       "      <th>Austria</th>\n",
       "      <td>1.391000e+09</td>\n",
       "      <td>164.0</td>\n",
       "      <td>72.452820</td>\n",
       "      <td>Austria</td>\n",
       "    </tr>\n",
       "    <tr>\n",
       "      <th>Azerbaijan</th>\n",
       "      <td>5.670000e+08</td>\n",
       "      <td>60.0</td>\n",
       "      <td>6.384345</td>\n",
       "      <td>Azerbaijan</td>\n",
       "    </tr>\n",
       "    <tr>\n",
       "      <th>Bahamas</th>\n",
       "      <td>4.500000e+07</td>\n",
       "      <td>118.0</td>\n",
       "      <td>0.000000</td>\n",
       "      <td>Bahamas</td>\n",
       "    </tr>\n",
       "    <tr>\n",
       "      <th>Bahrain</th>\n",
       "      <td>5.740000e+08</td>\n",
       "      <td>425.0</td>\n",
       "      <td>0.000000</td>\n",
       "      <td>Bahrain</td>\n",
       "    </tr>\n",
       "    <tr>\n",
       "      <th>Bangladesh</th>\n",
       "      <td>1.625000e+09</td>\n",
       "      <td>10.0</td>\n",
       "      <td>1.966329</td>\n",
       "      <td>Bangladesh</td>\n",
       "    </tr>\n",
       "    <tr>\n",
       "      <th>Barbados</th>\n",
       "      <td>1.900000e+07</td>\n",
       "      <td>69.0</td>\n",
       "      <td>0.000000</td>\n",
       "      <td>Barbados</td>\n",
       "    </tr>\n",
       "    <tr>\n",
       "      <th>Belarus</th>\n",
       "      <td>1.142000e+09</td>\n",
       "      <td>120.0</td>\n",
       "      <td>0.463389</td>\n",
       "      <td>Belarus</td>\n",
       "    </tr>\n",
       "    <tr>\n",
       "      <th>Belgium</th>\n",
       "      <td>2.338000e+09</td>\n",
       "      <td>210.0</td>\n",
       "      <td>9.959739</td>\n",
       "      <td>Belgium</td>\n",
       "    </tr>\n",
       "    <tr>\n",
       "      <th>Belize</th>\n",
       "      <td>1.300000e+07</td>\n",
       "      <td>39.0</td>\n",
       "      <td>64.690030</td>\n",
       "      <td>Belize</td>\n",
       "    </tr>\n",
       "    <tr>\n",
       "      <th>Benin</th>\n",
       "      <td>1.700000e+08</td>\n",
       "      <td>16.0</td>\n",
       "      <td>0.000000</td>\n",
       "      <td>Benin</td>\n",
       "    </tr>\n",
       "    <tr>\n",
       "      <th>Bermuda</th>\n",
       "      <td>6.000000e+06</td>\n",
       "      <td>88.0</td>\n",
       "      <td>0.000000</td>\n",
       "      <td>Bermuda</td>\n",
       "    </tr>\n",
       "    <tr>\n",
       "      <th>Bhutan</th>\n",
       "      <td>6.300000e+07</td>\n",
       "      <td>83.0</td>\n",
       "      <td>100.000000</td>\n",
       "      <td>Bhutan</td>\n",
       "    </tr>\n",
       "    <tr>\n",
       "      <th>Bolivia (Plurinational State of)</th>\n",
       "      <td>3.360000e+08</td>\n",
       "      <td>32.0</td>\n",
       "      <td>31.477120</td>\n",
       "      <td>Bolivia (Plurinational State of)</td>\n",
       "    </tr>\n",
       "    <tr>\n",
       "      <th>Bonaire, Sint Eustatius and Saba</th>\n",
       "      <td>5.000000e+06</td>\n",
       "      <td>213.0</td>\n",
       "      <td>0.000000</td>\n",
       "      <td>Bonaire, Sint Eustatius and Saba</td>\n",
       "    </tr>\n",
       "    <tr>\n",
       "      <th>Bosnia and Herzegovina</th>\n",
       "      <td>2.660000e+08</td>\n",
       "      <td>70.0</td>\n",
       "      <td>41.464670</td>\n",
       "      <td>Bosnia and Herzegovina</td>\n",
       "    </tr>\n",
       "    <tr>\n",
       "      <th>Botswana</th>\n",
       "      <td>8.600000e+07</td>\n",
       "      <td>39.0</td>\n",
       "      <td>0.131406</td>\n",
       "      <td>Botswana</td>\n",
       "    </tr>\n",
       "    <tr>\n",
       "      <th>Brazil</th>\n",
       "      <td>1.214900e+10</td>\n",
       "      <td>59.0</td>\n",
       "      <td>69.648030</td>\n",
       "      <td>Brazil</td>\n",
       "    </tr>\n",
       "    <tr>\n",
       "      <th>British Virgin Islands</th>\n",
       "      <td>2.000000e+06</td>\n",
       "      <td>85.0</td>\n",
       "      <td>0.000000</td>\n",
       "      <td>British Virgin Islands</td>\n",
       "    </tr>\n",
       "    <tr>\n",
       "      <th>Brunei Darussalam</th>\n",
       "      <td>1.270000e+08</td>\n",
       "      <td>310.0</td>\n",
       "      <td>0.045434</td>\n",
       "      <td>Brunei Darussalam</td>\n",
       "    </tr>\n",
       "    <tr>\n",
       "      <th>Bulgaria</th>\n",
       "      <td>7.030000e+08</td>\n",
       "      <td>97.0</td>\n",
       "      <td>17.234610</td>\n",
       "      <td>Bulgaria</td>\n",
       "    </tr>\n",
       "    <tr>\n",
       "      <th>Burkina Faso</th>\n",
       "      <td>1.640000e+08</td>\n",
       "      <td>10.0</td>\n",
       "      <td>14.500680</td>\n",
       "      <td>Burkina Faso</td>\n",
       "    </tr>\n",
       "    <tr>\n",
       "      <th>Burundi</th>\n",
       "      <td>5.800000e+07</td>\n",
       "      <td>6.0</td>\n",
       "      <td>86.792450</td>\n",
       "      <td>Burundi</td>\n",
       "    </tr>\n",
       "    <tr>\n",
       "      <th>Cabo Verde</th>\n",
       "      <td>7.000000e+06</td>\n",
       "      <td>15.0</td>\n",
       "      <td>21.227620</td>\n",
       "      <td>Cabo Verde</td>\n",
       "    </tr>\n",
       "    <tr>\n",
       "      <th>Cambodia</th>\n",
       "      <td>2.500000e+08</td>\n",
       "      <td>17.0</td>\n",
       "      <td>57.311590</td>\n",
       "      <td>Cambodia</td>\n",
       "    </tr>\n",
       "    <tr>\n",
       "      <th>Cameroon</th>\n",
       "      <td>3.070000e+08</td>\n",
       "      <td>14.0</td>\n",
       "      <td>70.886260</td>\n",
       "      <td>Cameroon</td>\n",
       "    </tr>\n",
       "    <tr>\n",
       "      <th>Canada</th>\n",
       "      <td>1.043100e+10</td>\n",
       "      <td>296.0</td>\n",
       "      <td>61.945430</td>\n",
       "      <td>Canada</td>\n",
       "    </tr>\n",
       "    <tr>\n",
       "      <th>Cayman Islands</th>\n",
       "      <td>8.000000e+06</td>\n",
       "      <td>131.0</td>\n",
       "      <td>0.000000</td>\n",
       "      <td>Cayman Islands</td>\n",
       "    </tr>\n",
       "    <tr>\n",
       "      <th>Central African Republic</th>\n",
       "      <td>2.300000e+07</td>\n",
       "      <td>5.0</td>\n",
       "      <td>85.635360</td>\n",
       "      <td>Central African Republic</td>\n",
       "    </tr>\n",
       "    <tr>\n",
       "      <th>Chad</th>\n",
       "      <td>7.700000e+07</td>\n",
       "      <td>6.0</td>\n",
       "      <td>0.000000</td>\n",
       "      <td>Chad</td>\n",
       "    </tr>\n",
       "    <tr>\n",
       "      <th>Chile</th>\n",
       "      <td>1.613000e+09</td>\n",
       "      <td>92.0</td>\n",
       "      <td>28.006570</td>\n",
       "      <td>Chile</td>\n",
       "    </tr>\n",
       "    <tr>\n",
       "      <th>China2</th>\n",
       "      <td>1.271910e+11</td>\n",
       "      <td>93.0</td>\n",
       "      <td>19.754910</td>\n",
       "      <td>China2</td>\n",
       "    </tr>\n",
       "    <tr>\n",
       "      <th>China, Hong Kong Special Administrative Region3</th>\n",
       "      <td>5.850000e+08</td>\n",
       "      <td>82.0</td>\n",
       "      <td>0.000000</td>\n",
       "      <td>China, Hong Kong Special Administrative Region3</td>\n",
       "    </tr>\n",
       "    <tr>\n",
       "      <th>China, Macao Special Administrative Region4</th>\n",
       "      <td>4.700000e+07</td>\n",
       "      <td>83.0</td>\n",
       "      <td>0.000000</td>\n",
       "      <td>China, Macao Special Administrative Region4</td>\n",
       "    </tr>\n",
       "    <tr>\n",
       "      <th>Colombia</th>\n",
       "      <td>1.513000e+09</td>\n",
       "      <td>32.0</td>\n",
       "      <td>63.002840</td>\n",
       "      <td>Colombia</td>\n",
       "    </tr>\n",
       "    <tr>\n",
       "      <th>Comoros</th>\n",
       "      <td>5.000000e+06</td>\n",
       "      <td>7.0</td>\n",
       "      <td>11.627910</td>\n",
       "      <td>Comoros</td>\n",
       "    </tr>\n",
       "    <tr>\n",
       "      <th>Congo</th>\n",
       "      <td>1.020000e+08</td>\n",
       "      <td>23.0</td>\n",
       "      <td>57.748870</td>\n",
       "      <td>Congo</td>\n",
       "    </tr>\n",
       "    <tr>\n",
       "      <th>Cook Islands</th>\n",
       "      <td>1.000000e+06</td>\n",
       "      <td>48.0</td>\n",
       "      <td>0.000000</td>\n",
       "      <td>Cook Islands</td>\n",
       "    </tr>\n",
       "    <tr>\n",
       "      <th>Costa Rica</th>\n",
       "      <td>2.220000e+08</td>\n",
       "      <td>47.0</td>\n",
       "      <td>88.736420</td>\n",
       "      <td>Costa Rica</td>\n",
       "    </tr>\n",
       "  </tbody>\n",
       "</table>\n",
       "</div>"
      ],
      "text/plain": [
       "                                                 Energy Supply  \\\n",
       "Country                                                          \n",
       "Afghanistan                                       3.210000e+08   \n",
       "Albania                                           1.020000e+08   \n",
       "Algeria                                           1.959000e+09   \n",
       "American Samoa                                             NaN   \n",
       "Andorra                                           9.000000e+06   \n",
       "Angola                                            6.420000e+08   \n",
       "Anguilla                                          2.000000e+06   \n",
       "Antigua and Barbuda                               8.000000e+06   \n",
       "Argentina                                         3.378000e+09   \n",
       "Armenia                                           1.430000e+08   \n",
       "Aruba                                             1.200000e+07   \n",
       "Australia1                                        5.386000e+09   \n",
       "Austria                                           1.391000e+09   \n",
       "Azerbaijan                                        5.670000e+08   \n",
       "Bahamas                                           4.500000e+07   \n",
       "Bahrain                                           5.740000e+08   \n",
       "Bangladesh                                        1.625000e+09   \n",
       "Barbados                                          1.900000e+07   \n",
       "Belarus                                           1.142000e+09   \n",
       "Belgium                                           2.338000e+09   \n",
       "Belize                                            1.300000e+07   \n",
       "Benin                                             1.700000e+08   \n",
       "Bermuda                                           6.000000e+06   \n",
       "Bhutan                                            6.300000e+07   \n",
       "Bolivia (Plurinational State of)                  3.360000e+08   \n",
       "Bonaire, Sint Eustatius and Saba                  5.000000e+06   \n",
       "Bosnia and Herzegovina                            2.660000e+08   \n",
       "Botswana                                          8.600000e+07   \n",
       "Brazil                                            1.214900e+10   \n",
       "British Virgin Islands                            2.000000e+06   \n",
       "Brunei Darussalam                                 1.270000e+08   \n",
       "Bulgaria                                          7.030000e+08   \n",
       "Burkina Faso                                      1.640000e+08   \n",
       "Burundi                                           5.800000e+07   \n",
       "Cabo Verde                                        7.000000e+06   \n",
       "Cambodia                                          2.500000e+08   \n",
       "Cameroon                                          3.070000e+08   \n",
       "Canada                                            1.043100e+10   \n",
       "Cayman Islands                                    8.000000e+06   \n",
       "Central African Republic                          2.300000e+07   \n",
       "Chad                                              7.700000e+07   \n",
       "Chile                                             1.613000e+09   \n",
       "China2                                            1.271910e+11   \n",
       "China, Hong Kong Special Administrative Region3   5.850000e+08   \n",
       "China, Macao Special Administrative Region4       4.700000e+07   \n",
       "Colombia                                          1.513000e+09   \n",
       "Comoros                                           5.000000e+06   \n",
       "Congo                                             1.020000e+08   \n",
       "Cook Islands                                      1.000000e+06   \n",
       "Costa Rica                                        2.220000e+08   \n",
       "\n",
       "                                                 Energy Supply per Capita  \\\n",
       "Country                                                                     \n",
       "Afghanistan                                                          10.0   \n",
       "Albania                                                              35.0   \n",
       "Algeria                                                              51.0   \n",
       "American Samoa                                                        NaN   \n",
       "Andorra                                                             121.0   \n",
       "Angola                                                               27.0   \n",
       "Anguilla                                                            136.0   \n",
       "Antigua and Barbuda                                                  84.0   \n",
       "Argentina                                                            79.0   \n",
       "Armenia                                                              48.0   \n",
       "Aruba                                                               120.0   \n",
       "Australia1                                                          231.0   \n",
       "Austria                                                             164.0   \n",
       "Azerbaijan                                                           60.0   \n",
       "Bahamas                                                             118.0   \n",
       "Bahrain                                                             425.0   \n",
       "Bangladesh                                                           10.0   \n",
       "Barbados                                                             69.0   \n",
       "Belarus                                                             120.0   \n",
       "Belgium                                                             210.0   \n",
       "Belize                                                               39.0   \n",
       "Benin                                                                16.0   \n",
       "Bermuda                                                              88.0   \n",
       "Bhutan                                                               83.0   \n",
       "Bolivia (Plurinational State of)                                     32.0   \n",
       "Bonaire, Sint Eustatius and Saba                                    213.0   \n",
       "Bosnia and Herzegovina                                               70.0   \n",
       "Botswana                                                             39.0   \n",
       "Brazil                                                               59.0   \n",
       "British Virgin Islands                                               85.0   \n",
       "Brunei Darussalam                                                   310.0   \n",
       "Bulgaria                                                             97.0   \n",
       "Burkina Faso                                                         10.0   \n",
       "Burundi                                                               6.0   \n",
       "Cabo Verde                                                           15.0   \n",
       "Cambodia                                                             17.0   \n",
       "Cameroon                                                             14.0   \n",
       "Canada                                                              296.0   \n",
       "Cayman Islands                                                      131.0   \n",
       "Central African Republic                                              5.0   \n",
       "Chad                                                                  6.0   \n",
       "Chile                                                                92.0   \n",
       "China2                                                               93.0   \n",
       "China, Hong Kong Special Administrative Region3                      82.0   \n",
       "China, Macao Special Administrative Region4                          83.0   \n",
       "Colombia                                                             32.0   \n",
       "Comoros                                                               7.0   \n",
       "Congo                                                                23.0   \n",
       "Cook Islands                                                         48.0   \n",
       "Costa Rica                                                           47.0   \n",
       "\n",
       "                                                 % Renewables  \\\n",
       "Country                                                         \n",
       "Afghanistan                                         78.669280   \n",
       "Albania                                            100.000000   \n",
       "Algeria                                              0.551010   \n",
       "American Samoa                                       0.641026   \n",
       "Andorra                                             88.695650   \n",
       "Angola                                              70.909090   \n",
       "Anguilla                                             0.000000   \n",
       "Antigua and Barbuda                                  0.000000   \n",
       "Argentina                                           24.064520   \n",
       "Armenia                                             28.236060   \n",
       "Aruba                                               14.870690   \n",
       "Australia1                                          11.810810   \n",
       "Austria                                             72.452820   \n",
       "Azerbaijan                                           6.384345   \n",
       "Bahamas                                              0.000000   \n",
       "Bahrain                                              0.000000   \n",
       "Bangladesh                                           1.966329   \n",
       "Barbados                                             0.000000   \n",
       "Belarus                                              0.463389   \n",
       "Belgium                                              9.959739   \n",
       "Belize                                              64.690030   \n",
       "Benin                                                0.000000   \n",
       "Bermuda                                              0.000000   \n",
       "Bhutan                                             100.000000   \n",
       "Bolivia (Plurinational State of)                    31.477120   \n",
       "Bonaire, Sint Eustatius and Saba                     0.000000   \n",
       "Bosnia and Herzegovina                              41.464670   \n",
       "Botswana                                             0.131406   \n",
       "Brazil                                              69.648030   \n",
       "British Virgin Islands                               0.000000   \n",
       "Brunei Darussalam                                    0.045434   \n",
       "Bulgaria                                            17.234610   \n",
       "Burkina Faso                                        14.500680   \n",
       "Burundi                                             86.792450   \n",
       "Cabo Verde                                          21.227620   \n",
       "Cambodia                                            57.311590   \n",
       "Cameroon                                            70.886260   \n",
       "Canada                                              61.945430   \n",
       "Cayman Islands                                       0.000000   \n",
       "Central African Republic                            85.635360   \n",
       "Chad                                                 0.000000   \n",
       "Chile                                               28.006570   \n",
       "China2                                              19.754910   \n",
       "China, Hong Kong Special Administrative Region3      0.000000   \n",
       "China, Macao Special Administrative Region4          0.000000   \n",
       "Colombia                                            63.002840   \n",
       "Comoros                                             11.627910   \n",
       "Congo                                               57.748870   \n",
       "Cook Islands                                         0.000000   \n",
       "Costa Rica                                          88.736420   \n",
       "\n",
       "                                                                                       Country_M  \n",
       "Country                                                                                           \n",
       "Afghanistan                                                                          Afghanistan  \n",
       "Albania                                                                                  Albania  \n",
       "Algeria                                                                                  Algeria  \n",
       "American Samoa                                                                    American Samoa  \n",
       "Andorra                                                                                  Andorra  \n",
       "Angola                                                                                    Angola  \n",
       "Anguilla                                                                                Anguilla  \n",
       "Antigua and Barbuda                                                          Antigua and Barbuda  \n",
       "Argentina                                                                              Argentina  \n",
       "Armenia                                                                                  Armenia  \n",
       "Aruba                                                                                      Aruba  \n",
       "Australia1                                                                            Australia1  \n",
       "Austria                                                                                  Austria  \n",
       "Azerbaijan                                                                            Azerbaijan  \n",
       "Bahamas                                                                                  Bahamas  \n",
       "Bahrain                                                                                  Bahrain  \n",
       "Bangladesh                                                                            Bangladesh  \n",
       "Barbados                                                                                Barbados  \n",
       "Belarus                                                                                  Belarus  \n",
       "Belgium                                                                                  Belgium  \n",
       "Belize                                                                                    Belize  \n",
       "Benin                                                                                      Benin  \n",
       "Bermuda                                                                                  Bermuda  \n",
       "Bhutan                                                                                    Bhutan  \n",
       "Bolivia (Plurinational State of)                                Bolivia (Plurinational State of)  \n",
       "Bonaire, Sint Eustatius and Saba                                Bonaire, Sint Eustatius and Saba  \n",
       "Bosnia and Herzegovina                                                    Bosnia and Herzegovina  \n",
       "Botswana                                                                                Botswana  \n",
       "Brazil                                                                                    Brazil  \n",
       "British Virgin Islands                                                    British Virgin Islands  \n",
       "Brunei Darussalam                                                              Brunei Darussalam  \n",
       "Bulgaria                                                                                Bulgaria  \n",
       "Burkina Faso                                                                        Burkina Faso  \n",
       "Burundi                                                                                  Burundi  \n",
       "Cabo Verde                                                                            Cabo Verde  \n",
       "Cambodia                                                                                Cambodia  \n",
       "Cameroon                                                                                Cameroon  \n",
       "Canada                                                                                    Canada  \n",
       "Cayman Islands                                                                    Cayman Islands  \n",
       "Central African Republic                                                Central African Republic  \n",
       "Chad                                                                                        Chad  \n",
       "Chile                                                                                      Chile  \n",
       "China2                                                                                    China2  \n",
       "China, Hong Kong Special Administrative Region3  China, Hong Kong Special Administrative Region3  \n",
       "China, Macao Special Administrative Region4          China, Macao Special Administrative Region4  \n",
       "Colombia                                                                                Colombia  \n",
       "Comoros                                                                                  Comoros  \n",
       "Congo                                                                                      Congo  \n",
       "Cook Islands                                                                        Cook Islands  \n",
       "Costa Rica                                                                            Costa Rica  "
      ]
     },
     "execution_count": 139,
     "metadata": {},
     "output_type": "execute_result"
    }
   ],
   "source": [
    "energy_df.head(50)"
   ]
  },
  {
   "cell_type": "code",
   "execution_count": 55,
   "metadata": {
    "collapsed": false
   },
   "outputs": [
    {
     "name": "stdout",
     "output_type": "stream",
     "text": [
      "<class 'pandas.core.frame.DataFrame'>\n",
      "RangeIndex: 227 entries, 0 to 226\n",
      "Data columns (total 4 columns):\n",
      "Energy Supply               222 non-null float64\n",
      "Energy Supply per Capita    222 non-null float64\n",
      "% Renewables                227 non-null float64\n",
      "Country                     227 non-null object\n",
      "dtypes: float64(3), object(1)\n",
      "memory usage: 7.2+ KB\n"
     ]
    }
   ],
   "source": [
    "energy_df.info()"
   ]
  },
  {
   "cell_type": "code",
   "execution_count": 38,
   "metadata": {
    "collapsed": true
   },
   "outputs": [],
   "source": [
    "def gdp():\n",
    "    GDP = pd.read_csv('world_bank.csv',skiprows=4)\n",
    "    dicts = {'Korea, Rep.': 'South Korea', \n",
    "           'Iran, Islamic Rep.': 'Iran',\n",
    "           'Hong Kong SAR, China': 'Hong Kong'}\n",
    "    GDP['Country_M'] = GDP['Country Name']\n",
    "    GDP = GDP.set_index('Country Name')\n",
    "    for country in GDP.index:\n",
    "        for key,value in dicts.items():\n",
    "            if(country==key):\n",
    "                GDP.set_value(country,'Country_M',value)\n",
    "    GDP.reset_index(drop=True,inplace=True)\n",
    "    GDP.columns = ['Country Code', 'Indicator Name', 'Indicator Code', '1960', '1961',\n",
    "           '1962', '1963', '1964', '1965', '1966', '1967', '1968', '1969', '1970',\n",
    "           '1971', '1972', '1973', '1974', '1975', '1976', '1977', '1978', '1979',\n",
    "           '1980', '1981', '1982', '1983', '1984', '1985', '1986', '1987', '1988',\n",
    "           '1989', '1990', '1991', '1992', '1993', '1994', '1995', '1996', '1997',\n",
    "           '1998', '1999', '2000', '2001', '2002', '2003', '2004', '2005', '2006',\n",
    "           '2007', '2008', '2009', '2010', '2011', '2012', '2013', '2014', '2015',\n",
    "           'Country']\n",
    "    GDP_col_needed = list(np.arange(2006,2016,1))\n",
    "    GDP_col_needed = list(map(str,GDP_col_needed))\n",
    "    GDP_col_needed.append('Country')\n",
    "    GDP_DF2 = GDP[GDP_col_needed]\n",
    "    return GDP_DF2"
   ]
  },
  {
   "cell_type": "code",
   "execution_count": 56,
   "metadata": {
    "collapsed": true
   },
   "outputs": [],
   "source": [
    "GDP_df = gdp()"
   ]
  },
  {
   "cell_type": "code",
   "execution_count": 57,
   "metadata": {
    "collapsed": false
   },
   "outputs": [
    {
     "name": "stdout",
     "output_type": "stream",
     "text": [
      "<class 'pandas.core.frame.DataFrame'>\n",
      "RangeIndex: 264 entries, 0 to 263\n",
      "Data columns (total 11 columns):\n",
      "2006       237 non-null float64\n",
      "2007       237 non-null float64\n",
      "2008       238 non-null float64\n",
      "2009       238 non-null float64\n",
      "2010       243 non-null float64\n",
      "2011       238 non-null float64\n",
      "2012       237 non-null float64\n",
      "2013       237 non-null float64\n",
      "2014       230 non-null float64\n",
      "2015       214 non-null float64\n",
      "Country    264 non-null object\n",
      "dtypes: float64(10), object(1)\n",
      "memory usage: 22.8+ KB\n"
     ]
    }
   ],
   "source": [
    "GDP_df.info()"
   ]
  },
  {
   "cell_type": "code",
   "execution_count": 58,
   "metadata": {
    "collapsed": false
   },
   "outputs": [
    {
     "data": {
      "text/html": [
       "<div>\n",
       "<table border=\"1\" class=\"dataframe\">\n",
       "  <thead>\n",
       "    <tr style=\"text-align: right;\">\n",
       "      <th></th>\n",
       "      <th>2006</th>\n",
       "      <th>2007</th>\n",
       "      <th>2008</th>\n",
       "      <th>2009</th>\n",
       "      <th>2010</th>\n",
       "      <th>2011</th>\n",
       "      <th>2012</th>\n",
       "      <th>2013</th>\n",
       "      <th>2014</th>\n",
       "      <th>2015</th>\n",
       "      <th>Country</th>\n",
       "    </tr>\n",
       "  </thead>\n",
       "  <tbody>\n",
       "    <tr>\n",
       "      <th>0</th>\n",
       "      <td>NaN</td>\n",
       "      <td>NaN</td>\n",
       "      <td>NaN</td>\n",
       "      <td>NaN</td>\n",
       "      <td>2.467704e+09</td>\n",
       "      <td>NaN</td>\n",
       "      <td>NaN</td>\n",
       "      <td>NaN</td>\n",
       "      <td>NaN</td>\n",
       "      <td>NaN</td>\n",
       "      <td>Aruba</td>\n",
       "    </tr>\n",
       "    <tr>\n",
       "      <th>263</th>\n",
       "      <td>1.006276e+10</td>\n",
       "      <td>9.695130e+09</td>\n",
       "      <td>7.982103e+09</td>\n",
       "      <td>8.459783e+09</td>\n",
       "      <td>9.422161e+09</td>\n",
       "      <td>1.054391e+10</td>\n",
       "      <td>1.165789e+10</td>\n",
       "      <td>1.218064e+10</td>\n",
       "      <td>1.264939e+10</td>\n",
       "      <td>1.278517e+10</td>\n",
       "      <td>Zimbabwe</td>\n",
       "    </tr>\n",
       "  </tbody>\n",
       "</table>\n",
       "</div>"
      ],
      "text/plain": [
       "             2006          2007          2008          2009          2010  \\\n",
       "0             NaN           NaN           NaN           NaN  2.467704e+09   \n",
       "263  1.006276e+10  9.695130e+09  7.982103e+09  8.459783e+09  9.422161e+09   \n",
       "\n",
       "             2011          2012          2013          2014          2015  \\\n",
       "0             NaN           NaN           NaN           NaN           NaN   \n",
       "263  1.054391e+10  1.165789e+10  1.218064e+10  1.264939e+10  1.278517e+10   \n",
       "\n",
       "      Country  \n",
       "0       Aruba  \n",
       "263  Zimbabwe  "
      ]
     },
     "execution_count": 58,
     "metadata": {},
     "output_type": "execute_result"
    }
   ],
   "source": [
    "GDP_df.iloc[[0,-1]]"
   ]
  },
  {
   "cell_type": "code",
   "execution_count": 42,
   "metadata": {
    "collapsed": true
   },
   "outputs": [],
   "source": [
    "def scimen():\n",
    "    ScimEn = pd.read_excel('scimagojr-3.xlsx')\n",
    "    return ScimEn"
   ]
  },
  {
   "cell_type": "code",
   "execution_count": 59,
   "metadata": {
    "collapsed": false
   },
   "outputs": [],
   "source": [
    "ScimEn_df = scimen()"
   ]
  },
  {
   "cell_type": "code",
   "execution_count": 60,
   "metadata": {
    "collapsed": false
   },
   "outputs": [
    {
     "name": "stdout",
     "output_type": "stream",
     "text": [
      "<class 'pandas.core.frame.DataFrame'>\n",
      "RangeIndex: 191 entries, 0 to 190\n",
      "Data columns (total 8 columns):\n",
      "Rank                      191 non-null int64\n",
      "Country                   191 non-null object\n",
      "Documents                 191 non-null int64\n",
      "Citable documents         191 non-null int64\n",
      "Citations                 191 non-null int64\n",
      "Self-citations            191 non-null int64\n",
      "Citations per document    191 non-null float64\n",
      "H index                   191 non-null int64\n",
      "dtypes: float64(1), int64(6), object(1)\n",
      "memory usage: 12.0+ KB\n"
     ]
    }
   ],
   "source": [
    "ScimEn_df.info()"
   ]
  },
  {
   "cell_type": "code",
   "execution_count": 61,
   "metadata": {
    "collapsed": false
   },
   "outputs": [
    {
     "data": {
      "text/html": [
       "<div>\n",
       "<table border=\"1\" class=\"dataframe\">\n",
       "  <thead>\n",
       "    <tr style=\"text-align: right;\">\n",
       "      <th></th>\n",
       "      <th>Rank</th>\n",
       "      <th>Country</th>\n",
       "      <th>Documents</th>\n",
       "      <th>Citable documents</th>\n",
       "      <th>Citations</th>\n",
       "      <th>Self-citations</th>\n",
       "      <th>Citations per document</th>\n",
       "      <th>H index</th>\n",
       "    </tr>\n",
       "  </thead>\n",
       "  <tbody>\n",
       "    <tr>\n",
       "      <th>0</th>\n",
       "      <td>1</td>\n",
       "      <td>China</td>\n",
       "      <td>127050</td>\n",
       "      <td>126767</td>\n",
       "      <td>597237</td>\n",
       "      <td>411683</td>\n",
       "      <td>4.7</td>\n",
       "      <td>138</td>\n",
       "    </tr>\n",
       "    <tr>\n",
       "      <th>190</th>\n",
       "      <td>191</td>\n",
       "      <td>Mauritania</td>\n",
       "      <td>1</td>\n",
       "      <td>1</td>\n",
       "      <td>1</td>\n",
       "      <td>0</td>\n",
       "      <td>1.0</td>\n",
       "      <td>1</td>\n",
       "    </tr>\n",
       "  </tbody>\n",
       "</table>\n",
       "</div>"
      ],
      "text/plain": [
       "     Rank     Country  Documents  Citable documents  Citations  \\\n",
       "0       1       China     127050             126767     597237   \n",
       "190   191  Mauritania          1                  1          1   \n",
       "\n",
       "     Self-citations  Citations per document  H index  \n",
       "0            411683                     4.7      138  \n",
       "190               0                     1.0        1  "
      ]
     },
     "execution_count": 61,
     "metadata": {},
     "output_type": "execute_result"
    }
   ],
   "source": [
    "ScimEn_df.iloc[[0,-1]]"
   ]
  },
  {
   "cell_type": "markdown",
   "metadata": {},
   "source": [
    "## Question-1:"
   ]
  },
  {
   "cell_type": "code",
   "execution_count": 82,
   "metadata": {
    "collapsed": true
   },
   "outputs": [],
   "source": [
    "def answer_one():\n",
    "    energy_df, GDP_df, ScimEn_df = energy(), gdp(), scimen()\n",
    "    tdf = pd.merge(energy_df,GDP_df,how='inner',left_on='Country',right_on='Country')\n",
    "    tdf = pd.merge(tdf,ScimEn_df,how='inner',left_on='Country',right_on='Country')\n",
    "    return tdf"
   ]
  },
  {
   "cell_type": "code",
   "execution_count": 83,
   "metadata": {
    "collapsed": false
   },
   "outputs": [],
   "source": [
    "a = answer_one()"
   ]
  },
  {
   "cell_type": "code",
   "execution_count": 84,
   "metadata": {
    "collapsed": false
   },
   "outputs": [
    {
     "data": {
      "text/plain": [
       "(152, 21)"
      ]
     },
     "execution_count": 84,
     "metadata": {},
     "output_type": "execute_result"
    }
   ],
   "source": [
    "a.shape"
   ]
  },
  {
   "cell_type": "code",
   "execution_count": 114,
   "metadata": {
    "collapsed": false
   },
   "outputs": [
    {
     "data": {
      "text/html": [
       "<div>\n",
       "<table border=\"1\" class=\"dataframe\">\n",
       "  <thead>\n",
       "    <tr style=\"text-align: right;\">\n",
       "      <th></th>\n",
       "      <th>Rank</th>\n",
       "      <th>Country</th>\n",
       "      <th>Documents</th>\n",
       "      <th>Citable documents</th>\n",
       "      <th>Citations</th>\n",
       "      <th>Self-citations</th>\n",
       "      <th>Citations per document</th>\n",
       "      <th>H index</th>\n",
       "    </tr>\n",
       "  </thead>\n",
       "  <tbody>\n",
       "    <tr>\n",
       "      <th>13</th>\n",
       "      <td>14</td>\n",
       "      <td>Australia</td>\n",
       "      <td>8831</td>\n",
       "      <td>8725</td>\n",
       "      <td>90765</td>\n",
       "      <td>15606</td>\n",
       "      <td>10.28</td>\n",
       "      <td>107</td>\n",
       "    </tr>\n",
       "  </tbody>\n",
       "</table>\n",
       "</div>"
      ],
      "text/plain": [
       "    Rank    Country  Documents  Citable documents  Citations  Self-citations  \\\n",
       "13    14  Australia       8831               8725      90765           15606   \n",
       "\n",
       "    Citations per document  H index  \n",
       "13                   10.28      107  "
      ]
     },
     "execution_count": 114,
     "metadata": {},
     "output_type": "execute_result"
    }
   ],
   "source": [
    "ScimEn_df[ScimEn_df.Rank==14]"
   ]
  },
  {
   "cell_type": "code",
   "execution_count": 115,
   "metadata": {
    "collapsed": false
   },
   "outputs": [
    {
     "data": {
      "text/html": [
       "<div>\n",
       "<table border=\"1\" class=\"dataframe\">\n",
       "  <thead>\n",
       "    <tr style=\"text-align: right;\">\n",
       "      <th></th>\n",
       "      <th>Energy Supply</th>\n",
       "      <th>Energy Supply per Capita</th>\n",
       "      <th>% Renewables</th>\n",
       "      <th>Country</th>\n",
       "    </tr>\n",
       "  </thead>\n",
       "  <tbody>\n",
       "  </tbody>\n",
       "</table>\n",
       "</div>"
      ],
      "text/plain": [
       "Empty DataFrame\n",
       "Columns: [Energy Supply, Energy Supply per Capita, % Renewables, Country]\n",
       "Index: []"
      ]
     },
     "execution_count": 115,
     "metadata": {},
     "output_type": "execute_result"
    }
   ],
   "source": [
    "energy_df[energy_df['Country']=='Australia']"
   ]
  },
  {
   "cell_type": "code",
   "execution_count": 116,
   "metadata": {
    "collapsed": false
   },
   "outputs": [
    {
     "data": {
      "text/html": [
       "<div>\n",
       "<table border=\"1\" class=\"dataframe\">\n",
       "  <thead>\n",
       "    <tr style=\"text-align: right;\">\n",
       "      <th></th>\n",
       "      <th>2006</th>\n",
       "      <th>2007</th>\n",
       "      <th>2008</th>\n",
       "      <th>2009</th>\n",
       "      <th>2010</th>\n",
       "      <th>2011</th>\n",
       "      <th>2012</th>\n",
       "      <th>2013</th>\n",
       "      <th>2014</th>\n",
       "      <th>2015</th>\n",
       "      <th>Country</th>\n",
       "    </tr>\n",
       "  </thead>\n",
       "  <tbody>\n",
       "    <tr>\n",
       "      <th>11</th>\n",
       "      <td>1.021939e+12</td>\n",
       "      <td>1.060340e+12</td>\n",
       "      <td>1.099644e+12</td>\n",
       "      <td>1.119654e+12</td>\n",
       "      <td>1.142251e+12</td>\n",
       "      <td>1.169431e+12</td>\n",
       "      <td>1.211913e+12</td>\n",
       "      <td>1.241484e+12</td>\n",
       "      <td>1.272520e+12</td>\n",
       "      <td>1.301251e+12</td>\n",
       "      <td>Australia</td>\n",
       "    </tr>\n",
       "  </tbody>\n",
       "</table>\n",
       "</div>"
      ],
      "text/plain": [
       "            2006          2007          2008          2009          2010  \\\n",
       "11  1.021939e+12  1.060340e+12  1.099644e+12  1.119654e+12  1.142251e+12   \n",
       "\n",
       "            2011          2012          2013          2014          2015  \\\n",
       "11  1.169431e+12  1.211913e+12  1.241484e+12  1.272520e+12  1.301251e+12   \n",
       "\n",
       "      Country  \n",
       "11  Australia  "
      ]
     },
     "execution_count": 116,
     "metadata": {},
     "output_type": "execute_result"
    }
   ],
   "source": [
    "GDP_df[GDP_df['Country']=='Australia']"
   ]
  },
  {
   "cell_type": "code",
   "execution_count": 130,
   "metadata": {
    "collapsed": false
   },
   "outputs": [
    {
     "ename": "AttributeError",
     "evalue": "'function' object has no attribute 'head'",
     "output_type": "error",
     "traceback": [
      "\u001b[1;31m---------------------------------------------------------------------------\u001b[0m",
      "\u001b[1;31mAttributeError\u001b[0m                            Traceback (most recent call last)",
      "\u001b[1;32m<ipython-input-130-c2e6848ee6e1>\u001b[0m in \u001b[0;36m<module>\u001b[1;34m()\u001b[0m\n\u001b[1;32m----> 1\u001b[1;33m \u001b[0menergy\u001b[0m\u001b[1;33m.\u001b[0m\u001b[0mhead\u001b[0m\u001b[1;33m(\u001b[0m\u001b[1;36m50\u001b[0m\u001b[1;33m)\u001b[0m\u001b[1;33m\u001b[0m\u001b[0m\n\u001b[0m",
      "\u001b[1;31mAttributeError\u001b[0m: 'function' object has no attribute 'head'"
     ]
    }
   ],
   "source": [
    "energy.head(50)"
   ]
  },
  {
   "cell_type": "code",
   "execution_count": null,
   "metadata": {
    "collapsed": false
   },
   "outputs": [],
   "source": []
  },
  {
   "cell_type": "code",
   "execution_count": null,
   "metadata": {
    "collapsed": true
   },
   "outputs": [],
   "source": []
  }
 ],
 "metadata": {
  "kernelspec": {
   "display_name": "Python 3",
   "language": "python",
   "name": "python3"
  },
  "language_info": {
   "codemirror_mode": {
    "name": "ipython",
    "version": 3
   },
   "file_extension": ".py",
   "mimetype": "text/x-python",
   "name": "python",
   "nbconvert_exporter": "python",
   "pygments_lexer": "ipython3",
   "version": "3.5.4"
  }
 },
 "nbformat": 4,
 "nbformat_minor": 0
}
