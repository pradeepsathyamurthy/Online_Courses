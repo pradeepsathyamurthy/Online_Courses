{
 "cells": [
  {
   "cell_type": "code",
   "execution_count": 472,
   "metadata": {
    "collapsed": true
   },
   "outputs": [],
   "source": [
    "# importing packages\n",
    "import pandas as pd\n",
    "import numpy as np\n",
    "import matplotlib as plt\n",
    "%matplotlib inline"
   ]
  },
  {
   "cell_type": "code",
   "execution_count": 2,
   "metadata": {
    "collapsed": false
   },
   "outputs": [],
   "source": [
    "# Reading the file Energy Indicators.xls\n",
    "energy = pd.read_excel('Energy Indicators.xls',skiprows=17,na_values='...',skip_footer=38,parse_cols=[2,3,4,5,6] \n",
    "                       ,names=['Country', 'Energy Supply', 'Energy Supply per Capita', '% Renewable'])"
   ]
  },
  {
   "cell_type": "code",
   "execution_count": 3,
   "metadata": {
    "collapsed": false
   },
   "outputs": [],
   "source": [
    "energy.columns = ['Country', 'Energy Supply', 'Energy Supply per Capita', '% Renewables']"
   ]
  },
  {
   "cell_type": "code",
   "execution_count": 4,
   "metadata": {
    "collapsed": false
   },
   "outputs": [
    {
     "data": {
      "text/html": [
       "<div>\n",
       "<table border=\"1\" class=\"dataframe\">\n",
       "  <thead>\n",
       "    <tr style=\"text-align: right;\">\n",
       "      <th></th>\n",
       "      <th>Country</th>\n",
       "      <th>Energy Supply</th>\n",
       "      <th>Energy Supply per Capita</th>\n",
       "      <th>% Renewables</th>\n",
       "    </tr>\n",
       "  </thead>\n",
       "  <tbody>\n",
       "    <tr>\n",
       "      <th>0</th>\n",
       "      <td>Afghanistan</td>\n",
       "      <td>321.0</td>\n",
       "      <td>10.0</td>\n",
       "      <td>78.669280</td>\n",
       "    </tr>\n",
       "    <tr>\n",
       "      <th>1</th>\n",
       "      <td>Albania</td>\n",
       "      <td>102.0</td>\n",
       "      <td>35.0</td>\n",
       "      <td>100.000000</td>\n",
       "    </tr>\n",
       "    <tr>\n",
       "      <th>2</th>\n",
       "      <td>Algeria</td>\n",
       "      <td>1959.0</td>\n",
       "      <td>51.0</td>\n",
       "      <td>0.551010</td>\n",
       "    </tr>\n",
       "    <tr>\n",
       "      <th>3</th>\n",
       "      <td>American Samoa</td>\n",
       "      <td>NaN</td>\n",
       "      <td>NaN</td>\n",
       "      <td>0.641026</td>\n",
       "    </tr>\n",
       "    <tr>\n",
       "      <th>4</th>\n",
       "      <td>Andorra</td>\n",
       "      <td>9.0</td>\n",
       "      <td>121.0</td>\n",
       "      <td>88.695650</td>\n",
       "    </tr>\n",
       "  </tbody>\n",
       "</table>\n",
       "</div>"
      ],
      "text/plain": [
       "          Country  Energy Supply  Energy Supply per Capita  % Renewables\n",
       "0     Afghanistan          321.0                      10.0     78.669280\n",
       "1         Albania          102.0                      35.0    100.000000\n",
       "2         Algeria         1959.0                      51.0      0.551010\n",
       "3  American Samoa            NaN                       NaN      0.641026\n",
       "4         Andorra            9.0                     121.0     88.695650"
      ]
     },
     "execution_count": 4,
     "metadata": {},
     "output_type": "execute_result"
    }
   ],
   "source": [
    "energy.head()"
   ]
  },
  {
   "cell_type": "code",
   "execution_count": 5,
   "metadata": {
    "collapsed": false
   },
   "outputs": [
    {
     "data": {
      "text/html": [
       "<div>\n",
       "<table border=\"1\" class=\"dataframe\">\n",
       "  <thead>\n",
       "    <tr style=\"text-align: right;\">\n",
       "      <th></th>\n",
       "      <th>Country</th>\n",
       "      <th>Energy Supply</th>\n",
       "      <th>Energy Supply per Capita</th>\n",
       "      <th>% Renewables</th>\n",
       "    </tr>\n",
       "  </thead>\n",
       "  <tbody>\n",
       "    <tr>\n",
       "      <th>222</th>\n",
       "      <td>Viet Nam</td>\n",
       "      <td>2554.0</td>\n",
       "      <td>28.0</td>\n",
       "      <td>45.32152</td>\n",
       "    </tr>\n",
       "    <tr>\n",
       "      <th>223</th>\n",
       "      <td>Wallis and Futuna Islands</td>\n",
       "      <td>0.0</td>\n",
       "      <td>26.0</td>\n",
       "      <td>0.00000</td>\n",
       "    </tr>\n",
       "    <tr>\n",
       "      <th>224</th>\n",
       "      <td>Yemen</td>\n",
       "      <td>344.0</td>\n",
       "      <td>13.0</td>\n",
       "      <td>0.00000</td>\n",
       "    </tr>\n",
       "    <tr>\n",
       "      <th>225</th>\n",
       "      <td>Zambia</td>\n",
       "      <td>400.0</td>\n",
       "      <td>26.0</td>\n",
       "      <td>99.71467</td>\n",
       "    </tr>\n",
       "    <tr>\n",
       "      <th>226</th>\n",
       "      <td>Zimbabwe</td>\n",
       "      <td>480.0</td>\n",
       "      <td>32.0</td>\n",
       "      <td>52.53612</td>\n",
       "    </tr>\n",
       "  </tbody>\n",
       "</table>\n",
       "</div>"
      ],
      "text/plain": [
       "                       Country  Energy Supply  Energy Supply per Capita  \\\n",
       "222                   Viet Nam         2554.0                      28.0   \n",
       "223  Wallis and Futuna Islands            0.0                      26.0   \n",
       "224                      Yemen          344.0                      13.0   \n",
       "225                     Zambia          400.0                      26.0   \n",
       "226                   Zimbabwe          480.0                      32.0   \n",
       "\n",
       "     % Renewables  \n",
       "222      45.32152  \n",
       "223       0.00000  \n",
       "224       0.00000  \n",
       "225      99.71467  \n",
       "226      52.53612  "
      ]
     },
     "execution_count": 5,
     "metadata": {},
     "output_type": "execute_result"
    }
   ],
   "source": [
    "energy.tail()"
   ]
  },
  {
   "cell_type": "code",
   "execution_count": 6,
   "metadata": {
    "collapsed": false
   },
   "outputs": [
    {
     "data": {
      "text/plain": [
       "(227, 4)"
      ]
     },
     "execution_count": 6,
     "metadata": {},
     "output_type": "execute_result"
    }
   ],
   "source": [
    "energy.shape"
   ]
  },
  {
   "cell_type": "code",
   "execution_count": 7,
   "metadata": {
    "collapsed": true
   },
   "outputs": [],
   "source": [
    "energy['Energy Supply'] = energy['Energy Supply'] * 1000000"
   ]
  },
  {
   "cell_type": "code",
   "execution_count": 8,
   "metadata": {
    "collapsed": false
   },
   "outputs": [
    {
     "data": {
      "text/html": [
       "<div>\n",
       "<table border=\"1\" class=\"dataframe\">\n",
       "  <thead>\n",
       "    <tr style=\"text-align: right;\">\n",
       "      <th></th>\n",
       "      <th>Country</th>\n",
       "      <th>Energy Supply</th>\n",
       "      <th>Energy Supply per Capita</th>\n",
       "      <th>% Renewables</th>\n",
       "    </tr>\n",
       "  </thead>\n",
       "  <tbody>\n",
       "    <tr>\n",
       "      <th>0</th>\n",
       "      <td>Afghanistan</td>\n",
       "      <td>3.210000e+08</td>\n",
       "      <td>10.0</td>\n",
       "      <td>78.669280</td>\n",
       "    </tr>\n",
       "    <tr>\n",
       "      <th>1</th>\n",
       "      <td>Albania</td>\n",
       "      <td>1.020000e+08</td>\n",
       "      <td>35.0</td>\n",
       "      <td>100.000000</td>\n",
       "    </tr>\n",
       "    <tr>\n",
       "      <th>2</th>\n",
       "      <td>Algeria</td>\n",
       "      <td>1.959000e+09</td>\n",
       "      <td>51.0</td>\n",
       "      <td>0.551010</td>\n",
       "    </tr>\n",
       "    <tr>\n",
       "      <th>3</th>\n",
       "      <td>American Samoa</td>\n",
       "      <td>NaN</td>\n",
       "      <td>NaN</td>\n",
       "      <td>0.641026</td>\n",
       "    </tr>\n",
       "    <tr>\n",
       "      <th>4</th>\n",
       "      <td>Andorra</td>\n",
       "      <td>9.000000e+06</td>\n",
       "      <td>121.0</td>\n",
       "      <td>88.695650</td>\n",
       "    </tr>\n",
       "  </tbody>\n",
       "</table>\n",
       "</div>"
      ],
      "text/plain": [
       "          Country  Energy Supply  Energy Supply per Capita  % Renewables\n",
       "0     Afghanistan   3.210000e+08                      10.0     78.669280\n",
       "1         Albania   1.020000e+08                      35.0    100.000000\n",
       "2         Algeria   1.959000e+09                      51.0      0.551010\n",
       "3  American Samoa            NaN                       NaN      0.641026\n",
       "4         Andorra   9.000000e+06                     121.0     88.695650"
      ]
     },
     "execution_count": 8,
     "metadata": {},
     "output_type": "execute_result"
    }
   ],
   "source": [
    "energy.head()"
   ]
  },
  {
   "cell_type": "code",
   "execution_count": 9,
   "metadata": {
    "collapsed": false
   },
   "outputs": [],
   "source": [
    "energy = energy.reset_index()"
   ]
  },
  {
   "cell_type": "code",
   "execution_count": 10,
   "metadata": {
    "collapsed": false
   },
   "outputs": [],
   "source": [
    "energy['Country_M'] = energy['Country']"
   ]
  },
  {
   "cell_type": "code",
   "execution_count": 11,
   "metadata": {
    "collapsed": false
   },
   "outputs": [],
   "source": [
    "energy = energy.set_index('Country')"
   ]
  },
  {
   "cell_type": "code",
   "execution_count": 12,
   "metadata": {
    "collapsed": false
   },
   "outputs": [
    {
     "data": {
      "text/html": [
       "<div>\n",
       "<table border=\"1\" class=\"dataframe\">\n",
       "  <thead>\n",
       "    <tr style=\"text-align: right;\">\n",
       "      <th></th>\n",
       "      <th>index</th>\n",
       "      <th>Energy Supply</th>\n",
       "      <th>Energy Supply per Capita</th>\n",
       "      <th>% Renewables</th>\n",
       "      <th>Country_M</th>\n",
       "    </tr>\n",
       "    <tr>\n",
       "      <th>Country</th>\n",
       "      <th></th>\n",
       "      <th></th>\n",
       "      <th></th>\n",
       "      <th></th>\n",
       "      <th></th>\n",
       "    </tr>\n",
       "  </thead>\n",
       "  <tbody>\n",
       "    <tr>\n",
       "      <th>Afghanistan</th>\n",
       "      <td>0.0</td>\n",
       "      <td>3.210000e+08</td>\n",
       "      <td>10.0</td>\n",
       "      <td>78.669280</td>\n",
       "      <td>Afghanistan</td>\n",
       "    </tr>\n",
       "    <tr>\n",
       "      <th>Albania</th>\n",
       "      <td>1.0</td>\n",
       "      <td>1.020000e+08</td>\n",
       "      <td>35.0</td>\n",
       "      <td>100.000000</td>\n",
       "      <td>Albania</td>\n",
       "    </tr>\n",
       "    <tr>\n",
       "      <th>Algeria</th>\n",
       "      <td>2.0</td>\n",
       "      <td>1.959000e+09</td>\n",
       "      <td>51.0</td>\n",
       "      <td>0.551010</td>\n",
       "      <td>Algeria</td>\n",
       "    </tr>\n",
       "    <tr>\n",
       "      <th>American Samoa</th>\n",
       "      <td>3.0</td>\n",
       "      <td>NaN</td>\n",
       "      <td>NaN</td>\n",
       "      <td>0.641026</td>\n",
       "      <td>American Samoa</td>\n",
       "    </tr>\n",
       "    <tr>\n",
       "      <th>Andorra</th>\n",
       "      <td>4.0</td>\n",
       "      <td>9.000000e+06</td>\n",
       "      <td>121.0</td>\n",
       "      <td>88.695650</td>\n",
       "      <td>Andorra</td>\n",
       "    </tr>\n",
       "  </tbody>\n",
       "</table>\n",
       "</div>"
      ],
      "text/plain": [
       "                index  Energy Supply  Energy Supply per Capita  % Renewables  \\\n",
       "Country                                                                        \n",
       "Afghanistan       0.0   3.210000e+08                      10.0     78.669280   \n",
       "Albania           1.0   1.020000e+08                      35.0    100.000000   \n",
       "Algeria           2.0   1.959000e+09                      51.0      0.551010   \n",
       "American Samoa    3.0            NaN                       NaN      0.641026   \n",
       "Andorra           4.0   9.000000e+06                     121.0     88.695650   \n",
       "\n",
       "                     Country_M  \n",
       "Country                         \n",
       "Afghanistan        Afghanistan  \n",
       "Albania                Albania  \n",
       "Algeria                Algeria  \n",
       "American Samoa  American Samoa  \n",
       "Andorra                Andorra  "
      ]
     },
     "execution_count": 12,
     "metadata": {},
     "output_type": "execute_result"
    }
   ],
   "source": [
    "energy.set_value('Republic of Korea','Country_M','South Korea')\n",
    "energy.set_value('United States of America','Country_M','United States')\n",
    "energy.set_value('United Kingdom of Great Britain and Northern Ireland','Country_M','United Kingdom')\n",
    "energy.set_value('China, Hong Kong Special Administrative Region','Country_M','Hong Kong')\n",
    "energy.head(5)"
   ]
  },
  {
   "cell_type": "code",
   "execution_count": 13,
   "metadata": {
    "collapsed": false
   },
   "outputs": [
    {
     "data": {
      "text/plain": [
       "index                               164\n",
       "Energy Supply                1.1007e+10\n",
       "Energy Supply per Capita            221\n",
       "% Renewables                    2.27935\n",
       "Country_M                   South Korea\n",
       "Name: Republic of Korea, dtype: object"
      ]
     },
     "execution_count": 13,
     "metadata": {},
     "output_type": "execute_result"
    }
   ],
   "source": [
    "# checking the Country_M column to see if the change got reflected\n",
    "energy.loc['Republic of Korea']"
   ]
  },
  {
   "cell_type": "code",
   "execution_count": 14,
   "metadata": {
    "collapsed": false
   },
   "outputs": [],
   "source": [
    "# removing () from Country names\n",
    "for names in energy.index:\n",
    "    if names.find('(') > -1 or names.find(')') >-1:\n",
    "        #print(names[:names.find('(')])\n",
    "        energy.set_value(names,'Country_M',names[:names.find('(')])"
   ]
  },
  {
   "cell_type": "code",
   "execution_count": null,
   "metadata": {
    "collapsed": false
   },
   "outputs": [],
   "source": [
    "# importing world_bank data\n",
    "GDP = pd.read_csv('world_bank.csv',skiprows=4)"
   ]
  },
  {
   "cell_type": "code",
   "execution_count": null,
   "metadata": {
    "collapsed": false
   },
   "outputs": [],
   "source": [
    "GDP.head()"
   ]
  },
  {
   "cell_type": "code",
   "execution_count": null,
   "metadata": {
    "collapsed": false
   },
   "outputs": [],
   "source": [
    "GDP.columns"
   ]
  },
  {
   "cell_type": "code",
   "execution_count": null,
   "metadata": {
    "collapsed": true
   },
   "outputs": [],
   "source": [
    "GDP['Country_M'] = GDP['Country Name']\n",
    "GDP = GDP.set_index('Country Name')"
   ]
  },
  {
   "cell_type": "code",
   "execution_count": null,
   "metadata": {
    "collapsed": false
   },
   "outputs": [],
   "source": [
    "GDP.head()"
   ]
  },
  {
   "cell_type": "code",
   "execution_count": null,
   "metadata": {
    "collapsed": false
   },
   "outputs": [],
   "source": [
    "GDP.set_value('Korea, Rep.','Country_M','South Korea')\n",
    "GDP.set_value('Iran, Islamic Rep.','Country_M','Iran')\n",
    "GDP.set_value('Hong Kong SAR, China','Country_M','Hong Kong')"
   ]
  },
  {
   "cell_type": "code",
   "execution_count": null,
   "metadata": {
    "collapsed": true
   },
   "outputs": [],
   "source": [
    "GDP.reset_index(drop=True,inplace=True)"
   ]
  },
  {
   "cell_type": "code",
   "execution_count": null,
   "metadata": {
    "collapsed": false
   },
   "outputs": [],
   "source": [
    "GDP.columns = ['Country Code', 'Indicator Name', 'Indicator Code', '1960', '1961',\n",
    "       '1962', '1963', '1964', '1965', '1966', '1967', '1968', '1969', '1970',\n",
    "       '1971', '1972', '1973', '1974', '1975', '1976', '1977', '1978', '1979',\n",
    "       '1980', '1981', '1982', '1983', '1984', '1985', '1986', '1987', '1988',\n",
    "       '1989', '1990', '1991', '1992', '1993', '1994', '1995', '1996', '1997',\n",
    "       '1998', '1999', '2000', '2001', '2002', '2003', '2004', '2005', '2006',\n",
    "       '2007', '2008', '2009', '2010', '2011', '2012', '2013', '2014', '2015',\n",
    "       'Country']"
   ]
  },
  {
   "cell_type": "code",
   "execution_count": null,
   "metadata": {
    "collapsed": false
   },
   "outputs": [],
   "source": [
    "GDP.head()"
   ]
  },
  {
   "cell_type": "code",
   "execution_count": null,
   "metadata": {
    "collapsed": true
   },
   "outputs": [],
   "source": [
    "ScimEn = pd.read_excel('scimagojr.xlsx')"
   ]
  },
  {
   "cell_type": "code",
   "execution_count": null,
   "metadata": {
    "collapsed": false
   },
   "outputs": [],
   "source": [
    "ScimEn.head()"
   ]
  },
  {
   "cell_type": "code",
   "execution_count": null,
   "metadata": {
    "collapsed": false
   },
   "outputs": [],
   "source": [
    "GDP_col_needed = list(np.arange(2006,2016,1))\n",
    "GDP_col_needed = list(map(str,GDP_col_needed))\n",
    "GDP_col_needed.append('Country')\n",
    "GDP_col_needed"
   ]
  },
  {
   "cell_type": "code",
   "execution_count": null,
   "metadata": {
    "collapsed": false
   },
   "outputs": [],
   "source": [
    "GDP_DF2 = GDP[GDP_col_needed]\n",
    "GDP_DF2.head(5)"
   ]
  },
  {
   "cell_type": "code",
   "execution_count": null,
   "metadata": {
    "collapsed": false
   },
   "outputs": [],
   "source": [
    "energy.head(2)"
   ]
  },
  {
   "cell_type": "code",
   "execution_count": null,
   "metadata": {
    "collapsed": false
   },
   "outputs": [],
   "source": [
    "ScimEn.head(2)"
   ]
  },
  {
   "cell_type": "code",
   "execution_count": null,
   "metadata": {
    "collapsed": false
   },
   "outputs": [],
   "source": [
    "GDP_DF2.head(2)"
   ]
  },
  {
   "cell_type": "code",
   "execution_count": null,
   "metadata": {
    "collapsed": true
   },
   "outputs": [],
   "source": [
    "GDP_final = GDP_DF2"
   ]
  },
  {
   "cell_type": "code",
   "execution_count": null,
   "metadata": {
    "collapsed": false
   },
   "outputs": [],
   "source": [
    "GDP_final.shape"
   ]
  },
  {
   "cell_type": "code",
   "execution_count": null,
   "metadata": {
    "collapsed": false
   },
   "outputs": [],
   "source": [
    "sci_Condi = (ScimEn.Rank >= 0) & (ScimEn.Rank <= 15)"
   ]
  },
  {
   "cell_type": "code",
   "execution_count": null,
   "metadata": {
    "collapsed": false
   },
   "outputs": [],
   "source": [
    "sci_Condi_final = ScimEn[sci_Condi]"
   ]
  },
  {
   "cell_type": "code",
   "execution_count": null,
   "metadata": {
    "collapsed": false
   },
   "outputs": [],
   "source": [
    "sci_Condi_final.shape"
   ]
  },
  {
   "cell_type": "code",
   "execution_count": null,
   "metadata": {
    "collapsed": true
   },
   "outputs": [],
   "source": [
    "energy_gdp_df = pd.merge(energy,GDP_final,how='inner',left_on='Country',right_on='Country',copy=True)"
   ]
  },
  {
   "cell_type": "code",
   "execution_count": null,
   "metadata": {
    "collapsed": false
   },
   "outputs": [],
   "source": [
    "energy_gdp_df.shape"
   ]
  },
  {
   "cell_type": "code",
   "execution_count": null,
   "metadata": {
    "collapsed": false
   },
   "outputs": [],
   "source": [
    "energy_gdp_df.head(2)"
   ]
  },
  {
   "cell_type": "code",
   "execution_count": null,
   "metadata": {
    "collapsed": true
   },
   "outputs": [],
   "source": [
    "final_df = pd.merge(energy_gdp_df,sci_Condi_final,how='inner',left_on='Country',right_on='Country',copy=True)"
   ]
  },
  {
   "cell_type": "code",
   "execution_count": null,
   "metadata": {
    "collapsed": false
   },
   "outputs": [],
   "source": [
    "final_df.shape"
   ]
  },
  {
   "cell_type": "code",
   "execution_count": null,
   "metadata": {
    "collapsed": false
   },
   "outputs": [],
   "source": [
    "final_df"
   ]
  },
  {
   "cell_type": "code",
   "execution_count": null,
   "metadata": {
    "collapsed": false
   },
   "outputs": [],
   "source": [
    "energy.columns"
   ]
  },
  {
   "cell_type": "code",
   "execution_count": null,
   "metadata": {
    "collapsed": false
   },
   "outputs": [],
   "source": [
    "GDP_final.columns"
   ]
  },
  {
   "cell_type": "code",
   "execution_count": null,
   "metadata": {
    "collapsed": false
   },
   "outputs": [],
   "source": [
    "sci_Condi_final.columns"
   ]
  },
  {
   "cell_type": "code",
   "execution_count": 294,
   "metadata": {
    "collapsed": false
   },
   "outputs": [],
   "source": [
    "def energy():\n",
    "    energy = pd.read_excel('Energy Indicators.xls',skiprows=17,na_values='...',skip_footer=38,parse_cols=[2,3,4,5,6] \n",
    "                       ,names=['Country', 'Energy Supply', 'Energy Supply per Capita', '% Renewable'])\n",
    "    energy.columns = ['Country', 'Energy Supply', 'Energy Supply per Capita', '% Renewable']\n",
    "    energy['Energy Supply'] = energy['Energy Supply'] * 1000000\n",
    "    dicts = {'Republic of Korea': 'South Korea',\n",
    "               'United States of America': 'United States',\n",
    "               'United Kingdom of Great Britain and Northern Ireland': 'United Kingdom',\n",
    "               'China, Hong Kong Special Administrative Region': 'Hong Kong'}\n",
    "    energy['Country_M'] = energy['Country']\n",
    "    energy = energy.set_index('Country')\n",
    "    \n",
    "    for country in energy.index:\n",
    "        if (country.endswith(('1','2','3','4','5','6','7','8','9','0'))):\n",
    "            country_edit = country[:-1]\n",
    "            energy.set_value(country,'Country_M',country_edit)\n",
    "            if (country_edit.endswith(('1','2','3','4','5','6','7','8','9','0'))):\n",
    "                country_edit = country_edit[:-1]\n",
    "                #print(country_edit)\n",
    "                energy.set_value(country,'Country_M',country_edit)\n",
    "    \n",
    "    energy['Country_E'] = energy['Country_M']\n",
    "    energy = energy.set_index('Country_M')\n",
    "    #print(energy.columns)\n",
    "    \n",
    "    for country in energy.index:\n",
    "        for key,value in dicts.items():\n",
    "            #print('country>>>>',country)\n",
    "            #print('key>>>>',key)\n",
    "            if (key==country):\n",
    "                energy.set_value(key,'Country_E',value)\n",
    "        \n",
    "    # removing () from Country names\n",
    "    for names in energy.index:\n",
    "        if names.find('(') > -1 or names.find(')') >-1:\n",
    "            #print(names[:names.find('(')])\n",
    "            energy.set_value(names,'Country_E',names[:names.find('(')].strip())\n",
    "    energy.reset_index(drop=True,inplace=True)\n",
    "    energy.columns = ['Energy Supply', 'Energy Supply per Capita', '% Renewable','Country']\n",
    "    return energy"
   ]
  },
  {
   "cell_type": "code",
   "execution_count": 295,
   "metadata": {
    "collapsed": false
   },
   "outputs": [],
   "source": [
    "energy_df = energy()"
   ]
  },
  {
   "cell_type": "code",
   "execution_count": 296,
   "metadata": {
    "collapsed": false
   },
   "outputs": [
    {
     "name": "stdout",
     "output_type": "stream",
     "text": [
      "<class 'pandas.core.frame.DataFrame'>\n",
      "RangeIndex: 227 entries, 0 to 226\n",
      "Data columns (total 4 columns):\n",
      "Energy Supply               222 non-null float64\n",
      "Energy Supply per Capita    222 non-null float64\n",
      "% Renewable                 227 non-null float64\n",
      "Country                     227 non-null object\n",
      "dtypes: float64(3), object(1)\n",
      "memory usage: 7.2+ KB\n"
     ]
    }
   ],
   "source": [
    "energy_df.info()"
   ]
  },
  {
   "cell_type": "code",
   "execution_count": 297,
   "metadata": {
    "collapsed": true
   },
   "outputs": [],
   "source": [
    "def gdp():\n",
    "    GDP = pd.read_csv('world_bank.csv',skiprows=4)\n",
    "    dicts = {'Korea, Rep.': 'South Korea', \n",
    "           'Iran, Islamic Rep.': 'Iran',\n",
    "           'Hong Kong SAR, China': 'Hong Kong'}\n",
    "    GDP['Country_M'] = GDP['Country Name']\n",
    "    GDP = GDP.set_index('Country Name')\n",
    "    for country in GDP.index:\n",
    "        for key,value in dicts.items():\n",
    "            if(country==key):\n",
    "                GDP.set_value(country,'Country_M',value)\n",
    "    GDP.reset_index(drop=True,inplace=True)\n",
    "    GDP.columns = ['Country Code', 'Indicator Name', 'Indicator Code', '1960', '1961',\n",
    "           '1962', '1963', '1964', '1965', '1966', '1967', '1968', '1969', '1970',\n",
    "           '1971', '1972', '1973', '1974', '1975', '1976', '1977', '1978', '1979',\n",
    "           '1980', '1981', '1982', '1983', '1984', '1985', '1986', '1987', '1988',\n",
    "           '1989', '1990', '1991', '1992', '1993', '1994', '1995', '1996', '1997',\n",
    "           '1998', '1999', '2000', '2001', '2002', '2003', '2004', '2005', '2006',\n",
    "           '2007', '2008', '2009', '2010', '2011', '2012', '2013', '2014', '2015',\n",
    "           'Country']\n",
    "    GDP_col_needed = list(np.arange(2006,2016,1))\n",
    "    GDP_col_needed = list(map(str,GDP_col_needed))\n",
    "    GDP_col_needed.append('Country')\n",
    "    GDP_DF2 = GDP[GDP_col_needed]\n",
    "    return GDP_DF2"
   ]
  },
  {
   "cell_type": "code",
   "execution_count": 298,
   "metadata": {
    "collapsed": true
   },
   "outputs": [],
   "source": [
    "GDP_df = gdp()"
   ]
  },
  {
   "cell_type": "code",
   "execution_count": 299,
   "metadata": {
    "collapsed": false
   },
   "outputs": [
    {
     "name": "stdout",
     "output_type": "stream",
     "text": [
      "<class 'pandas.core.frame.DataFrame'>\n",
      "RangeIndex: 264 entries, 0 to 263\n",
      "Data columns (total 11 columns):\n",
      "2006       237 non-null float64\n",
      "2007       237 non-null float64\n",
      "2008       238 non-null float64\n",
      "2009       238 non-null float64\n",
      "2010       243 non-null float64\n",
      "2011       238 non-null float64\n",
      "2012       237 non-null float64\n",
      "2013       237 non-null float64\n",
      "2014       230 non-null float64\n",
      "2015       214 non-null float64\n",
      "Country    264 non-null object\n",
      "dtypes: float64(10), object(1)\n",
      "memory usage: 22.8+ KB\n"
     ]
    }
   ],
   "source": [
    "GDP_df.info()"
   ]
  },
  {
   "cell_type": "code",
   "execution_count": 300,
   "metadata": {
    "collapsed": false
   },
   "outputs": [
    {
     "data": {
      "text/html": [
       "<div>\n",
       "<table border=\"1\" class=\"dataframe\">\n",
       "  <thead>\n",
       "    <tr style=\"text-align: right;\">\n",
       "      <th></th>\n",
       "      <th>2006</th>\n",
       "      <th>2007</th>\n",
       "      <th>2008</th>\n",
       "      <th>2009</th>\n",
       "      <th>2010</th>\n",
       "      <th>2011</th>\n",
       "      <th>2012</th>\n",
       "      <th>2013</th>\n",
       "      <th>2014</th>\n",
       "      <th>2015</th>\n",
       "      <th>Country</th>\n",
       "    </tr>\n",
       "  </thead>\n",
       "  <tbody>\n",
       "    <tr>\n",
       "      <th>0</th>\n",
       "      <td>NaN</td>\n",
       "      <td>NaN</td>\n",
       "      <td>NaN</td>\n",
       "      <td>NaN</td>\n",
       "      <td>2.467704e+09</td>\n",
       "      <td>NaN</td>\n",
       "      <td>NaN</td>\n",
       "      <td>NaN</td>\n",
       "      <td>NaN</td>\n",
       "      <td>NaN</td>\n",
       "      <td>Aruba</td>\n",
       "    </tr>\n",
       "    <tr>\n",
       "      <th>263</th>\n",
       "      <td>1.006276e+10</td>\n",
       "      <td>9.695130e+09</td>\n",
       "      <td>7.982103e+09</td>\n",
       "      <td>8.459783e+09</td>\n",
       "      <td>9.422161e+09</td>\n",
       "      <td>1.054391e+10</td>\n",
       "      <td>1.165789e+10</td>\n",
       "      <td>1.218064e+10</td>\n",
       "      <td>1.264939e+10</td>\n",
       "      <td>1.278517e+10</td>\n",
       "      <td>Zimbabwe</td>\n",
       "    </tr>\n",
       "  </tbody>\n",
       "</table>\n",
       "</div>"
      ],
      "text/plain": [
       "             2006          2007          2008          2009          2010  \\\n",
       "0             NaN           NaN           NaN           NaN  2.467704e+09   \n",
       "263  1.006276e+10  9.695130e+09  7.982103e+09  8.459783e+09  9.422161e+09   \n",
       "\n",
       "             2011          2012          2013          2014          2015  \\\n",
       "0             NaN           NaN           NaN           NaN           NaN   \n",
       "263  1.054391e+10  1.165789e+10  1.218064e+10  1.264939e+10  1.278517e+10   \n",
       "\n",
       "      Country  \n",
       "0       Aruba  \n",
       "263  Zimbabwe  "
      ]
     },
     "execution_count": 300,
     "metadata": {},
     "output_type": "execute_result"
    }
   ],
   "source": [
    "GDP_df.iloc[[0,-1]]"
   ]
  },
  {
   "cell_type": "code",
   "execution_count": 301,
   "metadata": {
    "collapsed": true
   },
   "outputs": [],
   "source": [
    "def scimen():\n",
    "    ScimEn = pd.read_excel('scimagojr-3.xlsx')\n",
    "    return ScimEn"
   ]
  },
  {
   "cell_type": "code",
   "execution_count": 302,
   "metadata": {
    "collapsed": false
   },
   "outputs": [],
   "source": [
    "ScimEn_df = scimen()"
   ]
  },
  {
   "cell_type": "code",
   "execution_count": 303,
   "metadata": {
    "collapsed": false
   },
   "outputs": [
    {
     "name": "stdout",
     "output_type": "stream",
     "text": [
      "<class 'pandas.core.frame.DataFrame'>\n",
      "RangeIndex: 191 entries, 0 to 190\n",
      "Data columns (total 8 columns):\n",
      "Rank                      191 non-null int64\n",
      "Country                   191 non-null object\n",
      "Documents                 191 non-null int64\n",
      "Citable documents         191 non-null int64\n",
      "Citations                 191 non-null int64\n",
      "Self-citations            191 non-null int64\n",
      "Citations per document    191 non-null float64\n",
      "H index                   191 non-null int64\n",
      "dtypes: float64(1), int64(6), object(1)\n",
      "memory usage: 12.0+ KB\n"
     ]
    }
   ],
   "source": [
    "ScimEn_df.info()"
   ]
  },
  {
   "cell_type": "code",
   "execution_count": 304,
   "metadata": {
    "collapsed": false
   },
   "outputs": [
    {
     "data": {
      "text/html": [
       "<div>\n",
       "<table border=\"1\" class=\"dataframe\">\n",
       "  <thead>\n",
       "    <tr style=\"text-align: right;\">\n",
       "      <th></th>\n",
       "      <th>Rank</th>\n",
       "      <th>Country</th>\n",
       "      <th>Documents</th>\n",
       "      <th>Citable documents</th>\n",
       "      <th>Citations</th>\n",
       "      <th>Self-citations</th>\n",
       "      <th>Citations per document</th>\n",
       "      <th>H index</th>\n",
       "    </tr>\n",
       "  </thead>\n",
       "  <tbody>\n",
       "    <tr>\n",
       "      <th>0</th>\n",
       "      <td>1</td>\n",
       "      <td>China</td>\n",
       "      <td>127050</td>\n",
       "      <td>126767</td>\n",
       "      <td>597237</td>\n",
       "      <td>411683</td>\n",
       "      <td>4.7</td>\n",
       "      <td>138</td>\n",
       "    </tr>\n",
       "    <tr>\n",
       "      <th>190</th>\n",
       "      <td>191</td>\n",
       "      <td>Mauritania</td>\n",
       "      <td>1</td>\n",
       "      <td>1</td>\n",
       "      <td>1</td>\n",
       "      <td>0</td>\n",
       "      <td>1.0</td>\n",
       "      <td>1</td>\n",
       "    </tr>\n",
       "  </tbody>\n",
       "</table>\n",
       "</div>"
      ],
      "text/plain": [
       "     Rank     Country  Documents  Citable documents  Citations  \\\n",
       "0       1       China     127050             126767     597237   \n",
       "190   191  Mauritania          1                  1          1   \n",
       "\n",
       "     Self-citations  Citations per document  H index  \n",
       "0            411683                     4.7      138  \n",
       "190               0                     1.0        1  "
      ]
     },
     "execution_count": 304,
     "metadata": {},
     "output_type": "execute_result"
    }
   ],
   "source": [
    "ScimEn_df.iloc[[0,-1]]"
   ]
  },
  {
   "cell_type": "markdown",
   "metadata": {},
   "source": [
    "## Question-1:"
   ]
  },
  {
   "cell_type": "code",
   "execution_count": 305,
   "metadata": {
    "collapsed": true
   },
   "outputs": [],
   "source": [
    "def answer_one():\n",
    "    energy_df, GDP_df, ScimEn_df = energy(),gdp(),scimen()\n",
    "    tdf = pd.merge(energy_df,GDP_df,how='inner',left_on='Country',right_on='Country')\n",
    "    tdf = pd.merge(tdf,ScimEn_df,how='inner',left_on='Country',right_on='Country')\n",
    "    condition_mask = tdf['Rank'] <= 15\n",
    "    res = tdf[condition_mask]\n",
    "    res = res.set_index('Country')\n",
    "    return res"
   ]
  },
  {
   "cell_type": "code",
   "execution_count": 306,
   "metadata": {
    "collapsed": false
   },
   "outputs": [],
   "source": [
    "a = answer_one()"
   ]
  },
  {
   "cell_type": "code",
   "execution_count": 307,
   "metadata": {
    "collapsed": false
   },
   "outputs": [
    {
     "data": {
      "text/plain": [
       "(15, 20)"
      ]
     },
     "execution_count": 307,
     "metadata": {},
     "output_type": "execute_result"
    }
   ],
   "source": [
    "a.shape"
   ]
  },
  {
   "cell_type": "markdown",
   "metadata": {},
   "source": [
    "## Question-2:"
   ]
  },
  {
   "cell_type": "code",
   "execution_count": 309,
   "metadata": {
    "collapsed": true
   },
   "outputs": [],
   "source": [
    "def answer_two():\n",
    "    energy_df, GDP_df, ScimEn_df = energy(),gdp(),scimen()\n",
    "    tdf_in = pd.merge(energy_df,GDP_df,how='inner',left_on='Country',right_on='Country')\n",
    "    tdf_in = pd.merge(tdf_in,ScimEn_df,how='inner',left_on='Country',right_on='Country')\n",
    "    tdf_out = pd.merge(energy_df,GDP_df,how='outer',left_on='Country',right_on='Country')\n",
    "    tdf_out = pd.merge(tdf_out,ScimEn_df,how='outer',left_on='Country',right_on='Country')\n",
    "    diff_count = len(tdf_out) - len(tdf_in)\n",
    "    return diff_count"
   ]
  },
  {
   "cell_type": "code",
   "execution_count": 310,
   "metadata": {
    "collapsed": true
   },
   "outputs": [],
   "source": [
    "b = answer_two()"
   ]
  },
  {
   "cell_type": "code",
   "execution_count": 311,
   "metadata": {
    "collapsed": false
   },
   "outputs": [
    {
     "data": {
      "text/plain": [
       "156"
      ]
     },
     "execution_count": 311,
     "metadata": {},
     "output_type": "execute_result"
    }
   ],
   "source": [
    "b"
   ]
  },
  {
   "cell_type": "markdown",
   "metadata": {},
   "source": [
    "## Question-3:"
   ]
  },
  {
   "cell_type": "code",
   "execution_count": 215,
   "metadata": {
    "collapsed": false,
    "scrolled": true
   },
   "outputs": [],
   "source": [
    "q3_df = gdp().copy()"
   ]
  },
  {
   "cell_type": "code",
   "execution_count": 216,
   "metadata": {
    "collapsed": false
   },
   "outputs": [],
   "source": [
    "q3_df = q3_df.set_index('Country')"
   ]
  },
  {
   "cell_type": "code",
   "execution_count": 217,
   "metadata": {
    "collapsed": false
   },
   "outputs": [
    {
     "data": {
      "text/html": [
       "<div>\n",
       "<table border=\"1\" class=\"dataframe\">\n",
       "  <thead>\n",
       "    <tr style=\"text-align: right;\">\n",
       "      <th></th>\n",
       "      <th>2006</th>\n",
       "      <th>2007</th>\n",
       "      <th>2008</th>\n",
       "      <th>2009</th>\n",
       "      <th>2010</th>\n",
       "      <th>2011</th>\n",
       "      <th>2012</th>\n",
       "      <th>2013</th>\n",
       "      <th>2014</th>\n",
       "      <th>2015</th>\n",
       "    </tr>\n",
       "    <tr>\n",
       "      <th>Country</th>\n",
       "      <th></th>\n",
       "      <th></th>\n",
       "      <th></th>\n",
       "      <th></th>\n",
       "      <th></th>\n",
       "      <th></th>\n",
       "      <th></th>\n",
       "      <th></th>\n",
       "      <th></th>\n",
       "      <th></th>\n",
       "    </tr>\n",
       "  </thead>\n",
       "  <tbody>\n",
       "    <tr>\n",
       "      <th>Aruba</th>\n",
       "      <td>NaN</td>\n",
       "      <td>NaN</td>\n",
       "      <td>NaN</td>\n",
       "      <td>NaN</td>\n",
       "      <td>2.467704e+09</td>\n",
       "      <td>NaN</td>\n",
       "      <td>NaN</td>\n",
       "      <td>NaN</td>\n",
       "      <td>NaN</td>\n",
       "      <td>NaN</td>\n",
       "    </tr>\n",
       "    <tr>\n",
       "      <th>Andorra</th>\n",
       "      <td>4.018196e+09</td>\n",
       "      <td>4.021331e+09</td>\n",
       "      <td>3.675728e+09</td>\n",
       "      <td>3.535389e+09</td>\n",
       "      <td>3.346317e+09</td>\n",
       "      <td>3.185605e+09</td>\n",
       "      <td>3.129538e+09</td>\n",
       "      <td>3.127550e+09</td>\n",
       "      <td>NaN</td>\n",
       "      <td>NaN</td>\n",
       "    </tr>\n",
       "    <tr>\n",
       "      <th>Afghanistan</th>\n",
       "      <td>1.030523e+10</td>\n",
       "      <td>1.172119e+10</td>\n",
       "      <td>1.214448e+10</td>\n",
       "      <td>1.469733e+10</td>\n",
       "      <td>1.593680e+10</td>\n",
       "      <td>1.691113e+10</td>\n",
       "      <td>1.935220e+10</td>\n",
       "      <td>1.973134e+10</td>\n",
       "      <td>1.999032e+10</td>\n",
       "      <td>2.029415e+10</td>\n",
       "    </tr>\n",
       "    <tr>\n",
       "      <th>Angola</th>\n",
       "      <td>5.581103e+10</td>\n",
       "      <td>6.842044e+10</td>\n",
       "      <td>7.787420e+10</td>\n",
       "      <td>7.975320e+10</td>\n",
       "      <td>8.247091e+10</td>\n",
       "      <td>8.570262e+10</td>\n",
       "      <td>9.012096e+10</td>\n",
       "      <td>9.626143e+10</td>\n",
       "      <td>1.008863e+11</td>\n",
       "      <td>1.039106e+11</td>\n",
       "    </tr>\n",
       "    <tr>\n",
       "      <th>Albania</th>\n",
       "      <td>9.771760e+09</td>\n",
       "      <td>1.034829e+10</td>\n",
       "      <td>1.112752e+10</td>\n",
       "      <td>1.150029e+10</td>\n",
       "      <td>1.192695e+10</td>\n",
       "      <td>1.223109e+10</td>\n",
       "      <td>1.240477e+10</td>\n",
       "      <td>1.254247e+10</td>\n",
       "      <td>1.279331e+10</td>\n",
       "      <td>1.312082e+10</td>\n",
       "    </tr>\n",
       "    <tr>\n",
       "      <th>Arab World</th>\n",
       "      <td>1.763824e+12</td>\n",
       "      <td>1.863481e+12</td>\n",
       "      <td>1.980983e+12</td>\n",
       "      <td>2.011001e+12</td>\n",
       "      <td>2.103825e+12</td>\n",
       "      <td>2.173896e+12</td>\n",
       "      <td>2.318267e+12</td>\n",
       "      <td>2.385580e+12</td>\n",
       "      <td>2.436659e+12</td>\n",
       "      <td>2.509068e+12</td>\n",
       "    </tr>\n",
       "    <tr>\n",
       "      <th>United Arab Emirates</th>\n",
       "      <td>2.789489e+11</td>\n",
       "      <td>2.878318e+11</td>\n",
       "      <td>2.970189e+11</td>\n",
       "      <td>2.814464e+11</td>\n",
       "      <td>2.860493e+11</td>\n",
       "      <td>3.009462e+11</td>\n",
       "      <td>3.216922e+11</td>\n",
       "      <td>3.355937e+11</td>\n",
       "      <td>3.509313e+11</td>\n",
       "      <td>3.621003e+11</td>\n",
       "    </tr>\n",
       "    <tr>\n",
       "      <th>Argentina</th>\n",
       "      <td>3.788140e+11</td>\n",
       "      <td>4.089887e+11</td>\n",
       "      <td>4.215649e+11</td>\n",
       "      <td>4.217758e+11</td>\n",
       "      <td>4.616402e+11</td>\n",
       "      <td>5.003555e+11</td>\n",
       "      <td>5.043671e+11</td>\n",
       "      <td>5.189199e+11</td>\n",
       "      <td>5.212737e+11</td>\n",
       "      <td>NaN</td>\n",
       "    </tr>\n",
       "    <tr>\n",
       "      <th>Armenia</th>\n",
       "      <td>8.679746e+09</td>\n",
       "      <td>9.873142e+09</td>\n",
       "      <td>1.055439e+10</td>\n",
       "      <td>9.060944e+09</td>\n",
       "      <td>9.260285e+09</td>\n",
       "      <td>9.695518e+09</td>\n",
       "      <td>1.039360e+10</td>\n",
       "      <td>1.073658e+10</td>\n",
       "      <td>1.111236e+10</td>\n",
       "      <td>1.144574e+10</td>\n",
       "    </tr>\n",
       "    <tr>\n",
       "      <th>American Samoa</th>\n",
       "      <td>NaN</td>\n",
       "      <td>NaN</td>\n",
       "      <td>NaN</td>\n",
       "      <td>NaN</td>\n",
       "      <td>NaN</td>\n",
       "      <td>NaN</td>\n",
       "      <td>NaN</td>\n",
       "      <td>NaN</td>\n",
       "      <td>NaN</td>\n",
       "      <td>NaN</td>\n",
       "    </tr>\n",
       "    <tr>\n",
       "      <th>Antigua and Barbuda</th>\n",
       "      <td>1.268714e+09</td>\n",
       "      <td>1.389229e+09</td>\n",
       "      <td>1.390217e+09</td>\n",
       "      <td>1.222890e+09</td>\n",
       "      <td>1.135539e+09</td>\n",
       "      <td>1.115174e+09</td>\n",
       "      <td>1.159999e+09</td>\n",
       "      <td>1.155982e+09</td>\n",
       "      <td>1.211723e+09</td>\n",
       "      <td>1.256122e+09</td>\n",
       "    </tr>\n",
       "    <tr>\n",
       "      <th>Australia</th>\n",
       "      <td>1.021939e+12</td>\n",
       "      <td>1.060340e+12</td>\n",
       "      <td>1.099644e+12</td>\n",
       "      <td>1.119654e+12</td>\n",
       "      <td>1.142251e+12</td>\n",
       "      <td>1.169431e+12</td>\n",
       "      <td>1.211913e+12</td>\n",
       "      <td>1.241484e+12</td>\n",
       "      <td>1.272520e+12</td>\n",
       "      <td>1.301251e+12</td>\n",
       "    </tr>\n",
       "    <tr>\n",
       "      <th>Austria</th>\n",
       "      <td>3.782096e+11</td>\n",
       "      <td>3.919065e+11</td>\n",
       "      <td>3.979703e+11</td>\n",
       "      <td>3.828512e+11</td>\n",
       "      <td>3.902351e+11</td>\n",
       "      <td>4.011929e+11</td>\n",
       "      <td>4.042312e+11</td>\n",
       "      <td>4.055298e+11</td>\n",
       "      <td>4.069632e+11</td>\n",
       "      <td>4.104717e+11</td>\n",
       "    </tr>\n",
       "    <tr>\n",
       "      <th>Azerbaijan</th>\n",
       "      <td>3.329047e+10</td>\n",
       "      <td>4.162940e+10</td>\n",
       "      <td>4.611390e+10</td>\n",
       "      <td>5.045352e+10</td>\n",
       "      <td>5.290270e+10</td>\n",
       "      <td>5.293758e+10</td>\n",
       "      <td>5.410221e+10</td>\n",
       "      <td>5.723834e+10</td>\n",
       "      <td>5.838310e+10</td>\n",
       "      <td>5.902532e+10</td>\n",
       "    </tr>\n",
       "    <tr>\n",
       "      <th>Burundi</th>\n",
       "      <td>1.714698e+09</td>\n",
       "      <td>1.796761e+09</td>\n",
       "      <td>1.887463e+09</td>\n",
       "      <td>1.952928e+09</td>\n",
       "      <td>2.026864e+09</td>\n",
       "      <td>2.111823e+09</td>\n",
       "      <td>2.196705e+09</td>\n",
       "      <td>2.297623e+09</td>\n",
       "      <td>2.404713e+09</td>\n",
       "      <td>2.343733e+09</td>\n",
       "    </tr>\n",
       "    <tr>\n",
       "      <th>Belgium</th>\n",
       "      <td>4.626081e+11</td>\n",
       "      <td>4.783251e+11</td>\n",
       "      <td>4.818987e+11</td>\n",
       "      <td>4.708879e+11</td>\n",
       "      <td>4.835775e+11</td>\n",
       "      <td>4.922666e+11</td>\n",
       "      <td>4.930476e+11</td>\n",
       "      <td>4.930627e+11</td>\n",
       "      <td>4.994502e+11</td>\n",
       "      <td>5.063123e+11</td>\n",
       "    </tr>\n",
       "    <tr>\n",
       "      <th>Benin</th>\n",
       "      <td>6.000596e+09</td>\n",
       "      <td>6.359822e+09</td>\n",
       "      <td>6.671034e+09</td>\n",
       "      <td>6.825750e+09</td>\n",
       "      <td>6.970241e+09</td>\n",
       "      <td>7.176752e+09</td>\n",
       "      <td>7.509970e+09</td>\n",
       "      <td>8.026581e+09</td>\n",
       "      <td>8.551638e+09</td>\n",
       "      <td>8.999782e+09</td>\n",
       "    </tr>\n",
       "    <tr>\n",
       "      <th>Burkina Faso</th>\n",
       "      <td>7.094394e+09</td>\n",
       "      <td>7.495583e+09</td>\n",
       "      <td>8.042348e+09</td>\n",
       "      <td>8.280563e+09</td>\n",
       "      <td>8.979967e+09</td>\n",
       "      <td>9.565619e+09</td>\n",
       "      <td>1.018286e+10</td>\n",
       "      <td>1.055446e+10</td>\n",
       "      <td>1.098168e+10</td>\n",
       "      <td>1.141871e+10</td>\n",
       "    </tr>\n",
       "    <tr>\n",
       "      <th>Bangladesh</th>\n",
       "      <td>9.158885e+10</td>\n",
       "      <td>9.805377e+10</td>\n",
       "      <td>1.039505e+11</td>\n",
       "      <td>1.091950e+11</td>\n",
       "      <td>1.152791e+11</td>\n",
       "      <td>1.227312e+11</td>\n",
       "      <td>1.307350e+11</td>\n",
       "      <td>1.385969e+11</td>\n",
       "      <td>1.469974e+11</td>\n",
       "      <td>1.566295e+11</td>\n",
       "    </tr>\n",
       "    <tr>\n",
       "      <th>Bulgaria</th>\n",
       "      <td>4.580943e+10</td>\n",
       "      <td>4.932546e+10</td>\n",
       "      <td>5.211087e+10</td>\n",
       "      <td>4.991194e+10</td>\n",
       "      <td>4.993917e+10</td>\n",
       "      <td>5.073019e+10</td>\n",
       "      <td>5.085046e+10</td>\n",
       "      <td>5.150230e+10</td>\n",
       "      <td>5.230059e+10</td>\n",
       "      <td>5.385242e+10</td>\n",
       "    </tr>\n",
       "    <tr>\n",
       "      <th>Bahrain</th>\n",
       "      <td>2.088961e+10</td>\n",
       "      <td>2.262186e+10</td>\n",
       "      <td>2.403463e+10</td>\n",
       "      <td>2.464505e+10</td>\n",
       "      <td>2.571327e+10</td>\n",
       "      <td>2.625330e+10</td>\n",
       "      <td>2.719545e+10</td>\n",
       "      <td>2.866752e+10</td>\n",
       "      <td>2.995210e+10</td>\n",
       "      <td>3.082866e+10</td>\n",
       "    </tr>\n",
       "    <tr>\n",
       "      <th>Bahamas, The</th>\n",
       "      <td>8.203865e+09</td>\n",
       "      <td>8.322536e+09</td>\n",
       "      <td>8.129126e+09</td>\n",
       "      <td>7.789714e+09</td>\n",
       "      <td>7.909580e+09</td>\n",
       "      <td>7.958058e+09</td>\n",
       "      <td>8.134513e+09</td>\n",
       "      <td>8.136305e+09</td>\n",
       "      <td>8.219522e+09</td>\n",
       "      <td>8.319840e+09</td>\n",
       "    </tr>\n",
       "    <tr>\n",
       "      <th>Bosnia and Herzegovina</th>\n",
       "      <td>1.572365e+10</td>\n",
       "      <td>1.662442e+10</td>\n",
       "      <td>1.753569e+10</td>\n",
       "      <td>1.703244e+10</td>\n",
       "      <td>1.716312e+10</td>\n",
       "      <td>1.731900e+10</td>\n",
       "      <td>1.715738e+10</td>\n",
       "      <td>1.756816e+10</td>\n",
       "      <td>1.775823e+10</td>\n",
       "      <td>1.831896e+10</td>\n",
       "    </tr>\n",
       "    <tr>\n",
       "      <th>Belarus</th>\n",
       "      <td>4.274098e+10</td>\n",
       "      <td>4.641670e+10</td>\n",
       "      <td>5.115121e+10</td>\n",
       "      <td>5.125351e+10</td>\n",
       "      <td>5.522093e+10</td>\n",
       "      <td>5.828222e+10</td>\n",
       "      <td>5.929132e+10</td>\n",
       "      <td>5.992787e+10</td>\n",
       "      <td>6.096048e+10</td>\n",
       "      <td>5.859052e+10</td>\n",
       "    </tr>\n",
       "    <tr>\n",
       "      <th>Belize</th>\n",
       "      <td>1.285312e+09</td>\n",
       "      <td>1.299522e+09</td>\n",
       "      <td>1.341485e+09</td>\n",
       "      <td>1.352206e+09</td>\n",
       "      <td>1.397113e+09</td>\n",
       "      <td>1.426484e+09</td>\n",
       "      <td>1.479846e+09</td>\n",
       "      <td>1.499280e+09</td>\n",
       "      <td>1.560479e+09</td>\n",
       "      <td>1.590417e+09</td>\n",
       "    </tr>\n",
       "    <tr>\n",
       "      <th>Bermuda</th>\n",
       "      <td>5.932559e+09</td>\n",
       "      <td>6.101393e+09</td>\n",
       "      <td>6.194616e+09</td>\n",
       "      <td>5.867282e+09</td>\n",
       "      <td>5.744414e+09</td>\n",
       "      <td>5.552580e+09</td>\n",
       "      <td>5.284138e+09</td>\n",
       "      <td>5.151445e+09</td>\n",
       "      <td>NaN</td>\n",
       "      <td>NaN</td>\n",
       "    </tr>\n",
       "    <tr>\n",
       "      <th>Bolivia</th>\n",
       "      <td>1.644957e+10</td>\n",
       "      <td>1.720040e+10</td>\n",
       "      <td>1.825796e+10</td>\n",
       "      <td>1.887088e+10</td>\n",
       "      <td>1.964963e+10</td>\n",
       "      <td>2.067222e+10</td>\n",
       "      <td>2.173110e+10</td>\n",
       "      <td>2.320795e+10</td>\n",
       "      <td>2.447524e+10</td>\n",
       "      <td>2.544488e+10</td>\n",
       "    </tr>\n",
       "    <tr>\n",
       "      <th>Brazil</th>\n",
       "      <td>1.845080e+12</td>\n",
       "      <td>1.957118e+12</td>\n",
       "      <td>2.056809e+12</td>\n",
       "      <td>2.054215e+12</td>\n",
       "      <td>2.208872e+12</td>\n",
       "      <td>2.295245e+12</td>\n",
       "      <td>2.339209e+12</td>\n",
       "      <td>2.409740e+12</td>\n",
       "      <td>2.412231e+12</td>\n",
       "      <td>2.319423e+12</td>\n",
       "    </tr>\n",
       "    <tr>\n",
       "      <th>Barbados</th>\n",
       "      <td>4.522426e+09</td>\n",
       "      <td>4.599352e+09</td>\n",
       "      <td>4.619595e+09</td>\n",
       "      <td>4.433354e+09</td>\n",
       "      <td>4.445500e+09</td>\n",
       "      <td>4.477890e+09</td>\n",
       "      <td>4.490036e+09</td>\n",
       "      <td>4.490036e+09</td>\n",
       "      <td>4.498133e+09</td>\n",
       "      <td>4.542669e+09</td>\n",
       "    </tr>\n",
       "    <tr>\n",
       "      <th>Brunei Darussalam</th>\n",
       "      <td>1.249730e+10</td>\n",
       "      <td>1.251661e+10</td>\n",
       "      <td>1.227383e+10</td>\n",
       "      <td>1.205725e+10</td>\n",
       "      <td>1.237062e+10</td>\n",
       "      <td>1.279491e+10</td>\n",
       "      <td>1.291625e+10</td>\n",
       "      <td>1.268996e+10</td>\n",
       "      <td>1.239301e+10</td>\n",
       "      <td>1.233105e+10</td>\n",
       "    </tr>\n",
       "    <tr>\n",
       "      <th>...</th>\n",
       "      <td>...</td>\n",
       "      <td>...</td>\n",
       "      <td>...</td>\n",
       "      <td>...</td>\n",
       "      <td>...</td>\n",
       "      <td>...</td>\n",
       "      <td>...</td>\n",
       "      <td>...</td>\n",
       "      <td>...</td>\n",
       "      <td>...</td>\n",
       "    </tr>\n",
       "    <tr>\n",
       "      <th>Middle East &amp; North Africa (IDA &amp; IBRD countries)</th>\n",
       "      <td>1.128451e+12</td>\n",
       "      <td>1.200513e+12</td>\n",
       "      <td>1.246733e+12</td>\n",
       "      <td>1.284551e+12</td>\n",
       "      <td>1.354033e+12</td>\n",
       "      <td>1.344512e+12</td>\n",
       "      <td>1.381807e+12</td>\n",
       "      <td>1.394728e+12</td>\n",
       "      <td>1.416758e+12</td>\n",
       "      <td>NaN</td>\n",
       "    </tr>\n",
       "    <tr>\n",
       "      <th>Timor-Leste</th>\n",
       "      <td>5.940000e+08</td>\n",
       "      <td>6.620000e+08</td>\n",
       "      <td>7.560000e+08</td>\n",
       "      <td>8.540000e+08</td>\n",
       "      <td>9.340000e+08</td>\n",
       "      <td>1.023000e+09</td>\n",
       "      <td>1.088000e+09</td>\n",
       "      <td>1.118000e+09</td>\n",
       "      <td>1.179490e+09</td>\n",
       "      <td>1.229630e+09</td>\n",
       "    </tr>\n",
       "    <tr>\n",
       "      <th>Tonga</th>\n",
       "      <td>3.591646e+08</td>\n",
       "      <td>3.427468e+08</td>\n",
       "      <td>3.511655e+08</td>\n",
       "      <td>3.550268e+08</td>\n",
       "      <td>3.698161e+08</td>\n",
       "      <td>3.772832e+08</td>\n",
       "      <td>3.793467e+08</td>\n",
       "      <td>3.691972e+08</td>\n",
       "      <td>3.771126e+08</td>\n",
       "      <td>NaN</td>\n",
       "    </tr>\n",
       "    <tr>\n",
       "      <th>South Asia (IDA &amp; IBRD)</th>\n",
       "      <td>1.588121e+12</td>\n",
       "      <td>1.716564e+12</td>\n",
       "      <td>1.783227e+12</td>\n",
       "      <td>1.919371e+12</td>\n",
       "      <td>2.093719e+12</td>\n",
       "      <td>2.226077e+12</td>\n",
       "      <td>2.351842e+12</td>\n",
       "      <td>2.499225e+12</td>\n",
       "      <td>2.670483e+12</td>\n",
       "      <td>2.862660e+12</td>\n",
       "    </tr>\n",
       "    <tr>\n",
       "      <th>Sub-Saharan Africa (IDA &amp; IBRD countries)</th>\n",
       "      <td>1.107337e+12</td>\n",
       "      <td>1.185713e+12</td>\n",
       "      <td>1.248779e+12</td>\n",
       "      <td>1.284295e+12</td>\n",
       "      <td>1.355385e+12</td>\n",
       "      <td>1.413707e+12</td>\n",
       "      <td>1.465242e+12</td>\n",
       "      <td>1.534734e+12</td>\n",
       "      <td>1.605815e+12</td>\n",
       "      <td>1.653644e+12</td>\n",
       "    </tr>\n",
       "    <tr>\n",
       "      <th>Trinidad and Tobago</th>\n",
       "      <td>2.033516e+10</td>\n",
       "      <td>2.130193e+10</td>\n",
       "      <td>2.202416e+10</td>\n",
       "      <td>2.105717e+10</td>\n",
       "      <td>2.103761e+10</td>\n",
       "      <td>2.103908e+10</td>\n",
       "      <td>2.132649e+10</td>\n",
       "      <td>2.169752e+10</td>\n",
       "      <td>2.187468e+10</td>\n",
       "      <td>2.209480e+10</td>\n",
       "    </tr>\n",
       "    <tr>\n",
       "      <th>Tunisia</th>\n",
       "      <td>3.712967e+10</td>\n",
       "      <td>3.962093e+10</td>\n",
       "      <td>4.129998e+10</td>\n",
       "      <td>4.255692e+10</td>\n",
       "      <td>4.405093e+10</td>\n",
       "      <td>4.300079e+10</td>\n",
       "      <td>4.459182e+10</td>\n",
       "      <td>4.561743e+10</td>\n",
       "      <td>4.666663e+10</td>\n",
       "      <td>4.703997e+10</td>\n",
       "    </tr>\n",
       "    <tr>\n",
       "      <th>Turkey</th>\n",
       "      <td>6.680034e+11</td>\n",
       "      <td>6.991896e+11</td>\n",
       "      <td>7.037962e+11</td>\n",
       "      <td>6.698319e+11</td>\n",
       "      <td>7.311681e+11</td>\n",
       "      <td>7.953116e+11</td>\n",
       "      <td>8.122315e+11</td>\n",
       "      <td>8.462844e+11</td>\n",
       "      <td>8.718432e+11</td>\n",
       "      <td>9.065849e+11</td>\n",
       "    </tr>\n",
       "    <tr>\n",
       "      <th>Tuvalu</th>\n",
       "      <td>2.980999e+07</td>\n",
       "      <td>3.170309e+07</td>\n",
       "      <td>3.423404e+07</td>\n",
       "      <td>3.271649e+07</td>\n",
       "      <td>3.182352e+07</td>\n",
       "      <td>3.451366e+07</td>\n",
       "      <td>3.457388e+07</td>\n",
       "      <td>3.502271e+07</td>\n",
       "      <td>3.571892e+07</td>\n",
       "      <td>NaN</td>\n",
       "    </tr>\n",
       "    <tr>\n",
       "      <th>Tanzania</th>\n",
       "      <td>2.447280e+10</td>\n",
       "      <td>2.654427e+10</td>\n",
       "      <td>2.802189e+10</td>\n",
       "      <td>2.953012e+10</td>\n",
       "      <td>3.140791e+10</td>\n",
       "      <td>3.389055e+10</td>\n",
       "      <td>3.563287e+10</td>\n",
       "      <td>3.822090e+10</td>\n",
       "      <td>4.088304e+10</td>\n",
       "      <td>4.373172e+10</td>\n",
       "    </tr>\n",
       "    <tr>\n",
       "      <th>Uganda</th>\n",
       "      <td>1.518174e+10</td>\n",
       "      <td>1.645889e+10</td>\n",
       "      <td>1.789225e+10</td>\n",
       "      <td>1.918963e+10</td>\n",
       "      <td>2.018180e+10</td>\n",
       "      <td>2.213403e+10</td>\n",
       "      <td>2.311042e+10</td>\n",
       "      <td>2.386630e+10</td>\n",
       "      <td>2.501553e+10</td>\n",
       "      <td>2.627705e+10</td>\n",
       "    </tr>\n",
       "    <tr>\n",
       "      <th>Ukraine</th>\n",
       "      <td>1.392103e+11</td>\n",
       "      <td>1.502079e+11</td>\n",
       "      <td>1.536627e+11</td>\n",
       "      <td>1.309206e+11</td>\n",
       "      <td>1.364193e+11</td>\n",
       "      <td>1.435131e+11</td>\n",
       "      <td>1.438001e+11</td>\n",
       "      <td>1.438001e+11</td>\n",
       "      <td>1.343093e+11</td>\n",
       "      <td>1.210127e+11</td>\n",
       "    </tr>\n",
       "    <tr>\n",
       "      <th>Upper middle income</th>\n",
       "      <td>1.209926e+13</td>\n",
       "      <td>1.319424e+13</td>\n",
       "      <td>1.398552e+13</td>\n",
       "      <td>1.423007e+13</td>\n",
       "      <td>1.530029e+13</td>\n",
       "      <td>1.623576e+13</td>\n",
       "      <td>1.706156e+13</td>\n",
       "      <td>1.786328e+13</td>\n",
       "      <td>1.856972e+13</td>\n",
       "      <td>1.912141e+13</td>\n",
       "    </tr>\n",
       "    <tr>\n",
       "      <th>Uruguay</th>\n",
       "      <td>3.139363e+10</td>\n",
       "      <td>3.344725e+10</td>\n",
       "      <td>3.584747e+10</td>\n",
       "      <td>3.736865e+10</td>\n",
       "      <td>4.028468e+10</td>\n",
       "      <td>4.236423e+10</td>\n",
       "      <td>4.386315e+10</td>\n",
       "      <td>4.589732e+10</td>\n",
       "      <td>4.738384e+10</td>\n",
       "      <td>4.784927e+10</td>\n",
       "    </tr>\n",
       "    <tr>\n",
       "      <th>United States</th>\n",
       "      <td>1.479230e+13</td>\n",
       "      <td>1.505540e+13</td>\n",
       "      <td>1.501149e+13</td>\n",
       "      <td>1.459484e+13</td>\n",
       "      <td>1.496437e+13</td>\n",
       "      <td>1.520402e+13</td>\n",
       "      <td>1.554216e+13</td>\n",
       "      <td>1.577367e+13</td>\n",
       "      <td>1.615662e+13</td>\n",
       "      <td>1.654857e+13</td>\n",
       "    </tr>\n",
       "    <tr>\n",
       "      <th>Uzbekistan</th>\n",
       "      <td>2.798925e+10</td>\n",
       "      <td>3.076611e+10</td>\n",
       "      <td>3.353506e+10</td>\n",
       "      <td>3.625140e+10</td>\n",
       "      <td>3.933277e+10</td>\n",
       "      <td>4.259739e+10</td>\n",
       "      <td>4.609038e+10</td>\n",
       "      <td>4.977761e+10</td>\n",
       "      <td>5.380959e+10</td>\n",
       "      <td>5.811436e+10</td>\n",
       "    </tr>\n",
       "    <tr>\n",
       "      <th>St. Vincent and the Grenadines</th>\n",
       "      <td>6.857344e+08</td>\n",
       "      <td>6.746459e+08</td>\n",
       "      <td>7.200629e+08</td>\n",
       "      <td>7.049483e+08</td>\n",
       "      <td>6.812260e+08</td>\n",
       "      <td>6.783400e+08</td>\n",
       "      <td>6.877044e+08</td>\n",
       "      <td>6.991892e+08</td>\n",
       "      <td>7.037801e+08</td>\n",
       "      <td>7.139983e+08</td>\n",
       "    </tr>\n",
       "    <tr>\n",
       "      <th>Venezuela, RB</th>\n",
       "      <td>3.606999e+11</td>\n",
       "      <td>3.922741e+11</td>\n",
       "      <td>4.129777e+11</td>\n",
       "      <td>3.997529e+11</td>\n",
       "      <td>3.938015e+11</td>\n",
       "      <td>4.102483e+11</td>\n",
       "      <td>4.333287e+11</td>\n",
       "      <td>4.391487e+11</td>\n",
       "      <td>4.220465e+11</td>\n",
       "      <td>3.979899e+11</td>\n",
       "    </tr>\n",
       "    <tr>\n",
       "      <th>British Virgin Islands</th>\n",
       "      <td>NaN</td>\n",
       "      <td>NaN</td>\n",
       "      <td>NaN</td>\n",
       "      <td>NaN</td>\n",
       "      <td>NaN</td>\n",
       "      <td>NaN</td>\n",
       "      <td>NaN</td>\n",
       "      <td>NaN</td>\n",
       "      <td>NaN</td>\n",
       "      <td>NaN</td>\n",
       "    </tr>\n",
       "    <tr>\n",
       "      <th>Virgin Islands (U.S.)</th>\n",
       "      <td>NaN</td>\n",
       "      <td>NaN</td>\n",
       "      <td>NaN</td>\n",
       "      <td>NaN</td>\n",
       "      <td>NaN</td>\n",
       "      <td>NaN</td>\n",
       "      <td>NaN</td>\n",
       "      <td>NaN</td>\n",
       "      <td>NaN</td>\n",
       "      <td>NaN</td>\n",
       "    </tr>\n",
       "    <tr>\n",
       "      <th>Vietnam</th>\n",
       "      <td>9.130761e+10</td>\n",
       "      <td>9.781739e+10</td>\n",
       "      <td>1.033556e+11</td>\n",
       "      <td>1.089346e+11</td>\n",
       "      <td>1.159317e+11</td>\n",
       "      <td>1.231662e+11</td>\n",
       "      <td>1.296292e+11</td>\n",
       "      <td>1.366576e+11</td>\n",
       "      <td>1.448347e+11</td>\n",
       "      <td>1.545086e+11</td>\n",
       "    </tr>\n",
       "    <tr>\n",
       "      <th>Vanuatu</th>\n",
       "      <td>5.961693e+08</td>\n",
       "      <td>6.270251e+08</td>\n",
       "      <td>6.674589e+08</td>\n",
       "      <td>6.895706e+08</td>\n",
       "      <td>7.008043e+08</td>\n",
       "      <td>7.093767e+08</td>\n",
       "      <td>7.218245e+08</td>\n",
       "      <td>7.360383e+08</td>\n",
       "      <td>7.529991e+08</td>\n",
       "      <td>NaN</td>\n",
       "    </tr>\n",
       "    <tr>\n",
       "      <th>West Bank and Gaza</th>\n",
       "      <td>8.016675e+09</td>\n",
       "      <td>7.878227e+09</td>\n",
       "      <td>7.201473e+09</td>\n",
       "      <td>8.709518e+09</td>\n",
       "      <td>8.913100e+09</td>\n",
       "      <td>9.611505e+09</td>\n",
       "      <td>1.100864e+10</td>\n",
       "      <td>1.053747e+10</td>\n",
       "      <td>1.042246e+10</td>\n",
       "      <td>1.171414e+10</td>\n",
       "    </tr>\n",
       "    <tr>\n",
       "      <th>World</th>\n",
       "      <td>6.023536e+13</td>\n",
       "      <td>6.282865e+13</td>\n",
       "      <td>6.398692e+13</td>\n",
       "      <td>6.291271e+13</td>\n",
       "      <td>6.564782e+13</td>\n",
       "      <td>6.770244e+13</td>\n",
       "      <td>6.937886e+13</td>\n",
       "      <td>7.104232e+13</td>\n",
       "      <td>7.291072e+13</td>\n",
       "      <td>7.470901e+13</td>\n",
       "    </tr>\n",
       "    <tr>\n",
       "      <th>Samoa</th>\n",
       "      <td>6.393881e+08</td>\n",
       "      <td>6.798143e+08</td>\n",
       "      <td>6.866743e+08</td>\n",
       "      <td>6.536571e+08</td>\n",
       "      <td>6.567891e+08</td>\n",
       "      <td>6.947420e+08</td>\n",
       "      <td>6.975356e+08</td>\n",
       "      <td>6.840462e+08</td>\n",
       "      <td>6.922284e+08</td>\n",
       "      <td>7.035448e+08</td>\n",
       "    </tr>\n",
       "    <tr>\n",
       "      <th>Yemen, Rep.</th>\n",
       "      <td>2.672565e+10</td>\n",
       "      <td>2.761787e+10</td>\n",
       "      <td>2.872656e+10</td>\n",
       "      <td>2.991436e+10</td>\n",
       "      <td>3.090675e+10</td>\n",
       "      <td>2.624342e+10</td>\n",
       "      <td>2.689160e+10</td>\n",
       "      <td>2.800914e+10</td>\n",
       "      <td>NaN</td>\n",
       "      <td>NaN</td>\n",
       "    </tr>\n",
       "    <tr>\n",
       "      <th>South Africa</th>\n",
       "      <td>3.402852e+11</td>\n",
       "      <td>3.585261e+11</td>\n",
       "      <td>3.699668e+11</td>\n",
       "      <td>3.642764e+11</td>\n",
       "      <td>3.753494e+11</td>\n",
       "      <td>3.874074e+11</td>\n",
       "      <td>3.960071e+11</td>\n",
       "      <td>4.047682e+11</td>\n",
       "      <td>4.110369e+11</td>\n",
       "      <td>4.163117e+11</td>\n",
       "    </tr>\n",
       "    <tr>\n",
       "      <th>Congo, Dem. Rep.</th>\n",
       "      <td>1.650894e+10</td>\n",
       "      <td>1.754232e+10</td>\n",
       "      <td>1.863448e+10</td>\n",
       "      <td>1.916651e+10</td>\n",
       "      <td>2.052329e+10</td>\n",
       "      <td>2.193213e+10</td>\n",
       "      <td>2.350200e+10</td>\n",
       "      <td>2.550050e+10</td>\n",
       "      <td>2.778776e+10</td>\n",
       "      <td>2.970961e+10</td>\n",
       "    </tr>\n",
       "    <tr>\n",
       "      <th>Zambia</th>\n",
       "      <td>1.440569e+10</td>\n",
       "      <td>1.560892e+10</td>\n",
       "      <td>1.682234e+10</td>\n",
       "      <td>1.837342e+10</td>\n",
       "      <td>2.026555e+10</td>\n",
       "      <td>2.140358e+10</td>\n",
       "      <td>2.302438e+10</td>\n",
       "      <td>2.420595e+10</td>\n",
       "      <td>2.542227e+10</td>\n",
       "      <td>2.624127e+10</td>\n",
       "    </tr>\n",
       "    <tr>\n",
       "      <th>Zimbabwe</th>\n",
       "      <td>1.006276e+10</td>\n",
       "      <td>9.695130e+09</td>\n",
       "      <td>7.982103e+09</td>\n",
       "      <td>8.459783e+09</td>\n",
       "      <td>9.422161e+09</td>\n",
       "      <td>1.054391e+10</td>\n",
       "      <td>1.165789e+10</td>\n",
       "      <td>1.218064e+10</td>\n",
       "      <td>1.264939e+10</td>\n",
       "      <td>1.278517e+10</td>\n",
       "    </tr>\n",
       "  </tbody>\n",
       "</table>\n",
       "<p>264 rows × 10 columns</p>\n",
       "</div>"
      ],
      "text/plain": [
       "                                                           2006          2007  \\\n",
       "Country                                                                         \n",
       "Aruba                                                       NaN           NaN   \n",
       "Andorra                                            4.018196e+09  4.021331e+09   \n",
       "Afghanistan                                        1.030523e+10  1.172119e+10   \n",
       "Angola                                             5.581103e+10  6.842044e+10   \n",
       "Albania                                            9.771760e+09  1.034829e+10   \n",
       "Arab World                                         1.763824e+12  1.863481e+12   \n",
       "United Arab Emirates                               2.789489e+11  2.878318e+11   \n",
       "Argentina                                          3.788140e+11  4.089887e+11   \n",
       "Armenia                                            8.679746e+09  9.873142e+09   \n",
       "American Samoa                                              NaN           NaN   \n",
       "Antigua and Barbuda                                1.268714e+09  1.389229e+09   \n",
       "Australia                                          1.021939e+12  1.060340e+12   \n",
       "Austria                                            3.782096e+11  3.919065e+11   \n",
       "Azerbaijan                                         3.329047e+10  4.162940e+10   \n",
       "Burundi                                            1.714698e+09  1.796761e+09   \n",
       "Belgium                                            4.626081e+11  4.783251e+11   \n",
       "Benin                                              6.000596e+09  6.359822e+09   \n",
       "Burkina Faso                                       7.094394e+09  7.495583e+09   \n",
       "Bangladesh                                         9.158885e+10  9.805377e+10   \n",
       "Bulgaria                                           4.580943e+10  4.932546e+10   \n",
       "Bahrain                                            2.088961e+10  2.262186e+10   \n",
       "Bahamas, The                                       8.203865e+09  8.322536e+09   \n",
       "Bosnia and Herzegovina                             1.572365e+10  1.662442e+10   \n",
       "Belarus                                            4.274098e+10  4.641670e+10   \n",
       "Belize                                             1.285312e+09  1.299522e+09   \n",
       "Bermuda                                            5.932559e+09  6.101393e+09   \n",
       "Bolivia                                            1.644957e+10  1.720040e+10   \n",
       "Brazil                                             1.845080e+12  1.957118e+12   \n",
       "Barbados                                           4.522426e+09  4.599352e+09   \n",
       "Brunei Darussalam                                  1.249730e+10  1.251661e+10   \n",
       "...                                                         ...           ...   \n",
       "Middle East & North Africa (IDA & IBRD countries)  1.128451e+12  1.200513e+12   \n",
       "Timor-Leste                                        5.940000e+08  6.620000e+08   \n",
       "Tonga                                              3.591646e+08  3.427468e+08   \n",
       "South Asia (IDA & IBRD)                            1.588121e+12  1.716564e+12   \n",
       "Sub-Saharan Africa (IDA & IBRD countries)          1.107337e+12  1.185713e+12   \n",
       "Trinidad and Tobago                                2.033516e+10  2.130193e+10   \n",
       "Tunisia                                            3.712967e+10  3.962093e+10   \n",
       "Turkey                                             6.680034e+11  6.991896e+11   \n",
       "Tuvalu                                             2.980999e+07  3.170309e+07   \n",
       "Tanzania                                           2.447280e+10  2.654427e+10   \n",
       "Uganda                                             1.518174e+10  1.645889e+10   \n",
       "Ukraine                                            1.392103e+11  1.502079e+11   \n",
       "Upper middle income                                1.209926e+13  1.319424e+13   \n",
       "Uruguay                                            3.139363e+10  3.344725e+10   \n",
       "United States                                      1.479230e+13  1.505540e+13   \n",
       "Uzbekistan                                         2.798925e+10  3.076611e+10   \n",
       "St. Vincent and the Grenadines                     6.857344e+08  6.746459e+08   \n",
       "Venezuela, RB                                      3.606999e+11  3.922741e+11   \n",
       "British Virgin Islands                                      NaN           NaN   \n",
       "Virgin Islands (U.S.)                                       NaN           NaN   \n",
       "Vietnam                                            9.130761e+10  9.781739e+10   \n",
       "Vanuatu                                            5.961693e+08  6.270251e+08   \n",
       "West Bank and Gaza                                 8.016675e+09  7.878227e+09   \n",
       "World                                              6.023536e+13  6.282865e+13   \n",
       "Samoa                                              6.393881e+08  6.798143e+08   \n",
       "Yemen, Rep.                                        2.672565e+10  2.761787e+10   \n",
       "South Africa                                       3.402852e+11  3.585261e+11   \n",
       "Congo, Dem. Rep.                                   1.650894e+10  1.754232e+10   \n",
       "Zambia                                             1.440569e+10  1.560892e+10   \n",
       "Zimbabwe                                           1.006276e+10  9.695130e+09   \n",
       "\n",
       "                                                           2008          2009  \\\n",
       "Country                                                                         \n",
       "Aruba                                                       NaN           NaN   \n",
       "Andorra                                            3.675728e+09  3.535389e+09   \n",
       "Afghanistan                                        1.214448e+10  1.469733e+10   \n",
       "Angola                                             7.787420e+10  7.975320e+10   \n",
       "Albania                                            1.112752e+10  1.150029e+10   \n",
       "Arab World                                         1.980983e+12  2.011001e+12   \n",
       "United Arab Emirates                               2.970189e+11  2.814464e+11   \n",
       "Argentina                                          4.215649e+11  4.217758e+11   \n",
       "Armenia                                            1.055439e+10  9.060944e+09   \n",
       "American Samoa                                              NaN           NaN   \n",
       "Antigua and Barbuda                                1.390217e+09  1.222890e+09   \n",
       "Australia                                          1.099644e+12  1.119654e+12   \n",
       "Austria                                            3.979703e+11  3.828512e+11   \n",
       "Azerbaijan                                         4.611390e+10  5.045352e+10   \n",
       "Burundi                                            1.887463e+09  1.952928e+09   \n",
       "Belgium                                            4.818987e+11  4.708879e+11   \n",
       "Benin                                              6.671034e+09  6.825750e+09   \n",
       "Burkina Faso                                       8.042348e+09  8.280563e+09   \n",
       "Bangladesh                                         1.039505e+11  1.091950e+11   \n",
       "Bulgaria                                           5.211087e+10  4.991194e+10   \n",
       "Bahrain                                            2.403463e+10  2.464505e+10   \n",
       "Bahamas, The                                       8.129126e+09  7.789714e+09   \n",
       "Bosnia and Herzegovina                             1.753569e+10  1.703244e+10   \n",
       "Belarus                                            5.115121e+10  5.125351e+10   \n",
       "Belize                                             1.341485e+09  1.352206e+09   \n",
       "Bermuda                                            6.194616e+09  5.867282e+09   \n",
       "Bolivia                                            1.825796e+10  1.887088e+10   \n",
       "Brazil                                             2.056809e+12  2.054215e+12   \n",
       "Barbados                                           4.619595e+09  4.433354e+09   \n",
       "Brunei Darussalam                                  1.227383e+10  1.205725e+10   \n",
       "...                                                         ...           ...   \n",
       "Middle East & North Africa (IDA & IBRD countries)  1.246733e+12  1.284551e+12   \n",
       "Timor-Leste                                        7.560000e+08  8.540000e+08   \n",
       "Tonga                                              3.511655e+08  3.550268e+08   \n",
       "South Asia (IDA & IBRD)                            1.783227e+12  1.919371e+12   \n",
       "Sub-Saharan Africa (IDA & IBRD countries)          1.248779e+12  1.284295e+12   \n",
       "Trinidad and Tobago                                2.202416e+10  2.105717e+10   \n",
       "Tunisia                                            4.129998e+10  4.255692e+10   \n",
       "Turkey                                             7.037962e+11  6.698319e+11   \n",
       "Tuvalu                                             3.423404e+07  3.271649e+07   \n",
       "Tanzania                                           2.802189e+10  2.953012e+10   \n",
       "Uganda                                             1.789225e+10  1.918963e+10   \n",
       "Ukraine                                            1.536627e+11  1.309206e+11   \n",
       "Upper middle income                                1.398552e+13  1.423007e+13   \n",
       "Uruguay                                            3.584747e+10  3.736865e+10   \n",
       "United States                                      1.501149e+13  1.459484e+13   \n",
       "Uzbekistan                                         3.353506e+10  3.625140e+10   \n",
       "St. Vincent and the Grenadines                     7.200629e+08  7.049483e+08   \n",
       "Venezuela, RB                                      4.129777e+11  3.997529e+11   \n",
       "British Virgin Islands                                      NaN           NaN   \n",
       "Virgin Islands (U.S.)                                       NaN           NaN   \n",
       "Vietnam                                            1.033556e+11  1.089346e+11   \n",
       "Vanuatu                                            6.674589e+08  6.895706e+08   \n",
       "West Bank and Gaza                                 7.201473e+09  8.709518e+09   \n",
       "World                                              6.398692e+13  6.291271e+13   \n",
       "Samoa                                              6.866743e+08  6.536571e+08   \n",
       "Yemen, Rep.                                        2.872656e+10  2.991436e+10   \n",
       "South Africa                                       3.699668e+11  3.642764e+11   \n",
       "Congo, Dem. Rep.                                   1.863448e+10  1.916651e+10   \n",
       "Zambia                                             1.682234e+10  1.837342e+10   \n",
       "Zimbabwe                                           7.982103e+09  8.459783e+09   \n",
       "\n",
       "                                                           2010          2011  \\\n",
       "Country                                                                         \n",
       "Aruba                                              2.467704e+09           NaN   \n",
       "Andorra                                            3.346317e+09  3.185605e+09   \n",
       "Afghanistan                                        1.593680e+10  1.691113e+10   \n",
       "Angola                                             8.247091e+10  8.570262e+10   \n",
       "Albania                                            1.192695e+10  1.223109e+10   \n",
       "Arab World                                         2.103825e+12  2.173896e+12   \n",
       "United Arab Emirates                               2.860493e+11  3.009462e+11   \n",
       "Argentina                                          4.616402e+11  5.003555e+11   \n",
       "Armenia                                            9.260285e+09  9.695518e+09   \n",
       "American Samoa                                              NaN           NaN   \n",
       "Antigua and Barbuda                                1.135539e+09  1.115174e+09   \n",
       "Australia                                          1.142251e+12  1.169431e+12   \n",
       "Austria                                            3.902351e+11  4.011929e+11   \n",
       "Azerbaijan                                         5.290270e+10  5.293758e+10   \n",
       "Burundi                                            2.026864e+09  2.111823e+09   \n",
       "Belgium                                            4.835775e+11  4.922666e+11   \n",
       "Benin                                              6.970241e+09  7.176752e+09   \n",
       "Burkina Faso                                       8.979967e+09  9.565619e+09   \n",
       "Bangladesh                                         1.152791e+11  1.227312e+11   \n",
       "Bulgaria                                           4.993917e+10  5.073019e+10   \n",
       "Bahrain                                            2.571327e+10  2.625330e+10   \n",
       "Bahamas, The                                       7.909580e+09  7.958058e+09   \n",
       "Bosnia and Herzegovina                             1.716312e+10  1.731900e+10   \n",
       "Belarus                                            5.522093e+10  5.828222e+10   \n",
       "Belize                                             1.397113e+09  1.426484e+09   \n",
       "Bermuda                                            5.744414e+09  5.552580e+09   \n",
       "Bolivia                                            1.964963e+10  2.067222e+10   \n",
       "Brazil                                             2.208872e+12  2.295245e+12   \n",
       "Barbados                                           4.445500e+09  4.477890e+09   \n",
       "Brunei Darussalam                                  1.237062e+10  1.279491e+10   \n",
       "...                                                         ...           ...   \n",
       "Middle East & North Africa (IDA & IBRD countries)  1.354033e+12  1.344512e+12   \n",
       "Timor-Leste                                        9.340000e+08  1.023000e+09   \n",
       "Tonga                                              3.698161e+08  3.772832e+08   \n",
       "South Asia (IDA & IBRD)                            2.093719e+12  2.226077e+12   \n",
       "Sub-Saharan Africa (IDA & IBRD countries)          1.355385e+12  1.413707e+12   \n",
       "Trinidad and Tobago                                2.103761e+10  2.103908e+10   \n",
       "Tunisia                                            4.405093e+10  4.300079e+10   \n",
       "Turkey                                             7.311681e+11  7.953116e+11   \n",
       "Tuvalu                                             3.182352e+07  3.451366e+07   \n",
       "Tanzania                                           3.140791e+10  3.389055e+10   \n",
       "Uganda                                             2.018180e+10  2.213403e+10   \n",
       "Ukraine                                            1.364193e+11  1.435131e+11   \n",
       "Upper middle income                                1.530029e+13  1.623576e+13   \n",
       "Uruguay                                            4.028468e+10  4.236423e+10   \n",
       "United States                                      1.496437e+13  1.520402e+13   \n",
       "Uzbekistan                                         3.933277e+10  4.259739e+10   \n",
       "St. Vincent and the Grenadines                     6.812260e+08  6.783400e+08   \n",
       "Venezuela, RB                                      3.938015e+11  4.102483e+11   \n",
       "British Virgin Islands                                      NaN           NaN   \n",
       "Virgin Islands (U.S.)                                       NaN           NaN   \n",
       "Vietnam                                            1.159317e+11  1.231662e+11   \n",
       "Vanuatu                                            7.008043e+08  7.093767e+08   \n",
       "West Bank and Gaza                                 8.913100e+09  9.611505e+09   \n",
       "World                                              6.564782e+13  6.770244e+13   \n",
       "Samoa                                              6.567891e+08  6.947420e+08   \n",
       "Yemen, Rep.                                        3.090675e+10  2.624342e+10   \n",
       "South Africa                                       3.753494e+11  3.874074e+11   \n",
       "Congo, Dem. Rep.                                   2.052329e+10  2.193213e+10   \n",
       "Zambia                                             2.026555e+10  2.140358e+10   \n",
       "Zimbabwe                                           9.422161e+09  1.054391e+10   \n",
       "\n",
       "                                                           2012          2013  \\\n",
       "Country                                                                         \n",
       "Aruba                                                       NaN           NaN   \n",
       "Andorra                                            3.129538e+09  3.127550e+09   \n",
       "Afghanistan                                        1.935220e+10  1.973134e+10   \n",
       "Angola                                             9.012096e+10  9.626143e+10   \n",
       "Albania                                            1.240477e+10  1.254247e+10   \n",
       "Arab World                                         2.318267e+12  2.385580e+12   \n",
       "United Arab Emirates                               3.216922e+11  3.355937e+11   \n",
       "Argentina                                          5.043671e+11  5.189199e+11   \n",
       "Armenia                                            1.039360e+10  1.073658e+10   \n",
       "American Samoa                                              NaN           NaN   \n",
       "Antigua and Barbuda                                1.159999e+09  1.155982e+09   \n",
       "Australia                                          1.211913e+12  1.241484e+12   \n",
       "Austria                                            4.042312e+11  4.055298e+11   \n",
       "Azerbaijan                                         5.410221e+10  5.723834e+10   \n",
       "Burundi                                            2.196705e+09  2.297623e+09   \n",
       "Belgium                                            4.930476e+11  4.930627e+11   \n",
       "Benin                                              7.509970e+09  8.026581e+09   \n",
       "Burkina Faso                                       1.018286e+10  1.055446e+10   \n",
       "Bangladesh                                         1.307350e+11  1.385969e+11   \n",
       "Bulgaria                                           5.085046e+10  5.150230e+10   \n",
       "Bahrain                                            2.719545e+10  2.866752e+10   \n",
       "Bahamas, The                                       8.134513e+09  8.136305e+09   \n",
       "Bosnia and Herzegovina                             1.715738e+10  1.756816e+10   \n",
       "Belarus                                            5.929132e+10  5.992787e+10   \n",
       "Belize                                             1.479846e+09  1.499280e+09   \n",
       "Bermuda                                            5.284138e+09  5.151445e+09   \n",
       "Bolivia                                            2.173110e+10  2.320795e+10   \n",
       "Brazil                                             2.339209e+12  2.409740e+12   \n",
       "Barbados                                           4.490036e+09  4.490036e+09   \n",
       "Brunei Darussalam                                  1.291625e+10  1.268996e+10   \n",
       "...                                                         ...           ...   \n",
       "Middle East & North Africa (IDA & IBRD countries)  1.381807e+12  1.394728e+12   \n",
       "Timor-Leste                                        1.088000e+09  1.118000e+09   \n",
       "Tonga                                              3.793467e+08  3.691972e+08   \n",
       "South Asia (IDA & IBRD)                            2.351842e+12  2.499225e+12   \n",
       "Sub-Saharan Africa (IDA & IBRD countries)          1.465242e+12  1.534734e+12   \n",
       "Trinidad and Tobago                                2.132649e+10  2.169752e+10   \n",
       "Tunisia                                            4.459182e+10  4.561743e+10   \n",
       "Turkey                                             8.122315e+11  8.462844e+11   \n",
       "Tuvalu                                             3.457388e+07  3.502271e+07   \n",
       "Tanzania                                           3.563287e+10  3.822090e+10   \n",
       "Uganda                                             2.311042e+10  2.386630e+10   \n",
       "Ukraine                                            1.438001e+11  1.438001e+11   \n",
       "Upper middle income                                1.706156e+13  1.786328e+13   \n",
       "Uruguay                                            4.386315e+10  4.589732e+10   \n",
       "United States                                      1.554216e+13  1.577367e+13   \n",
       "Uzbekistan                                         4.609038e+10  4.977761e+10   \n",
       "St. Vincent and the Grenadines                     6.877044e+08  6.991892e+08   \n",
       "Venezuela, RB                                      4.333287e+11  4.391487e+11   \n",
       "British Virgin Islands                                      NaN           NaN   \n",
       "Virgin Islands (U.S.)                                       NaN           NaN   \n",
       "Vietnam                                            1.296292e+11  1.366576e+11   \n",
       "Vanuatu                                            7.218245e+08  7.360383e+08   \n",
       "West Bank and Gaza                                 1.100864e+10  1.053747e+10   \n",
       "World                                              6.937886e+13  7.104232e+13   \n",
       "Samoa                                              6.975356e+08  6.840462e+08   \n",
       "Yemen, Rep.                                        2.689160e+10  2.800914e+10   \n",
       "South Africa                                       3.960071e+11  4.047682e+11   \n",
       "Congo, Dem. Rep.                                   2.350200e+10  2.550050e+10   \n",
       "Zambia                                             2.302438e+10  2.420595e+10   \n",
       "Zimbabwe                                           1.165789e+10  1.218064e+10   \n",
       "\n",
       "                                                           2014          2015  \n",
       "Country                                                                        \n",
       "Aruba                                                       NaN           NaN  \n",
       "Andorra                                                     NaN           NaN  \n",
       "Afghanistan                                        1.999032e+10  2.029415e+10  \n",
       "Angola                                             1.008863e+11  1.039106e+11  \n",
       "Albania                                            1.279331e+10  1.312082e+10  \n",
       "Arab World                                         2.436659e+12  2.509068e+12  \n",
       "United Arab Emirates                               3.509313e+11  3.621003e+11  \n",
       "Argentina                                          5.212737e+11           NaN  \n",
       "Armenia                                            1.111236e+10  1.144574e+10  \n",
       "American Samoa                                              NaN           NaN  \n",
       "Antigua and Barbuda                                1.211723e+09  1.256122e+09  \n",
       "Australia                                          1.272520e+12  1.301251e+12  \n",
       "Austria                                            4.069632e+11  4.104717e+11  \n",
       "Azerbaijan                                         5.838310e+10  5.902532e+10  \n",
       "Burundi                                            2.404713e+09  2.343733e+09  \n",
       "Belgium                                            4.994502e+11  5.063123e+11  \n",
       "Benin                                              8.551638e+09  8.999782e+09  \n",
       "Burkina Faso                                       1.098168e+10  1.141871e+10  \n",
       "Bangladesh                                         1.469974e+11  1.566295e+11  \n",
       "Bulgaria                                           5.230059e+10  5.385242e+10  \n",
       "Bahrain                                            2.995210e+10  3.082866e+10  \n",
       "Bahamas, The                                       8.219522e+09  8.319840e+09  \n",
       "Bosnia and Herzegovina                             1.775823e+10  1.831896e+10  \n",
       "Belarus                                            6.096048e+10  5.859052e+10  \n",
       "Belize                                             1.560479e+09  1.590417e+09  \n",
       "Bermuda                                                     NaN           NaN  \n",
       "Bolivia                                            2.447524e+10  2.544488e+10  \n",
       "Brazil                                             2.412231e+12  2.319423e+12  \n",
       "Barbados                                           4.498133e+09  4.542669e+09  \n",
       "Brunei Darussalam                                  1.239301e+10  1.233105e+10  \n",
       "...                                                         ...           ...  \n",
       "Middle East & North Africa (IDA & IBRD countries)  1.416758e+12           NaN  \n",
       "Timor-Leste                                        1.179490e+09  1.229630e+09  \n",
       "Tonga                                              3.771126e+08           NaN  \n",
       "South Asia (IDA & IBRD)                            2.670483e+12  2.862660e+12  \n",
       "Sub-Saharan Africa (IDA & IBRD countries)          1.605815e+12  1.653644e+12  \n",
       "Trinidad and Tobago                                2.187468e+10  2.209480e+10  \n",
       "Tunisia                                            4.666663e+10  4.703997e+10  \n",
       "Turkey                                             8.718432e+11  9.065849e+11  \n",
       "Tuvalu                                             3.571892e+07           NaN  \n",
       "Tanzania                                           4.088304e+10  4.373172e+10  \n",
       "Uganda                                             2.501553e+10  2.627705e+10  \n",
       "Ukraine                                            1.343093e+11  1.210127e+11  \n",
       "Upper middle income                                1.856972e+13  1.912141e+13  \n",
       "Uruguay                                            4.738384e+10  4.784927e+10  \n",
       "United States                                      1.615662e+13  1.654857e+13  \n",
       "Uzbekistan                                         5.380959e+10  5.811436e+10  \n",
       "St. Vincent and the Grenadines                     7.037801e+08  7.139983e+08  \n",
       "Venezuela, RB                                      4.220465e+11  3.979899e+11  \n",
       "British Virgin Islands                                      NaN           NaN  \n",
       "Virgin Islands (U.S.)                                       NaN           NaN  \n",
       "Vietnam                                            1.448347e+11  1.545086e+11  \n",
       "Vanuatu                                            7.529991e+08           NaN  \n",
       "West Bank and Gaza                                 1.042246e+10  1.171414e+10  \n",
       "World                                              7.291072e+13  7.470901e+13  \n",
       "Samoa                                              6.922284e+08  7.035448e+08  \n",
       "Yemen, Rep.                                                 NaN           NaN  \n",
       "South Africa                                       4.110369e+11  4.163117e+11  \n",
       "Congo, Dem. Rep.                                   2.778776e+10  2.970961e+10  \n",
       "Zambia                                             2.542227e+10  2.624127e+10  \n",
       "Zimbabwe                                           1.264939e+10  1.278517e+10  \n",
       "\n",
       "[264 rows x 10 columns]"
      ]
     },
     "execution_count": 217,
     "metadata": {},
     "output_type": "execute_result"
    }
   ],
   "source": [
    "q3_df"
   ]
  },
  {
   "cell_type": "code",
   "execution_count": 218,
   "metadata": {
    "collapsed": false
   },
   "outputs": [],
   "source": [
    "cols = q3_df.columns"
   ]
  },
  {
   "cell_type": "code",
   "execution_count": 219,
   "metadata": {
    "collapsed": false
   },
   "outputs": [
    {
     "data": {
      "text/plain": [
       "Index(['2006', '2007', '2008', '2009', '2010', '2011', '2012', '2013', '2014',\n",
       "       '2015'],\n",
       "      dtype='object')"
      ]
     },
     "execution_count": 219,
     "metadata": {},
     "output_type": "execute_result"
    }
   ],
   "source": [
    "cols"
   ]
  },
  {
   "cell_type": "code",
   "execution_count": 221,
   "metadata": {
    "collapsed": true
   },
   "outputs": [],
   "source": [
    "a = lambda x: np.mean(x)"
   ]
  },
  {
   "cell_type": "code",
   "execution_count": 227,
   "metadata": {
    "collapsed": false
   },
   "outputs": [],
   "source": [
    "country_mean = q3_df.apply(a,axis=1)"
   ]
  },
  {
   "cell_type": "code",
   "execution_count": 228,
   "metadata": {
    "collapsed": false
   },
   "outputs": [
    {
     "data": {
      "text/plain": [
       "Country\n",
       "Aruba                                                2.467704e+09\n",
       "Andorra                                              3.504957e+09\n",
       "Afghanistan                                          1.610842e+10\n",
       "Angola                                               8.412116e+10\n",
       "Albania                                              1.177673e+10\n",
       "Arab World                                           2.154659e+12\n",
       "United Arab Emirates                                 3.102559e+11\n",
       "Argentina                                            4.597444e+11\n",
       "Armenia                                              1.008123e+10\n",
       "American Samoa                                                NaN\n",
       "Antigua and Barbuda                                  1.230559e+09\n",
       "Australia                                            1.164043e+12\n",
       "Austria                                              3.969561e+11\n",
       "Azerbaijan                                           5.060765e+10\n",
       "Burundi                                              2.073331e+09\n",
       "Belgium                                              4.861437e+11\n",
       "Benin                                                7.309217e+09\n",
       "Burkina Faso                                         9.259618e+09\n",
       "Bangladesh                                           1.213757e+11\n",
       "Bulgaria                                             5.063328e+10\n",
       "Bahrain                                              2.608015e+10\n",
       "Bahamas, The                                         8.112306e+09\n",
       "Bosnia and Herzegovina                               1.722010e+10\n",
       "Belarus                                              5.438357e+10\n",
       "Belize                                               1.423214e+09\n",
       "Bermuda                                              5.728553e+09\n",
       "Bolivia                                              2.059598e+10\n",
       "Brazil                                               2.189794e+12\n",
       "Barbados                                             4.511899e+09\n",
       "Brunei Darussalam                                    1.248408e+10\n",
       "                                                         ...     \n",
       "Middle East & North Africa (IDA & IBRD countries)    1.305787e+12\n",
       "Timor-Leste                                          9.438120e+08\n",
       "Tonga                                                3.645399e+08\n",
       "South Asia (IDA & IBRD)                              2.171129e+12\n",
       "Sub-Saharan Africa (IDA & IBRD countries)            1.385465e+12\n",
       "Trinidad and Tobago                                  2.137886e+10\n",
       "Tunisia                                              4.315751e+10\n",
       "Turkey                                               7.704245e+11\n",
       "Tuvalu                                               3.334626e+07\n",
       "Tanzania                                             3.323361e+10\n",
       "Uganda                                               2.093076e+10\n",
       "Ukraine                                              1.396856e+11\n",
       "Upper middle income                                  1.576611e+13\n",
       "Uruguay                                              4.056995e+10\n",
       "United States                                        1.536434e+13\n",
       "Uzbekistan                                           4.182639e+10\n",
       "St. Vincent and the Grenadines                       6.949630e+08\n",
       "Venezuela, RB                                        4.062268e+11\n",
       "British Virgin Islands                                        NaN\n",
       "Virgin Islands (U.S.)                                         NaN\n",
       "Vietnam                                              1.206143e+11\n",
       "Vanuatu                                              6.890296e+08\n",
       "West Bank and Gaza                                   9.401320e+09\n",
       "World                                                6.713548e+13\n",
       "Samoa                                                6.788420e+08\n",
       "Yemen, Rep.                                          2.812942e+10\n",
       "South Africa                                         3.823935e+11\n",
       "Congo, Dem. Rep.                                     2.208075e+10\n",
       "Zambia                                               2.057734e+10\n",
       "Zimbabwe                                             1.054389e+10\n",
       "dtype: float64"
      ]
     },
     "execution_count": 228,
     "metadata": {},
     "output_type": "execute_result"
    }
   ],
   "source": [
    "country_mean"
   ]
  },
  {
   "cell_type": "code",
   "execution_count": 229,
   "metadata": {
    "collapsed": false
   },
   "outputs": [
    {
     "data": {
      "text/plain": [
       "pandas.core.series.Series"
      ]
     },
     "execution_count": 229,
     "metadata": {},
     "output_type": "execute_result"
    }
   ],
   "source": [
    "type(country_mean)"
   ]
  },
  {
   "cell_type": "code",
   "execution_count": 234,
   "metadata": {
    "collapsed": false
   },
   "outputs": [],
   "source": [
    "result = country_mean.sort_values(ascending=False)[0:16]"
   ]
  },
  {
   "cell_type": "code",
   "execution_count": 235,
   "metadata": {
    "collapsed": false
   },
   "outputs": [
    {
     "data": {
      "text/plain": [
       "Country\n",
       "World                        6.713548e+13\n",
       "High income                  4.586468e+13\n",
       "OECD members                 4.514723e+13\n",
       "Post-demographic dividend    4.292131e+13\n",
       "IDA & IBRD total             2.202600e+13\n",
       "Europe & Central Asia        2.117122e+13\n",
       "Low & middle income          2.081219e+13\n",
       "Middle income                2.051324e+13\n",
       "IBRD only                    2.039738e+13\n",
       "European Union               1.717367e+13\n",
       "East Asia & Pacific          1.714490e+13\n",
       "North America                1.703064e+13\n",
       "Upper middle income          1.576611e+13\n",
       "United States                1.536434e+13\n",
       "Late-demographic dividend    1.389504e+13\n",
       "Euro area                    1.275159e+13\n",
       "dtype: float64"
      ]
     },
     "execution_count": 235,
     "metadata": {},
     "output_type": "execute_result"
    }
   ],
   "source": [
    "result"
   ]
  },
  {
   "cell_type": "code",
   "execution_count": 312,
   "metadata": {
    "collapsed": true
   },
   "outputs": [],
   "source": [
    "def answer_three():\n",
    "    Top15 = answer_one().copy()\n",
    "    col_selected = ['2006','2007','2008','2009','2010','2011','2012','2013','2014','2015']\n",
    "    Top15 = Top15[col_selected]\n",
    "    result = Top15.apply(lambda x: np.mean(x),axis=1)\n",
    "    result = result.sort_values(ascending=False)\n",
    "    return result"
   ]
  },
  {
   "cell_type": "code",
   "execution_count": 313,
   "metadata": {
    "collapsed": false
   },
   "outputs": [],
   "source": [
    "Q3 = answer_three()"
   ]
  },
  {
   "cell_type": "code",
   "execution_count": 314,
   "metadata": {
    "collapsed": false
   },
   "outputs": [
    {
     "data": {
      "text/plain": [
       "Country\n",
       "United States         1.536434e+13\n",
       "China                 6.348609e+12\n",
       "Japan                 5.542208e+12\n",
       "Germany               3.493025e+12\n",
       "France                2.681725e+12\n",
       "United Kingdom        2.487907e+12\n",
       "Brazil                2.189794e+12\n",
       "Italy                 2.120175e+12\n",
       "India                 1.769297e+12\n",
       "Canada                1.660647e+12\n",
       "Russian Federation    1.565459e+12\n",
       "Spain                 1.418078e+12\n",
       "Australia             1.164043e+12\n",
       "South Korea           1.106715e+12\n",
       "Iran                  4.441558e+11\n",
       "dtype: float64"
      ]
     },
     "execution_count": 314,
     "metadata": {},
     "output_type": "execute_result"
    }
   ],
   "source": [
    "Q3"
   ]
  },
  {
   "cell_type": "markdown",
   "metadata": {},
   "source": [
    "## Question-4:"
   ]
  },
  {
   "cell_type": "code",
   "execution_count": 654,
   "metadata": {
    "collapsed": true
   },
   "outputs": [],
   "source": [
    "def answer_four():\n",
    "    Top15 = answer_one().copy()\n",
    "    Top15 = Top15[['2006', '2007', '2008', '2009', '2010', '2011', '2012', '2013', '2014', '2015']]\n",
    "    Top15['Avg_GDP'] = Top15.apply(np.mean,axis=1)\n",
    "    Top15.sort_values(by='Avg_GDP',ascending=False,inplace=True)\n",
    "    res_series = Top15.iloc[5]\n",
    "    result = res_series.loc['2015'] - res_series.loc['2006']\n",
    "    return result"
   ]
  },
  {
   "cell_type": "code",
   "execution_count": 655,
   "metadata": {
    "collapsed": false
   },
   "outputs": [],
   "source": [
    "Q4 = answer_four()\n"
   ]
  },
  {
   "cell_type": "code",
   "execution_count": 658,
   "metadata": {
    "collapsed": false
   },
   "outputs": [
    {
     "data": {
      "text/plain": [
       "246702696075.3999"
      ]
     },
     "execution_count": 658,
     "metadata": {},
     "output_type": "execute_result"
    }
   ],
   "source": [
    "Q4"
   ]
  },
  {
   "cell_type": "markdown",
   "metadata": {},
   "source": [
    "## Question-5:"
   ]
  },
  {
   "cell_type": "code",
   "execution_count": 327,
   "metadata": {
    "collapsed": true
   },
   "outputs": [],
   "source": [
    "def answer_five():\n",
    "    Top15 = answer_one()\n",
    "    mean_perCapita = np.mean(Top15['Energy Supply per Capita'],axis=0)\n",
    "    return mean_perCapita"
   ]
  },
  {
   "cell_type": "code",
   "execution_count": 328,
   "metadata": {
    "collapsed": true
   },
   "outputs": [],
   "source": [
    "Q5 = answer_five()"
   ]
  },
  {
   "cell_type": "code",
   "execution_count": 329,
   "metadata": {
    "collapsed": false
   },
   "outputs": [
    {
     "data": {
      "text/plain": [
       "157.6"
      ]
     },
     "execution_count": 329,
     "metadata": {},
     "output_type": "execute_result"
    }
   ],
   "source": [
    "Q5"
   ]
  },
  {
   "cell_type": "markdown",
   "metadata": {},
   "source": [
    "## Question-6:"
   ]
  },
  {
   "cell_type": "code",
   "execution_count": 340,
   "metadata": {
    "collapsed": true
   },
   "outputs": [],
   "source": [
    "def answer_six():\n",
    "    Top15 = answer_one()\n",
    "    return (Top15['% Renewable'].idxmax(),Top15['% Renewable'].max())"
   ]
  },
  {
   "cell_type": "code",
   "execution_count": 341,
   "metadata": {
    "collapsed": false
   },
   "outputs": [
    {
     "data": {
      "text/plain": [
       "('Brazil', 69.648030000000006)"
      ]
     },
     "execution_count": 341,
     "metadata": {},
     "output_type": "execute_result"
    }
   ],
   "source": [
    "q6 = answer_six()\n",
    "q6"
   ]
  },
  {
   "cell_type": "code",
   "execution_count": 333,
   "metadata": {
    "collapsed": false
   },
   "outputs": [
    {
     "data": {
      "text/plain": [
       "69.648030000000006"
      ]
     },
     "execution_count": 333,
     "metadata": {},
     "output_type": "execute_result"
    }
   ],
   "source": [
    "np.max(q6['% Renewable'],axis=0)"
   ]
  },
  {
   "cell_type": "code",
   "execution_count": 339,
   "metadata": {
    "collapsed": false
   },
   "outputs": [
    {
     "data": {
      "text/plain": [
       "('Brazil', 69.648030000000006)"
      ]
     },
     "execution_count": 339,
     "metadata": {},
     "output_type": "execute_result"
    }
   ],
   "source": [
    "(q6['% Renewable'].idxmax(),q6['% Renewable'].max())"
   ]
  },
  {
   "cell_type": "markdown",
   "metadata": {},
   "source": [
    "## Question-7"
   ]
  },
  {
   "cell_type": "code",
   "execution_count": 402,
   "metadata": {
    "collapsed": true
   },
   "outputs": [],
   "source": [
    "def answer_seven():\n",
    "    Top15 = answer_one().copy()\n",
    "    Top15 = Top15[['Citations','Self-citations']]\n",
    "    Top15['Ration_Citation'] = np.divide(Top15['Self-citations'],Top15['Citations'])\n",
    "    ans = (Top15['Ration_Citation'].idxmax(), Top15['Ration_Citation'].max())\n",
    "    return ans"
   ]
  },
  {
   "cell_type": "code",
   "execution_count": 403,
   "metadata": {
    "collapsed": false
   },
   "outputs": [],
   "source": [
    "q7 = answer_seven()"
   ]
  },
  {
   "cell_type": "code",
   "execution_count": 404,
   "metadata": {
    "collapsed": false
   },
   "outputs": [
    {
     "data": {
      "text/plain": [
       "('China', 0.68931261793894216)"
      ]
     },
     "execution_count": 404,
     "metadata": {},
     "output_type": "execute_result"
    }
   ],
   "source": [
    "q7\n"
   ]
  },
  {
   "cell_type": "markdown",
   "metadata": {},
   "source": [
    "## Question-8"
   ]
  },
  {
   "cell_type": "code",
   "execution_count": 444,
   "metadata": {
    "collapsed": true
   },
   "outputs": [],
   "source": [
    "def answer_eight():\n",
    "    Top15 = answer_one().copy()\n",
    "    Top15['Population'] = np.divide(Top15['Energy Supply'],Top15['Energy Supply per Capita'])\n",
    "    Pop_Sorted = Top15['Population'].sort_values(ascending=False)\n",
    "    return Pop_Sorted.index[2]"
   ]
  },
  {
   "cell_type": "code",
   "execution_count": 445,
   "metadata": {
    "collapsed": false
   },
   "outputs": [],
   "source": [
    "q8 = answer_eight()"
   ]
  },
  {
   "cell_type": "code",
   "execution_count": 446,
   "metadata": {
    "collapsed": false
   },
   "outputs": [
    {
     "data": {
      "text/plain": [
       "Country\n",
       "China                 1.367645e+09\n",
       "India                 1.276731e+09\n",
       "United States         3.176154e+08\n",
       "Brazil                2.059153e+08\n",
       "Russian Federation    1.435000e+08\n",
       "Japan                 1.274094e+08\n",
       "Germany               8.036970e+07\n",
       "Iran                  7.707563e+07\n",
       "United Kingdom        6.387097e+07\n",
       "France                6.383735e+07\n",
       "Italy                 5.990826e+07\n",
       "South Korea           4.980543e+07\n",
       "Spain                 4.644340e+07\n",
       "Canada                3.523986e+07\n",
       "Australia             2.331602e+07\n",
       "Name: Population, dtype: float64"
      ]
     },
     "execution_count": 446,
     "metadata": {},
     "output_type": "execute_result"
    }
   ],
   "source": [
    "q8"
   ]
  },
  {
   "cell_type": "markdown",
   "metadata": {},
   "source": [
    "## Question-9"
   ]
  },
  {
   "cell_type": "code",
   "execution_count": 677,
   "metadata": {
    "collapsed": true
   },
   "outputs": [],
   "source": [
    "def answer_nine():\n",
    "    Top15 = answer_one().copy()\n",
    "    Top15['Population'] = np.divide(Top15['Energy Supply'],Top15['Energy Supply per Capita'])\n",
    "    Top15['Citable_Doc_Per_Capita'] = np.divide(Top15['Citable documents'],Top15['Population'])\n",
    "    Top15 = Top15[['Energy Supply per Capita','Citable_Doc_Per_Capita']]\n",
    "    cor_value = Top15.corr()\n",
    "    result = cor_value.iloc[1][0]\n",
    "    return result"
   ]
  },
  {
   "cell_type": "code",
   "execution_count": 678,
   "metadata": {
    "collapsed": false
   },
   "outputs": [],
   "source": [
    "q9 = answer_nine()"
   ]
  },
  {
   "cell_type": "code",
   "execution_count": 679,
   "metadata": {
    "collapsed": false
   },
   "outputs": [
    {
     "data": {
      "text/plain": [
       "0.79400104354429435"
      ]
     },
     "execution_count": 679,
     "metadata": {},
     "output_type": "execute_result"
    }
   ],
   "source": [
    "q9"
   ]
  },
  {
   "cell_type": "code",
   "execution_count": 470,
   "metadata": {
    "collapsed": true
   },
   "outputs": [],
   "source": [
    "def plot9():    \n",
    "    Top15 = answer_one()\n",
    "    Top15['PopEst'] = Top15['Energy Supply'] / Top15['Energy Supply per Capita']\n",
    "    Top15['Citable docs per Capita'] = Top15['Citable documents'] / Top15['PopEst']\n",
    "    Top15.plot(x='Citable docs per Capita', y='Energy Supply per Capita', kind='scatter', xlim=[0, 0.0006])"
   ]
  },
  {
   "cell_type": "code",
   "execution_count": 471,
   "metadata": {
    "collapsed": false
   },
   "outputs": [
    {
     "data": {
      "image/png": "[encoded data removed]",
      "text/plain": [
       "<matplotlib.figure.Figure at 0x29eae151550>"
      ]
     },
     "metadata": {},
     "output_type": "display_data"
    }
   ],
   "source": [
    "plot9()"
   ]
  },
  {
   "cell_type": "markdown",
   "metadata": {},
   "source": [
    "## Question-10"
   ]
  },
  {
   "cell_type": "code",
   "execution_count": 541,
   "metadata": {
    "collapsed": false
   },
   "outputs": [],
   "source": [
    "def answer_ten():\n",
    "    Top15 = answer_one()\n",
    "    renew_mean = Top15['% Renewable'].mean()\n",
    "    def funct1(x):\n",
    "        if x['% Renewable'] >= renew_mean:\n",
    "            return 1\n",
    "        else:\n",
    "            return 0\n",
    "    Top15['New_Col'] = Top15.apply(funct1,axis=1)\n",
    "    Top15 = Top15.sort_values(by='Rank')\n",
    "    return Top15['New_Col']"
   ]
  },
  {
   "cell_type": "code",
   "execution_count": 542,
   "metadata": {
    "collapsed": false
   },
   "outputs": [],
   "source": [
    "q10 = answer_ten()"
   ]
  },
  {
   "cell_type": "code",
   "execution_count": 543,
   "metadata": {
    "collapsed": false
   },
   "outputs": [
    {
     "data": {
      "text/plain": [
       "Country\n",
       "China            0\n",
       "United States    0\n",
       "Japan            0\n",
       "Name: New_Col, dtype: int64"
      ]
     },
     "execution_count": 543,
     "metadata": {},
     "output_type": "execute_result"
    }
   ],
   "source": [
    "q10.head(3)"
   ]
  },
  {
   "cell_type": "markdown",
   "metadata": {},
   "source": [
    "## Question-11"
   ]
  },
  {
   "cell_type": "code",
   "execution_count": 613,
   "metadata": {
    "collapsed": false
   },
   "outputs": [],
   "source": [
    "def answer_eleven():\n",
    "    Top15 = answer_one().copy()\n",
    "    ContinentDict  = {'China':'Asia', \n",
    "                  'United States':'North America', \n",
    "                  'Japan':'Asia', \n",
    "                  'United Kingdom':'Europe', \n",
    "                  'Russian Federation':'Europe', \n",
    "                  'Canada':'North America', \n",
    "                  'Germany':'Europe', \n",
    "                  'India':'Asia',\n",
    "                  'France':'Europe', \n",
    "                  'South Korea':'Asia', \n",
    "                  'Italy':'Europe', \n",
    "                  'Spain':'Europe', \n",
    "                  'Iran':'Asia',\n",
    "                  'Australia':'Australia', \n",
    "                  'Brazil':'South America'}\n",
    "    df_q11 = pd.Series(ContinentDict)\n",
    "    df = pd.concat((Top15,df_q11),join='inner',axis=1)\n",
    "    df=df.reset_index('Continent')\n",
    "    df.columns = [                  'Country',            'Energy Supply',\n",
    "                   'Energy Supply per Capita',              '% Renewable',\n",
    "                                       '2006',                     '2007',\n",
    "                                       '2008',                     '2009',\n",
    "                                       '2010',                     '2011',\n",
    "                                       '2012',                     '2013',\n",
    "                                       '2014',                     '2015',\n",
    "                                       'Rank',                'Documents',\n",
    "                          'Citable documents',                'Citations',\n",
    "                             'Self-citations',   'Citations per document',\n",
    "                                    'H index',                'Continent']\n",
    "    df = df.set_index('Continent')\n",
    "    df['Population'] = np.divide(df['Energy Supply'],df['Energy Supply per Capita'])\n",
    "    df_final = df[['Country','Population']].copy()\n",
    "    res = df_final.groupby(level=0)['Population'].agg({'size':np.count_nonzero,'sum': np.sum,'avg': np.average,'std': np.std})\n",
    "    return res"
   ]
  },
  {
   "cell_type": "code",
   "execution_count": 614,
   "metadata": {
    "collapsed": false
   },
   "outputs": [],
   "source": [
    "q11 = answer_eleven()"
   ]
  },
  {
   "cell_type": "code",
   "execution_count": 615,
   "metadata": {
    "collapsed": false
   },
   "outputs": [
    {
     "data": {
      "text/html": [
       "<div>\n",
       "<table border=\"1\" class=\"dataframe\">\n",
       "  <thead>\n",
       "    <tr style=\"text-align: right;\">\n",
       "      <th></th>\n",
       "      <th>std</th>\n",
       "      <th>avg</th>\n",
       "      <th>size</th>\n",
       "      <th>sum</th>\n",
       "    </tr>\n",
       "    <tr>\n",
       "      <th>Continent</th>\n",
       "      <th></th>\n",
       "      <th></th>\n",
       "      <th></th>\n",
       "      <th></th>\n",
       "    </tr>\n",
       "  </thead>\n",
       "  <tbody>\n",
       "    <tr>\n",
       "      <th>Asia</th>\n",
       "      <td>6.790979e+08</td>\n",
       "      <td>5.797333e+08</td>\n",
       "      <td>5.0</td>\n",
       "      <td>2.898666e+09</td>\n",
       "    </tr>\n",
       "    <tr>\n",
       "      <th>Australia</th>\n",
       "      <td>NaN</td>\n",
       "      <td>2.331602e+07</td>\n",
       "      <td>1.0</td>\n",
       "      <td>2.331602e+07</td>\n",
       "    </tr>\n",
       "    <tr>\n",
       "      <th>Europe</th>\n",
       "      <td>3.464767e+07</td>\n",
       "      <td>7.632161e+07</td>\n",
       "      <td>6.0</td>\n",
       "      <td>4.579297e+08</td>\n",
       "    </tr>\n",
       "    <tr>\n",
       "      <th>North America</th>\n",
       "      <td>1.996696e+08</td>\n",
       "      <td>1.764276e+08</td>\n",
       "      <td>2.0</td>\n",
       "      <td>3.528552e+08</td>\n",
       "    </tr>\n",
       "    <tr>\n",
       "      <th>South America</th>\n",
       "      <td>NaN</td>\n",
       "      <td>2.059153e+08</td>\n",
       "      <td>1.0</td>\n",
       "      <td>2.059153e+08</td>\n",
       "    </tr>\n",
       "  </tbody>\n",
       "</table>\n",
       "</div>"
      ],
      "text/plain": [
       "                        std           avg  size           sum\n",
       "Continent                                                    \n",
       "Asia           6.790979e+08  5.797333e+08   5.0  2.898666e+09\n",
       "Australia               NaN  2.331602e+07   1.0  2.331602e+07\n",
       "Europe         3.464767e+07  7.632161e+07   6.0  4.579297e+08\n",
       "North America  1.996696e+08  1.764276e+08   2.0  3.528552e+08\n",
       "South America           NaN  2.059153e+08   1.0  2.059153e+08"
      ]
     },
     "execution_count": 615,
     "metadata": {},
     "output_type": "execute_result"
    }
   ],
   "source": [
    "q11"
   ]
  },
  {
   "cell_type": "code",
   "execution_count": 616,
   "metadata": {
    "collapsed": false
   },
   "outputs": [],
   "source": [
    "sdf = np.array(12)"
   ]
  },
  {
   "cell_type": "code",
   "execution_count": 619,
   "metadata": {
    "collapsed": false
   },
   "outputs": [
    {
     "data": {
      "text/plain": [
       "array(12)"
      ]
     },
     "execution_count": 619,
     "metadata": {},
     "output_type": "execute_result"
    }
   ],
   "source": [
    "sdf"
   ]
  },
  {
   "cell_type": "markdown",
   "metadata": {},
   "source": [
    "## Question-12"
   ]
  },
  {
   "cell_type": "code",
   "execution_count": 716,
   "metadata": {
    "collapsed": true
   },
   "outputs": [],
   "source": [
    "def answer_twelve():\n",
    "    Top15 = answer_one().copy()\n",
    "    ContinentDict  = {'China':'Asia', \n",
    "                  'United States':'North America', \n",
    "                  'Japan':'Asia', \n",
    "                  'United Kingdom':'Europe', \n",
    "                  'Russian Federation':'Europe', \n",
    "                  'Canada':'North America', \n",
    "                  'Germany':'Europe', \n",
    "                  'India':'Asia',\n",
    "                  'France':'Europe', \n",
    "                  'South Korea':'Asia', \n",
    "                  'Italy':'Europe', \n",
    "                  'Spain':'Europe', \n",
    "                  'Iran':'Asia',\n",
    "                  'Australia':'Australia', \n",
    "                  'Brazil':'South America'}\n",
    "    df_q11 = pd.Series(ContinentDict)\n",
    "    df = pd.concat((Top15,df_q11),join='inner',axis=1)\n",
    "    df=df.reset_index('Continent')\n",
    "    df.columns = [                  'Country',            'Energy Supply',\n",
    "                   'Energy Supply per Capita',              '% Renewable',\n",
    "                                       '2006',                     '2007',\n",
    "                                       '2008',                     '2009',\n",
    "                                       '2010',                     '2011',\n",
    "                                       '2012',                     '2013',\n",
    "                                       '2014',                     '2015',\n",
    "                                       'Rank',                'Documents',\n",
    "                          'Citable documents',                'Citations',\n",
    "                             'Self-citations',   'Citations per document',\n",
    "                                    'H index',                'Continent']\n",
    "\n",
    "    df['Binned'] = pd.cut(df['% Renewable'],5)\n",
    "    df = df[['Country','Continent','Binned']]\n",
    "    df.set_index(['Continent','Binned'],inplace=True)\n",
    "    #result = df['Country']\n",
    "    return df"
   ]
  },
  {
   "cell_type": "code",
   "execution_count": 717,
   "metadata": {
    "collapsed": false
   },
   "outputs": [],
   "source": [
    "q12 = answer_twelve()"
   ]
  },
  {
   "cell_type": "code",
   "execution_count": 720,
   "metadata": {
    "collapsed": false
   },
   "outputs": [
    {
     "data": {
      "text/html": [
       "<div>\n",
       "<table border=\"1\" class=\"dataframe\">\n",
       "  <thead>\n",
       "    <tr style=\"text-align: right;\">\n",
       "      <th></th>\n",
       "      <th></th>\n",
       "      <th>Country</th>\n",
       "    </tr>\n",
       "    <tr>\n",
       "      <th>Continent</th>\n",
       "      <th>Binned</th>\n",
       "      <th></th>\n",
       "    </tr>\n",
       "  </thead>\n",
       "  <tbody>\n",
       "    <tr>\n",
       "      <th>Australia</th>\n",
       "      <th>(2.212, 15.753]</th>\n",
       "      <td>Australia</td>\n",
       "    </tr>\n",
       "    <tr>\n",
       "      <th>South America</th>\n",
       "      <th>(56.174, 69.648]</th>\n",
       "      <td>Brazil</td>\n",
       "    </tr>\n",
       "    <tr>\n",
       "      <th>North America</th>\n",
       "      <th>(56.174, 69.648]</th>\n",
       "      <td>Canada</td>\n",
       "    </tr>\n",
       "    <tr>\n",
       "      <th>Asia</th>\n",
       "      <th>(15.753, 29.227]</th>\n",
       "      <td>China</td>\n",
       "    </tr>\n",
       "    <tr>\n",
       "      <th rowspan=\"2\" valign=\"top\">Europe</th>\n",
       "      <th>(15.753, 29.227]</th>\n",
       "      <td>France</td>\n",
       "    </tr>\n",
       "    <tr>\n",
       "      <th>(15.753, 29.227]</th>\n",
       "      <td>Germany</td>\n",
       "    </tr>\n",
       "    <tr>\n",
       "      <th rowspan=\"2\" valign=\"top\">Asia</th>\n",
       "      <th>(2.212, 15.753]</th>\n",
       "      <td>India</td>\n",
       "    </tr>\n",
       "    <tr>\n",
       "      <th>(2.212, 15.753]</th>\n",
       "      <td>Iran</td>\n",
       "    </tr>\n",
       "    <tr>\n",
       "      <th>Europe</th>\n",
       "      <th>(29.227, 42.701]</th>\n",
       "      <td>Italy</td>\n",
       "    </tr>\n",
       "    <tr>\n",
       "      <th>Asia</th>\n",
       "      <th>(2.212, 15.753]</th>\n",
       "      <td>Japan</td>\n",
       "    </tr>\n",
       "    <tr>\n",
       "      <th>Europe</th>\n",
       "      <th>(15.753, 29.227]</th>\n",
       "      <td>Russian Federation</td>\n",
       "    </tr>\n",
       "    <tr>\n",
       "      <th>Asia</th>\n",
       "      <th>(2.212, 15.753]</th>\n",
       "      <td>South Korea</td>\n",
       "    </tr>\n",
       "    <tr>\n",
       "      <th rowspan=\"2\" valign=\"top\">Europe</th>\n",
       "      <th>(29.227, 42.701]</th>\n",
       "      <td>Spain</td>\n",
       "    </tr>\n",
       "    <tr>\n",
       "      <th>(2.212, 15.753]</th>\n",
       "      <td>United Kingdom</td>\n",
       "    </tr>\n",
       "    <tr>\n",
       "      <th>North America</th>\n",
       "      <th>(2.212, 15.753]</th>\n",
       "      <td>United States</td>\n",
       "    </tr>\n",
       "  </tbody>\n",
       "</table>\n",
       "</div>"
      ],
      "text/plain": [
       "                                           Country\n",
       "Continent     Binned                              \n",
       "Australia     (2.212, 15.753]            Australia\n",
       "South America (56.174, 69.648]              Brazil\n",
       "North America (56.174, 69.648]              Canada\n",
       "Asia          (15.753, 29.227]               China\n",
       "Europe        (15.753, 29.227]              France\n",
       "              (15.753, 29.227]             Germany\n",
       "Asia          (2.212, 15.753]                India\n",
       "              (2.212, 15.753]                 Iran\n",
       "Europe        (29.227, 42.701]               Italy\n",
       "Asia          (2.212, 15.753]                Japan\n",
       "Europe        (15.753, 29.227]  Russian Federation\n",
       "Asia          (2.212, 15.753]          South Korea\n",
       "Europe        (29.227, 42.701]               Spain\n",
       "              (2.212, 15.753]       United Kingdom\n",
       "North America (2.212, 15.753]        United States"
      ]
     },
     "execution_count": 720,
     "metadata": {},
     "output_type": "execute_result"
    }
   ],
   "source": [
    "q12"
   ]
  },
  {
   "cell_type": "code",
   "execution_count": null,
   "metadata": {
    "collapsed": false
   },
   "outputs": [],
   "source": []
  },
  {
   "cell_type": "code",
   "execution_count": null,
   "metadata": {
    "collapsed": true
   },
   "outputs": [],
   "source": []
  }
 ],
 "metadata": {
  "kernelspec": {
   "display_name": "Python 3",
   "language": "python",
   "name": "python3"
  },
  "language_info": {
   "codemirror_mode": {
    "name": "ipython",
    "version": 3
   },
   "file_extension": ".py",
   "mimetype": "text/x-python",
   "name": "python",
   "nbconvert_exporter": "python",
   "pygments_lexer": "ipython3",
   "version": "3.5.4"
  }
 },
 "nbformat": 4,
 "nbformat_minor": 0
}
