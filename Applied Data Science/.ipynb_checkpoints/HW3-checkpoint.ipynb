{
 "cells": [
  {
   "cell_type": "code",
   "execution_count": 1,
   "metadata": {
    "collapsed": true
   },
   "outputs": [],
   "source": [
    "# importing packages\n",
    "import pandas as pd\n",
    "import numpy as np"
   ]
  },
  {
   "cell_type": "code",
   "execution_count": 2,
   "metadata": {
    "collapsed": false
   },
   "outputs": [],
   "source": [
    "# Reading the file Energy Indicators.xls\n",
    "energy = pd.read_excel('Energy Indicators.xls',skiprows=17,na_values='...',skip_footer=38,parse_cols=[2,3,4,5,6] \n",
    "                       ,names=['Country', 'Energy Supply', 'Energy Supply per Capita', '% Renewables'])"
   ]
  },
  {
   "cell_type": "code",
   "execution_count": 3,
   "metadata": {
    "collapsed": false
   },
   "outputs": [],
   "source": [
    "energy.columns = ['Country', 'Energy Supply', 'Energy Supply per Capita', '% Renewables']"
   ]
  },
  {
   "cell_type": "code",
   "execution_count": 4,
   "metadata": {
    "collapsed": false
   },
   "outputs": [
    {
     "data": {
      "text/html": [
       "<div>\n",
       "<table border=\"1\" class=\"dataframe\">\n",
       "  <thead>\n",
       "    <tr style=\"text-align: right;\">\n",
       "      <th></th>\n",
       "      <th>Country</th>\n",
       "      <th>Energy Supply</th>\n",
       "      <th>Energy Supply per Capita</th>\n",
       "      <th>% Renewables</th>\n",
       "    </tr>\n",
       "  </thead>\n",
       "  <tbody>\n",
       "    <tr>\n",
       "      <th>0</th>\n",
       "      <td>Afghanistan</td>\n",
       "      <td>321.0</td>\n",
       "      <td>10.0</td>\n",
       "      <td>78.669280</td>\n",
       "    </tr>\n",
       "    <tr>\n",
       "      <th>1</th>\n",
       "      <td>Albania</td>\n",
       "      <td>102.0</td>\n",
       "      <td>35.0</td>\n",
       "      <td>100.000000</td>\n",
       "    </tr>\n",
       "    <tr>\n",
       "      <th>2</th>\n",
       "      <td>Algeria</td>\n",
       "      <td>1959.0</td>\n",
       "      <td>51.0</td>\n",
       "      <td>0.551010</td>\n",
       "    </tr>\n",
       "    <tr>\n",
       "      <th>3</th>\n",
       "      <td>American Samoa</td>\n",
       "      <td>NaN</td>\n",
       "      <td>NaN</td>\n",
       "      <td>0.641026</td>\n",
       "    </tr>\n",
       "    <tr>\n",
       "      <th>4</th>\n",
       "      <td>Andorra</td>\n",
       "      <td>9.0</td>\n",
       "      <td>121.0</td>\n",
       "      <td>88.695650</td>\n",
       "    </tr>\n",
       "  </tbody>\n",
       "</table>\n",
       "</div>"
      ],
      "text/plain": [
       "          Country  Energy Supply  Energy Supply per Capita  % Renewables\n",
       "0     Afghanistan          321.0                      10.0     78.669280\n",
       "1         Albania          102.0                      35.0    100.000000\n",
       "2         Algeria         1959.0                      51.0      0.551010\n",
       "3  American Samoa            NaN                       NaN      0.641026\n",
       "4         Andorra            9.0                     121.0     88.695650"
      ]
     },
     "execution_count": 4,
     "metadata": {},
     "output_type": "execute_result"
    }
   ],
   "source": [
    "energy.head()"
   ]
  },
  {
   "cell_type": "code",
   "execution_count": 5,
   "metadata": {
    "collapsed": false
   },
   "outputs": [
    {
     "data": {
      "text/html": [
       "<div>\n",
       "<table border=\"1\" class=\"dataframe\">\n",
       "  <thead>\n",
       "    <tr style=\"text-align: right;\">\n",
       "      <th></th>\n",
       "      <th>Country</th>\n",
       "      <th>Energy Supply</th>\n",
       "      <th>Energy Supply per Capita</th>\n",
       "      <th>% Renewables</th>\n",
       "    </tr>\n",
       "  </thead>\n",
       "  <tbody>\n",
       "    <tr>\n",
       "      <th>222</th>\n",
       "      <td>Viet Nam</td>\n",
       "      <td>2554.0</td>\n",
       "      <td>28.0</td>\n",
       "      <td>45.32152</td>\n",
       "    </tr>\n",
       "    <tr>\n",
       "      <th>223</th>\n",
       "      <td>Wallis and Futuna Islands</td>\n",
       "      <td>0.0</td>\n",
       "      <td>26.0</td>\n",
       "      <td>0.00000</td>\n",
       "    </tr>\n",
       "    <tr>\n",
       "      <th>224</th>\n",
       "      <td>Yemen</td>\n",
       "      <td>344.0</td>\n",
       "      <td>13.0</td>\n",
       "      <td>0.00000</td>\n",
       "    </tr>\n",
       "    <tr>\n",
       "      <th>225</th>\n",
       "      <td>Zambia</td>\n",
       "      <td>400.0</td>\n",
       "      <td>26.0</td>\n",
       "      <td>99.71467</td>\n",
       "    </tr>\n",
       "    <tr>\n",
       "      <th>226</th>\n",
       "      <td>Zimbabwe</td>\n",
       "      <td>480.0</td>\n",
       "      <td>32.0</td>\n",
       "      <td>52.53612</td>\n",
       "    </tr>\n",
       "  </tbody>\n",
       "</table>\n",
       "</div>"
      ],
      "text/plain": [
       "                       Country  Energy Supply  Energy Supply per Capita  \\\n",
       "222                   Viet Nam         2554.0                      28.0   \n",
       "223  Wallis and Futuna Islands            0.0                      26.0   \n",
       "224                      Yemen          344.0                      13.0   \n",
       "225                     Zambia          400.0                      26.0   \n",
       "226                   Zimbabwe          480.0                      32.0   \n",
       "\n",
       "     % Renewables  \n",
       "222      45.32152  \n",
       "223       0.00000  \n",
       "224       0.00000  \n",
       "225      99.71467  \n",
       "226      52.53612  "
      ]
     },
     "execution_count": 5,
     "metadata": {},
     "output_type": "execute_result"
    }
   ],
   "source": [
    "energy.tail()"
   ]
  },
  {
   "cell_type": "code",
   "execution_count": 6,
   "metadata": {
    "collapsed": false
   },
   "outputs": [
    {
     "data": {
      "text/plain": [
       "(227, 4)"
      ]
     },
     "execution_count": 6,
     "metadata": {},
     "output_type": "execute_result"
    }
   ],
   "source": [
    "energy.shape"
   ]
  },
  {
   "cell_type": "code",
   "execution_count": 7,
   "metadata": {
    "collapsed": true
   },
   "outputs": [],
   "source": [
    "energy['Energy Supply'] = energy['Energy Supply'] * 1000000"
   ]
  },
  {
   "cell_type": "code",
   "execution_count": 8,
   "metadata": {
    "collapsed": false
   },
   "outputs": [
    {
     "data": {
      "text/html": [
       "<div>\n",
       "<table border=\"1\" class=\"dataframe\">\n",
       "  <thead>\n",
       "    <tr style=\"text-align: right;\">\n",
       "      <th></th>\n",
       "      <th>Country</th>\n",
       "      <th>Energy Supply</th>\n",
       "      <th>Energy Supply per Capita</th>\n",
       "      <th>% Renewables</th>\n",
       "    </tr>\n",
       "  </thead>\n",
       "  <tbody>\n",
       "    <tr>\n",
       "      <th>0</th>\n",
       "      <td>Afghanistan</td>\n",
       "      <td>3.210000e+08</td>\n",
       "      <td>10.0</td>\n",
       "      <td>78.669280</td>\n",
       "    </tr>\n",
       "    <tr>\n",
       "      <th>1</th>\n",
       "      <td>Albania</td>\n",
       "      <td>1.020000e+08</td>\n",
       "      <td>35.0</td>\n",
       "      <td>100.000000</td>\n",
       "    </tr>\n",
       "    <tr>\n",
       "      <th>2</th>\n",
       "      <td>Algeria</td>\n",
       "      <td>1.959000e+09</td>\n",
       "      <td>51.0</td>\n",
       "      <td>0.551010</td>\n",
       "    </tr>\n",
       "    <tr>\n",
       "      <th>3</th>\n",
       "      <td>American Samoa</td>\n",
       "      <td>NaN</td>\n",
       "      <td>NaN</td>\n",
       "      <td>0.641026</td>\n",
       "    </tr>\n",
       "    <tr>\n",
       "      <th>4</th>\n",
       "      <td>Andorra</td>\n",
       "      <td>9.000000e+06</td>\n",
       "      <td>121.0</td>\n",
       "      <td>88.695650</td>\n",
       "    </tr>\n",
       "  </tbody>\n",
       "</table>\n",
       "</div>"
      ],
      "text/plain": [
       "          Country  Energy Supply  Energy Supply per Capita  % Renewables\n",
       "0     Afghanistan   3.210000e+08                      10.0     78.669280\n",
       "1         Albania   1.020000e+08                      35.0    100.000000\n",
       "2         Algeria   1.959000e+09                      51.0      0.551010\n",
       "3  American Samoa            NaN                       NaN      0.641026\n",
       "4         Andorra   9.000000e+06                     121.0     88.695650"
      ]
     },
     "execution_count": 8,
     "metadata": {},
     "output_type": "execute_result"
    }
   ],
   "source": [
    "energy.head()"
   ]
  },
  {
   "cell_type": "code",
   "execution_count": 9,
   "metadata": {
    "collapsed": false
   },
   "outputs": [],
   "source": [
    "energy = energy.reset_index()"
   ]
  },
  {
   "cell_type": "code",
   "execution_count": 10,
   "metadata": {
    "collapsed": false
   },
   "outputs": [],
   "source": [
    "energy['Country_M'] = energy['Country']"
   ]
  },
  {
   "cell_type": "code",
   "execution_count": 11,
   "metadata": {
    "collapsed": false
   },
   "outputs": [],
   "source": [
    "energy = energy.set_index('Country')"
   ]
  },
  {
   "cell_type": "code",
   "execution_count": 12,
   "metadata": {
    "collapsed": false
   },
   "outputs": [
    {
     "data": {
      "text/html": [
       "<div>\n",
       "<table border=\"1\" class=\"dataframe\">\n",
       "  <thead>\n",
       "    <tr style=\"text-align: right;\">\n",
       "      <th></th>\n",
       "      <th>index</th>\n",
       "      <th>Energy Supply</th>\n",
       "      <th>Energy Supply per Capita</th>\n",
       "      <th>% Renewables</th>\n",
       "      <th>Country_M</th>\n",
       "    </tr>\n",
       "    <tr>\n",
       "      <th>Country</th>\n",
       "      <th></th>\n",
       "      <th></th>\n",
       "      <th></th>\n",
       "      <th></th>\n",
       "      <th></th>\n",
       "    </tr>\n",
       "  </thead>\n",
       "  <tbody>\n",
       "    <tr>\n",
       "      <th>Afghanistan</th>\n",
       "      <td>0.0</td>\n",
       "      <td>3.210000e+08</td>\n",
       "      <td>10.0</td>\n",
       "      <td>78.669280</td>\n",
       "      <td>Afghanistan</td>\n",
       "    </tr>\n",
       "    <tr>\n",
       "      <th>Albania</th>\n",
       "      <td>1.0</td>\n",
       "      <td>1.020000e+08</td>\n",
       "      <td>35.0</td>\n",
       "      <td>100.000000</td>\n",
       "      <td>Albania</td>\n",
       "    </tr>\n",
       "    <tr>\n",
       "      <th>Algeria</th>\n",
       "      <td>2.0</td>\n",
       "      <td>1.959000e+09</td>\n",
       "      <td>51.0</td>\n",
       "      <td>0.551010</td>\n",
       "      <td>Algeria</td>\n",
       "    </tr>\n",
       "    <tr>\n",
       "      <th>American Samoa</th>\n",
       "      <td>3.0</td>\n",
       "      <td>NaN</td>\n",
       "      <td>NaN</td>\n",
       "      <td>0.641026</td>\n",
       "      <td>American Samoa</td>\n",
       "    </tr>\n",
       "    <tr>\n",
       "      <th>Andorra</th>\n",
       "      <td>4.0</td>\n",
       "      <td>9.000000e+06</td>\n",
       "      <td>121.0</td>\n",
       "      <td>88.695650</td>\n",
       "      <td>Andorra</td>\n",
       "    </tr>\n",
       "  </tbody>\n",
       "</table>\n",
       "</div>"
      ],
      "text/plain": [
       "                index  Energy Supply  Energy Supply per Capita  % Renewables  \\\n",
       "Country                                                                        \n",
       "Afghanistan       0.0   3.210000e+08                      10.0     78.669280   \n",
       "Albania           1.0   1.020000e+08                      35.0    100.000000   \n",
       "Algeria           2.0   1.959000e+09                      51.0      0.551010   \n",
       "American Samoa    3.0            NaN                       NaN      0.641026   \n",
       "Andorra           4.0   9.000000e+06                     121.0     88.695650   \n",
       "\n",
       "                     Country_M  \n",
       "Country                         \n",
       "Afghanistan        Afghanistan  \n",
       "Albania                Albania  \n",
       "Algeria                Algeria  \n",
       "American Samoa  American Samoa  \n",
       "Andorra                Andorra  "
      ]
     },
     "execution_count": 12,
     "metadata": {},
     "output_type": "execute_result"
    }
   ],
   "source": [
    "energy.set_value('Republic of Korea','Country_M','South Korea')\n",
    "energy.set_value('United States of America','Country_M','United States')\n",
    "energy.set_value('United Kingdom of Great Britain and Northern Ireland','Country_M','United Kingdom')\n",
    "energy.set_value('China, Hong Kong Special Administrative Region','Country_M','Hong Kong')\n",
    "energy.head(5)"
   ]
  },
  {
   "cell_type": "code",
   "execution_count": 13,
   "metadata": {
    "collapsed": false
   },
   "outputs": [
    {
     "data": {
      "text/plain": [
       "index                               164\n",
       "Energy Supply                1.1007e+10\n",
       "Energy Supply per Capita            221\n",
       "% Renewables                    2.27935\n",
       "Country_M                   South Korea\n",
       "Name: Republic of Korea, dtype: object"
      ]
     },
     "execution_count": 13,
     "metadata": {},
     "output_type": "execute_result"
    }
   ],
   "source": [
    "# checking the Country_M column to see if the change got reflected\n",
    "energy.loc['Republic of Korea']"
   ]
  },
  {
   "cell_type": "code",
   "execution_count": 14,
   "metadata": {
    "collapsed": false
   },
   "outputs": [],
   "source": [
    "# removing () from Country names\n",
    "for names in energy.index:\n",
    "    if names.find('(') > -1 or names.find(')') >-1:\n",
    "        #print(names[:names.find('(')])\n",
    "        energy.set_value(names,'Country_M',names[:names.find('(')])"
   ]
  },
  {
   "cell_type": "code",
   "execution_count": null,
   "metadata": {
    "collapsed": false
   },
   "outputs": [],
   "source": [
    "# importing world_bank data\n",
    "GDP = pd.read_csv('world_bank.csv',skiprows=4)"
   ]
  },
  {
   "cell_type": "code",
   "execution_count": null,
   "metadata": {
    "collapsed": false
   },
   "outputs": [],
   "source": [
    "GDP.head()"
   ]
  },
  {
   "cell_type": "code",
   "execution_count": null,
   "metadata": {
    "collapsed": false
   },
   "outputs": [],
   "source": [
    "GDP.columns"
   ]
  },
  {
   "cell_type": "code",
   "execution_count": null,
   "metadata": {
    "collapsed": true
   },
   "outputs": [],
   "source": [
    "GDP['Country_M'] = GDP['Country Name']\n",
    "GDP = GDP.set_index('Country Name')"
   ]
  },
  {
   "cell_type": "code",
   "execution_count": null,
   "metadata": {
    "collapsed": false
   },
   "outputs": [],
   "source": [
    "GDP.head()"
   ]
  },
  {
   "cell_type": "code",
   "execution_count": null,
   "metadata": {
    "collapsed": false
   },
   "outputs": [],
   "source": [
    "GDP.set_value('Korea, Rep.','Country_M','South Korea')\n",
    "GDP.set_value('Iran, Islamic Rep.','Country_M','Iran')\n",
    "GDP.set_value('Hong Kong SAR, China','Country_M','Hong Kong')"
   ]
  },
  {
   "cell_type": "code",
   "execution_count": null,
   "metadata": {
    "collapsed": true
   },
   "outputs": [],
   "source": [
    "GDP.reset_index(drop=True,inplace=True)"
   ]
  },
  {
   "cell_type": "code",
   "execution_count": null,
   "metadata": {
    "collapsed": false
   },
   "outputs": [],
   "source": [
    "GDP.columns = ['Country Code', 'Indicator Name', 'Indicator Code', '1960', '1961',\n",
    "       '1962', '1963', '1964', '1965', '1966', '1967', '1968', '1969', '1970',\n",
    "       '1971', '1972', '1973', '1974', '1975', '1976', '1977', '1978', '1979',\n",
    "       '1980', '1981', '1982', '1983', '1984', '1985', '1986', '1987', '1988',\n",
    "       '1989', '1990', '1991', '1992', '1993', '1994', '1995', '1996', '1997',\n",
    "       '1998', '1999', '2000', '2001', '2002', '2003', '2004', '2005', '2006',\n",
    "       '2007', '2008', '2009', '2010', '2011', '2012', '2013', '2014', '2015',\n",
    "       'Country']"
   ]
  },
  {
   "cell_type": "code",
   "execution_count": null,
   "metadata": {
    "collapsed": false
   },
   "outputs": [],
   "source": [
    "GDP.head()"
   ]
  },
  {
   "cell_type": "code",
   "execution_count": null,
   "metadata": {
    "collapsed": true
   },
   "outputs": [],
   "source": [
    "ScimEn = pd.read_excel('scimagojr.xlsx')"
   ]
  },
  {
   "cell_type": "code",
   "execution_count": null,
   "metadata": {
    "collapsed": false
   },
   "outputs": [],
   "source": [
    "ScimEn.head()"
   ]
  },
  {
   "cell_type": "code",
   "execution_count": null,
   "metadata": {
    "collapsed": false
   },
   "outputs": [],
   "source": [
    "GDP_col_needed = list(np.arange(2006,2016,1))\n",
    "GDP_col_needed = list(map(str,GDP_col_needed))\n",
    "GDP_col_needed.append('Country')\n",
    "GDP_col_needed"
   ]
  },
  {
   "cell_type": "code",
   "execution_count": null,
   "metadata": {
    "collapsed": false
   },
   "outputs": [],
   "source": [
    "GDP_DF2 = GDP[GDP_col_needed]\n",
    "GDP_DF2.head(5)"
   ]
  },
  {
   "cell_type": "code",
   "execution_count": null,
   "metadata": {
    "collapsed": false
   },
   "outputs": [],
   "source": [
    "energy.head(2)"
   ]
  },
  {
   "cell_type": "code",
   "execution_count": null,
   "metadata": {
    "collapsed": false
   },
   "outputs": [],
   "source": [
    "ScimEn.head(2)"
   ]
  },
  {
   "cell_type": "code",
   "execution_count": null,
   "metadata": {
    "collapsed": false
   },
   "outputs": [],
   "source": [
    "GDP_DF2.head(2)"
   ]
  },
  {
   "cell_type": "code",
   "execution_count": null,
   "metadata": {
    "collapsed": true
   },
   "outputs": [],
   "source": [
    "GDP_final = GDP_DF2"
   ]
  },
  {
   "cell_type": "code",
   "execution_count": null,
   "metadata": {
    "collapsed": false
   },
   "outputs": [],
   "source": [
    "GDP_final.shape"
   ]
  },
  {
   "cell_type": "code",
   "execution_count": null,
   "metadata": {
    "collapsed": false
   },
   "outputs": [],
   "source": [
    "sci_Condi = (ScimEn.Rank >= 0) & (ScimEn.Rank <= 15)"
   ]
  },
  {
   "cell_type": "code",
   "execution_count": null,
   "metadata": {
    "collapsed": false
   },
   "outputs": [],
   "source": [
    "sci_Condi_final = ScimEn[sci_Condi]"
   ]
  },
  {
   "cell_type": "code",
   "execution_count": null,
   "metadata": {
    "collapsed": false
   },
   "outputs": [],
   "source": [
    "sci_Condi_final.shape"
   ]
  },
  {
   "cell_type": "code",
   "execution_count": null,
   "metadata": {
    "collapsed": true
   },
   "outputs": [],
   "source": [
    "energy_gdp_df = pd.merge(energy,GDP_final,how='inner',left_on='Country',right_on='Country',copy=True)"
   ]
  },
  {
   "cell_type": "code",
   "execution_count": null,
   "metadata": {
    "collapsed": false
   },
   "outputs": [],
   "source": [
    "energy_gdp_df.shape"
   ]
  },
  {
   "cell_type": "code",
   "execution_count": null,
   "metadata": {
    "collapsed": false
   },
   "outputs": [],
   "source": [
    "energy_gdp_df.head(2)"
   ]
  },
  {
   "cell_type": "code",
   "execution_count": null,
   "metadata": {
    "collapsed": true
   },
   "outputs": [],
   "source": [
    "final_df = pd.merge(energy_gdp_df,sci_Condi_final,how='inner',left_on='Country',right_on='Country',copy=True)"
   ]
  },
  {
   "cell_type": "code",
   "execution_count": null,
   "metadata": {
    "collapsed": false
   },
   "outputs": [],
   "source": [
    "final_df.shape"
   ]
  },
  {
   "cell_type": "code",
   "execution_count": null,
   "metadata": {
    "collapsed": false
   },
   "outputs": [],
   "source": [
    "final_df"
   ]
  },
  {
   "cell_type": "code",
   "execution_count": null,
   "metadata": {
    "collapsed": false
   },
   "outputs": [],
   "source": [
    "energy.columns"
   ]
  },
  {
   "cell_type": "code",
   "execution_count": null,
   "metadata": {
    "collapsed": false
   },
   "outputs": [],
   "source": [
    "GDP_final.columns"
   ]
  },
  {
   "cell_type": "code",
   "execution_count": null,
   "metadata": {
    "collapsed": false
   },
   "outputs": [],
   "source": [
    "sci_Condi_final.columns"
   ]
  },
  {
   "cell_type": "code",
   "execution_count": 183,
   "metadata": {
    "collapsed": false
   },
   "outputs": [],
   "source": [
    "def energy():\n",
    "    energy = pd.read_excel('Energy Indicators.xls',skiprows=17,na_values='...',skip_footer=38,parse_cols=[2,3,4,5,6] \n",
    "                       ,names=['Country', 'Energy Supply', 'Energy Supply per Capita', '% Renewables'])\n",
    "    energy.columns = ['Country', 'Energy Supply', 'Energy Supply per Capita', '% Renewables']\n",
    "    energy['Energy Supply'] = energy['Energy Supply'] * 1000000\n",
    "    dicts = {'Republic of Korea': 'South Korea',\n",
    "               'United States of America': 'United States',\n",
    "               'United Kingdom of Great Britain and Northern Ireland': 'United Kingdom',\n",
    "               'China, Hong Kong Special Administrative Region': 'Hong Kong'}\n",
    "    energy['Country_M'] = energy['Country']\n",
    "    energy = energy.set_index('Country')\n",
    "    \n",
    "    for country in energy.index:\n",
    "        if (country.endswith(('1','2','3','4','5','6','7','8','9','0'))):\n",
    "            country_edit = country[:-1]\n",
    "            energy.set_value(country,'Country_M',country_edit)\n",
    "            if (country_edit.endswith(('1','2','3','4','5','6','7','8','9','0'))):\n",
    "                country_edit = country_edit[:-1]\n",
    "                #print(country_edit)\n",
    "                energy.set_value(country,'Country_M',country_edit)\n",
    "    \n",
    "    energy['Country_E'] = energy['Country_M']\n",
    "    energy = energy.set_index('Country_M')\n",
    "    #print(energy.columns)\n",
    "    \n",
    "    for country in energy.index:\n",
    "        for key,value in dicts.items():\n",
    "            #print('country>>>>',country)\n",
    "            #print('key>>>>',key)\n",
    "            if (key==country):\n",
    "                energy.set_value(key,'Country_E',value)\n",
    "        \n",
    "    # removing () from Country names\n",
    "    for names in energy.index:\n",
    "        if names.find('(') > -1 or names.find(')') >-1:\n",
    "            #print(names[:names.find('(')])\n",
    "            energy.set_value(names,'Country_E',names[:names.find('(')].strip())\n",
    "    energy.reset_index(drop=True,inplace=True)\n",
    "    energy.columns = ['Energy Supply', 'Energy Supply per Capita', '% Renewables','Country']\n",
    "    return energy"
   ]
  },
  {
   "cell_type": "code",
   "execution_count": 184,
   "metadata": {
    "collapsed": false
   },
   "outputs": [],
   "source": [
    "energy_df = energy()"
   ]
  },
  {
   "cell_type": "code",
   "execution_count": 185,
   "metadata": {
    "collapsed": false
   },
   "outputs": [
    {
     "data": {
      "text/html": [
       "<div>\n",
       "<table border=\"1\" class=\"dataframe\">\n",
       "  <thead>\n",
       "    <tr style=\"text-align: right;\">\n",
       "      <th></th>\n",
       "      <th>Energy Supply</th>\n",
       "      <th>Energy Supply per Capita</th>\n",
       "      <th>% Renewables</th>\n",
       "      <th>Country</th>\n",
       "    </tr>\n",
       "  </thead>\n",
       "  <tbody>\n",
       "    <tr>\n",
       "      <th>0</th>\n",
       "      <td>3.210000e+08</td>\n",
       "      <td>10.0</td>\n",
       "      <td>78.669280</td>\n",
       "      <td>Afghanistan</td>\n",
       "    </tr>\n",
       "    <tr>\n",
       "      <th>1</th>\n",
       "      <td>1.020000e+08</td>\n",
       "      <td>35.0</td>\n",
       "      <td>100.000000</td>\n",
       "      <td>Albania</td>\n",
       "    </tr>\n",
       "    <tr>\n",
       "      <th>2</th>\n",
       "      <td>1.959000e+09</td>\n",
       "      <td>51.0</td>\n",
       "      <td>0.551010</td>\n",
       "      <td>Algeria</td>\n",
       "    </tr>\n",
       "    <tr>\n",
       "      <th>3</th>\n",
       "      <td>NaN</td>\n",
       "      <td>NaN</td>\n",
       "      <td>0.641026</td>\n",
       "      <td>American Samoa</td>\n",
       "    </tr>\n",
       "    <tr>\n",
       "      <th>4</th>\n",
       "      <td>9.000000e+06</td>\n",
       "      <td>121.0</td>\n",
       "      <td>88.695650</td>\n",
       "      <td>Andorra</td>\n",
       "    </tr>\n",
       "    <tr>\n",
       "      <th>5</th>\n",
       "      <td>6.420000e+08</td>\n",
       "      <td>27.0</td>\n",
       "      <td>70.909090</td>\n",
       "      <td>Angola</td>\n",
       "    </tr>\n",
       "    <tr>\n",
       "      <th>6</th>\n",
       "      <td>2.000000e+06</td>\n",
       "      <td>136.0</td>\n",
       "      <td>0.000000</td>\n",
       "      <td>Anguilla</td>\n",
       "    </tr>\n",
       "    <tr>\n",
       "      <th>7</th>\n",
       "      <td>8.000000e+06</td>\n",
       "      <td>84.0</td>\n",
       "      <td>0.000000</td>\n",
       "      <td>Antigua and Barbuda</td>\n",
       "    </tr>\n",
       "    <tr>\n",
       "      <th>8</th>\n",
       "      <td>3.378000e+09</td>\n",
       "      <td>79.0</td>\n",
       "      <td>24.064520</td>\n",
       "      <td>Argentina</td>\n",
       "    </tr>\n",
       "    <tr>\n",
       "      <th>9</th>\n",
       "      <td>1.430000e+08</td>\n",
       "      <td>48.0</td>\n",
       "      <td>28.236060</td>\n",
       "      <td>Armenia</td>\n",
       "    </tr>\n",
       "    <tr>\n",
       "      <th>10</th>\n",
       "      <td>1.200000e+07</td>\n",
       "      <td>120.0</td>\n",
       "      <td>14.870690</td>\n",
       "      <td>Aruba</td>\n",
       "    </tr>\n",
       "    <tr>\n",
       "      <th>11</th>\n",
       "      <td>5.386000e+09</td>\n",
       "      <td>231.0</td>\n",
       "      <td>11.810810</td>\n",
       "      <td>Australia</td>\n",
       "    </tr>\n",
       "    <tr>\n",
       "      <th>12</th>\n",
       "      <td>1.391000e+09</td>\n",
       "      <td>164.0</td>\n",
       "      <td>72.452820</td>\n",
       "      <td>Austria</td>\n",
       "    </tr>\n",
       "    <tr>\n",
       "      <th>13</th>\n",
       "      <td>5.670000e+08</td>\n",
       "      <td>60.0</td>\n",
       "      <td>6.384345</td>\n",
       "      <td>Azerbaijan</td>\n",
       "    </tr>\n",
       "    <tr>\n",
       "      <th>14</th>\n",
       "      <td>4.500000e+07</td>\n",
       "      <td>118.0</td>\n",
       "      <td>0.000000</td>\n",
       "      <td>Bahamas</td>\n",
       "    </tr>\n",
       "    <tr>\n",
       "      <th>15</th>\n",
       "      <td>5.740000e+08</td>\n",
       "      <td>425.0</td>\n",
       "      <td>0.000000</td>\n",
       "      <td>Bahrain</td>\n",
       "    </tr>\n",
       "    <tr>\n",
       "      <th>16</th>\n",
       "      <td>1.625000e+09</td>\n",
       "      <td>10.0</td>\n",
       "      <td>1.966329</td>\n",
       "      <td>Bangladesh</td>\n",
       "    </tr>\n",
       "    <tr>\n",
       "      <th>17</th>\n",
       "      <td>1.900000e+07</td>\n",
       "      <td>69.0</td>\n",
       "      <td>0.000000</td>\n",
       "      <td>Barbados</td>\n",
       "    </tr>\n",
       "    <tr>\n",
       "      <th>18</th>\n",
       "      <td>1.142000e+09</td>\n",
       "      <td>120.0</td>\n",
       "      <td>0.463389</td>\n",
       "      <td>Belarus</td>\n",
       "    </tr>\n",
       "    <tr>\n",
       "      <th>19</th>\n",
       "      <td>2.338000e+09</td>\n",
       "      <td>210.0</td>\n",
       "      <td>9.959739</td>\n",
       "      <td>Belgium</td>\n",
       "    </tr>\n",
       "    <tr>\n",
       "      <th>20</th>\n",
       "      <td>1.300000e+07</td>\n",
       "      <td>39.0</td>\n",
       "      <td>64.690030</td>\n",
       "      <td>Belize</td>\n",
       "    </tr>\n",
       "    <tr>\n",
       "      <th>21</th>\n",
       "      <td>1.700000e+08</td>\n",
       "      <td>16.0</td>\n",
       "      <td>0.000000</td>\n",
       "      <td>Benin</td>\n",
       "    </tr>\n",
       "    <tr>\n",
       "      <th>22</th>\n",
       "      <td>6.000000e+06</td>\n",
       "      <td>88.0</td>\n",
       "      <td>0.000000</td>\n",
       "      <td>Bermuda</td>\n",
       "    </tr>\n",
       "    <tr>\n",
       "      <th>23</th>\n",
       "      <td>6.300000e+07</td>\n",
       "      <td>83.0</td>\n",
       "      <td>100.000000</td>\n",
       "      <td>Bhutan</td>\n",
       "    </tr>\n",
       "    <tr>\n",
       "      <th>24</th>\n",
       "      <td>3.360000e+08</td>\n",
       "      <td>32.0</td>\n",
       "      <td>31.477120</td>\n",
       "      <td>Bolivia</td>\n",
       "    </tr>\n",
       "    <tr>\n",
       "      <th>25</th>\n",
       "      <td>5.000000e+06</td>\n",
       "      <td>213.0</td>\n",
       "      <td>0.000000</td>\n",
       "      <td>Bonaire, Sint Eustatius and Saba</td>\n",
       "    </tr>\n",
       "    <tr>\n",
       "      <th>26</th>\n",
       "      <td>2.660000e+08</td>\n",
       "      <td>70.0</td>\n",
       "      <td>41.464670</td>\n",
       "      <td>Bosnia and Herzegovina</td>\n",
       "    </tr>\n",
       "    <tr>\n",
       "      <th>27</th>\n",
       "      <td>8.600000e+07</td>\n",
       "      <td>39.0</td>\n",
       "      <td>0.131406</td>\n",
       "      <td>Botswana</td>\n",
       "    </tr>\n",
       "    <tr>\n",
       "      <th>28</th>\n",
       "      <td>1.214900e+10</td>\n",
       "      <td>59.0</td>\n",
       "      <td>69.648030</td>\n",
       "      <td>Brazil</td>\n",
       "    </tr>\n",
       "    <tr>\n",
       "      <th>29</th>\n",
       "      <td>2.000000e+06</td>\n",
       "      <td>85.0</td>\n",
       "      <td>0.000000</td>\n",
       "      <td>British Virgin Islands</td>\n",
       "    </tr>\n",
       "    <tr>\n",
       "      <th>...</th>\n",
       "      <td>...</td>\n",
       "      <td>...</td>\n",
       "      <td>...</td>\n",
       "      <td>...</td>\n",
       "    </tr>\n",
       "    <tr>\n",
       "      <th>70</th>\n",
       "      <td>1.000000e+06</td>\n",
       "      <td>258.0</td>\n",
       "      <td>33.333330</td>\n",
       "      <td>Falkland Islands</td>\n",
       "    </tr>\n",
       "    <tr>\n",
       "      <th>71</th>\n",
       "      <td>3.100000e+07</td>\n",
       "      <td>36.0</td>\n",
       "      <td>62.004660</td>\n",
       "      <td>Fiji</td>\n",
       "    </tr>\n",
       "    <tr>\n",
       "      <th>72</th>\n",
       "      <td>1.374000e+09</td>\n",
       "      <td>252.0</td>\n",
       "      <td>19.536570</td>\n",
       "      <td>Finland</td>\n",
       "    </tr>\n",
       "    <tr>\n",
       "      <th>73</th>\n",
       "      <td>1.059700e+10</td>\n",
       "      <td>166.0</td>\n",
       "      <td>17.020280</td>\n",
       "      <td>France</td>\n",
       "    </tr>\n",
       "    <tr>\n",
       "      <th>74</th>\n",
       "      <td>1.300000e+07</td>\n",
       "      <td>52.0</td>\n",
       "      <td>62.004660</td>\n",
       "      <td>French Guiana</td>\n",
       "    </tr>\n",
       "    <tr>\n",
       "      <th>75</th>\n",
       "      <td>1.200000e+07</td>\n",
       "      <td>44.0</td>\n",
       "      <td>26.855600</td>\n",
       "      <td>French Polynesia</td>\n",
       "    </tr>\n",
       "    <tr>\n",
       "      <th>76</th>\n",
       "      <td>9.900000e+07</td>\n",
       "      <td>60.0</td>\n",
       "      <td>37.500000</td>\n",
       "      <td>Gabon</td>\n",
       "    </tr>\n",
       "    <tr>\n",
       "      <th>77</th>\n",
       "      <td>1.400000e+07</td>\n",
       "      <td>7.0</td>\n",
       "      <td>0.000000</td>\n",
       "      <td>Gambia</td>\n",
       "    </tr>\n",
       "    <tr>\n",
       "      <th>78</th>\n",
       "      <td>1.630000e+08</td>\n",
       "      <td>40.0</td>\n",
       "      <td>82.224870</td>\n",
       "      <td>Georgia</td>\n",
       "    </tr>\n",
       "    <tr>\n",
       "      <th>79</th>\n",
       "      <td>1.326100e+10</td>\n",
       "      <td>165.0</td>\n",
       "      <td>17.901530</td>\n",
       "      <td>Germany</td>\n",
       "    </tr>\n",
       "    <tr>\n",
       "      <th>80</th>\n",
       "      <td>3.160000e+08</td>\n",
       "      <td>12.0</td>\n",
       "      <td>63.102630</td>\n",
       "      <td>Ghana</td>\n",
       "    </tr>\n",
       "    <tr>\n",
       "      <th>81</th>\n",
       "      <td>8.000000e+06</td>\n",
       "      <td>245.0</td>\n",
       "      <td>0.000000</td>\n",
       "      <td>Gibraltar</td>\n",
       "    </tr>\n",
       "    <tr>\n",
       "      <th>82</th>\n",
       "      <td>9.930000e+08</td>\n",
       "      <td>90.0</td>\n",
       "      <td>24.795280</td>\n",
       "      <td>Greece</td>\n",
       "    </tr>\n",
       "    <tr>\n",
       "      <th>83</th>\n",
       "      <td>9.000000e+06</td>\n",
       "      <td>166.0</td>\n",
       "      <td>78.125000</td>\n",
       "      <td>Greenland</td>\n",
       "    </tr>\n",
       "    <tr>\n",
       "      <th>84</th>\n",
       "      <td>5.000000e+06</td>\n",
       "      <td>43.0</td>\n",
       "      <td>0.000000</td>\n",
       "      <td>Grenada</td>\n",
       "    </tr>\n",
       "    <tr>\n",
       "      <th>85</th>\n",
       "      <td>3.300000e+07</td>\n",
       "      <td>70.0</td>\n",
       "      <td>14.814810</td>\n",
       "      <td>Guadeloupe</td>\n",
       "    </tr>\n",
       "    <tr>\n",
       "      <th>86</th>\n",
       "      <td>NaN</td>\n",
       "      <td>NaN</td>\n",
       "      <td>0.000000</td>\n",
       "      <td>Guam</td>\n",
       "    </tr>\n",
       "    <tr>\n",
       "      <th>87</th>\n",
       "      <td>4.520000e+08</td>\n",
       "      <td>29.0</td>\n",
       "      <td>49.521680</td>\n",
       "      <td>Guatemala</td>\n",
       "    </tr>\n",
       "    <tr>\n",
       "      <th>88</th>\n",
       "      <td>0.000000e+00</td>\n",
       "      <td>6.0</td>\n",
       "      <td>0.000000</td>\n",
       "      <td>Guernsey</td>\n",
       "    </tr>\n",
       "    <tr>\n",
       "      <th>89</th>\n",
       "      <td>1.450000e+08</td>\n",
       "      <td>12.0</td>\n",
       "      <td>48.442210</td>\n",
       "      <td>Guinea</td>\n",
       "    </tr>\n",
       "    <tr>\n",
       "      <th>90</th>\n",
       "      <td>2.900000e+07</td>\n",
       "      <td>17.0</td>\n",
       "      <td>0.000000</td>\n",
       "      <td>Guinea-Bissau</td>\n",
       "    </tr>\n",
       "    <tr>\n",
       "      <th>91</th>\n",
       "      <td>3.400000e+07</td>\n",
       "      <td>45.0</td>\n",
       "      <td>0.000000</td>\n",
       "      <td>Guyana</td>\n",
       "    </tr>\n",
       "    <tr>\n",
       "      <th>92</th>\n",
       "      <td>1.720000e+08</td>\n",
       "      <td>16.0</td>\n",
       "      <td>12.760180</td>\n",
       "      <td>Haiti</td>\n",
       "    </tr>\n",
       "    <tr>\n",
       "      <th>93</th>\n",
       "      <td>2.170000e+08</td>\n",
       "      <td>28.0</td>\n",
       "      <td>37.763190</td>\n",
       "      <td>Honduras</td>\n",
       "    </tr>\n",
       "    <tr>\n",
       "      <th>94</th>\n",
       "      <td>9.470000e+08</td>\n",
       "      <td>95.0</td>\n",
       "      <td>3.263634</td>\n",
       "      <td>Hungary</td>\n",
       "    </tr>\n",
       "    <tr>\n",
       "      <th>95</th>\n",
       "      <td>3.120000e+08</td>\n",
       "      <td>957.0</td>\n",
       "      <td>99.972400</td>\n",
       "      <td>Iceland</td>\n",
       "    </tr>\n",
       "    <tr>\n",
       "      <th>96</th>\n",
       "      <td>3.319500e+10</td>\n",
       "      <td>26.0</td>\n",
       "      <td>14.969080</td>\n",
       "      <td>India</td>\n",
       "    </tr>\n",
       "    <tr>\n",
       "      <th>97</th>\n",
       "      <td>8.754000e+09</td>\n",
       "      <td>35.0</td>\n",
       "      <td>12.189040</td>\n",
       "      <td>Indonesia</td>\n",
       "    </tr>\n",
       "    <tr>\n",
       "      <th>98</th>\n",
       "      <td>9.172000e+09</td>\n",
       "      <td>119.0</td>\n",
       "      <td>5.707721</td>\n",
       "      <td>Iran</td>\n",
       "    </tr>\n",
       "    <tr>\n",
       "      <th>99</th>\n",
       "      <td>2.077000e+09</td>\n",
       "      <td>61.0</td>\n",
       "      <td>7.871554</td>\n",
       "      <td>Iraq</td>\n",
       "    </tr>\n",
       "  </tbody>\n",
       "</table>\n",
       "<p>100 rows × 4 columns</p>\n",
       "</div>"
      ],
      "text/plain": [
       "    Energy Supply  Energy Supply per Capita  % Renewables  \\\n",
       "0    3.210000e+08                      10.0     78.669280   \n",
       "1    1.020000e+08                      35.0    100.000000   \n",
       "2    1.959000e+09                      51.0      0.551010   \n",
       "3             NaN                       NaN      0.641026   \n",
       "4    9.000000e+06                     121.0     88.695650   \n",
       "5    6.420000e+08                      27.0     70.909090   \n",
       "6    2.000000e+06                     136.0      0.000000   \n",
       "7    8.000000e+06                      84.0      0.000000   \n",
       "8    3.378000e+09                      79.0     24.064520   \n",
       "9    1.430000e+08                      48.0     28.236060   \n",
       "10   1.200000e+07                     120.0     14.870690   \n",
       "11   5.386000e+09                     231.0     11.810810   \n",
       "12   1.391000e+09                     164.0     72.452820   \n",
       "13   5.670000e+08                      60.0      6.384345   \n",
       "14   4.500000e+07                     118.0      0.000000   \n",
       "15   5.740000e+08                     425.0      0.000000   \n",
       "16   1.625000e+09                      10.0      1.966329   \n",
       "17   1.900000e+07                      69.0      0.000000   \n",
       "18   1.142000e+09                     120.0      0.463389   \n",
       "19   2.338000e+09                     210.0      9.959739   \n",
       "20   1.300000e+07                      39.0     64.690030   \n",
       "21   1.700000e+08                      16.0      0.000000   \n",
       "22   6.000000e+06                      88.0      0.000000   \n",
       "23   6.300000e+07                      83.0    100.000000   \n",
       "24   3.360000e+08                      32.0     31.477120   \n",
       "25   5.000000e+06                     213.0      0.000000   \n",
       "26   2.660000e+08                      70.0     41.464670   \n",
       "27   8.600000e+07                      39.0      0.131406   \n",
       "28   1.214900e+10                      59.0     69.648030   \n",
       "29   2.000000e+06                      85.0      0.000000   \n",
       "..            ...                       ...           ...   \n",
       "70   1.000000e+06                     258.0     33.333330   \n",
       "71   3.100000e+07                      36.0     62.004660   \n",
       "72   1.374000e+09                     252.0     19.536570   \n",
       "73   1.059700e+10                     166.0     17.020280   \n",
       "74   1.300000e+07                      52.0     62.004660   \n",
       "75   1.200000e+07                      44.0     26.855600   \n",
       "76   9.900000e+07                      60.0     37.500000   \n",
       "77   1.400000e+07                       7.0      0.000000   \n",
       "78   1.630000e+08                      40.0     82.224870   \n",
       "79   1.326100e+10                     165.0     17.901530   \n",
       "80   3.160000e+08                      12.0     63.102630   \n",
       "81   8.000000e+06                     245.0      0.000000   \n",
       "82   9.930000e+08                      90.0     24.795280   \n",
       "83   9.000000e+06                     166.0     78.125000   \n",
       "84   5.000000e+06                      43.0      0.000000   \n",
       "85   3.300000e+07                      70.0     14.814810   \n",
       "86            NaN                       NaN      0.000000   \n",
       "87   4.520000e+08                      29.0     49.521680   \n",
       "88   0.000000e+00                       6.0      0.000000   \n",
       "89   1.450000e+08                      12.0     48.442210   \n",
       "90   2.900000e+07                      17.0      0.000000   \n",
       "91   3.400000e+07                      45.0      0.000000   \n",
       "92   1.720000e+08                      16.0     12.760180   \n",
       "93   2.170000e+08                      28.0     37.763190   \n",
       "94   9.470000e+08                      95.0      3.263634   \n",
       "95   3.120000e+08                     957.0     99.972400   \n",
       "96   3.319500e+10                      26.0     14.969080   \n",
       "97   8.754000e+09                      35.0     12.189040   \n",
       "98   9.172000e+09                     119.0      5.707721   \n",
       "99   2.077000e+09                      61.0      7.871554   \n",
       "\n",
       "                             Country  \n",
       "0                        Afghanistan  \n",
       "1                            Albania  \n",
       "2                            Algeria  \n",
       "3                     American Samoa  \n",
       "4                            Andorra  \n",
       "5                             Angola  \n",
       "6                           Anguilla  \n",
       "7                Antigua and Barbuda  \n",
       "8                          Argentina  \n",
       "9                            Armenia  \n",
       "10                             Aruba  \n",
       "11                         Australia  \n",
       "12                           Austria  \n",
       "13                        Azerbaijan  \n",
       "14                           Bahamas  \n",
       "15                           Bahrain  \n",
       "16                        Bangladesh  \n",
       "17                          Barbados  \n",
       "18                           Belarus  \n",
       "19                           Belgium  \n",
       "20                            Belize  \n",
       "21                             Benin  \n",
       "22                           Bermuda  \n",
       "23                            Bhutan  \n",
       "24                           Bolivia  \n",
       "25  Bonaire, Sint Eustatius and Saba  \n",
       "26            Bosnia and Herzegovina  \n",
       "27                          Botswana  \n",
       "28                            Brazil  \n",
       "29            British Virgin Islands  \n",
       "..                               ...  \n",
       "70                  Falkland Islands  \n",
       "71                              Fiji  \n",
       "72                           Finland  \n",
       "73                            France  \n",
       "74                     French Guiana  \n",
       "75                  French Polynesia  \n",
       "76                             Gabon  \n",
       "77                            Gambia  \n",
       "78                           Georgia  \n",
       "79                           Germany  \n",
       "80                             Ghana  \n",
       "81                         Gibraltar  \n",
       "82                            Greece  \n",
       "83                         Greenland  \n",
       "84                           Grenada  \n",
       "85                        Guadeloupe  \n",
       "86                              Guam  \n",
       "87                         Guatemala  \n",
       "88                          Guernsey  \n",
       "89                            Guinea  \n",
       "90                     Guinea-Bissau  \n",
       "91                            Guyana  \n",
       "92                             Haiti  \n",
       "93                          Honduras  \n",
       "94                           Hungary  \n",
       "95                           Iceland  \n",
       "96                             India  \n",
       "97                         Indonesia  \n",
       "98                              Iran  \n",
       "99                              Iraq  \n",
       "\n",
       "[100 rows x 4 columns]"
      ]
     },
     "execution_count": 185,
     "metadata": {},
     "output_type": "execute_result"
    }
   ],
   "source": [
    "energy_df.head(100)"
   ]
  },
  {
   "cell_type": "code",
   "execution_count": 186,
   "metadata": {
    "collapsed": false
   },
   "outputs": [
    {
     "name": "stdout",
     "output_type": "stream",
     "text": [
      "<class 'pandas.core.frame.DataFrame'>\n",
      "RangeIndex: 227 entries, 0 to 226\n",
      "Data columns (total 4 columns):\n",
      "Energy Supply               222 non-null float64\n",
      "Energy Supply per Capita    222 non-null float64\n",
      "% Renewables                227 non-null float64\n",
      "Country                     227 non-null object\n",
      "dtypes: float64(3), object(1)\n",
      "memory usage: 7.2+ KB\n"
     ]
    }
   ],
   "source": [
    "energy_df.info()"
   ]
  },
  {
   "cell_type": "code",
   "execution_count": 187,
   "metadata": {
    "collapsed": true
   },
   "outputs": [],
   "source": [
    "def gdp():\n",
    "    GDP = pd.read_csv('world_bank.csv',skiprows=4)\n",
    "    dicts = {'Korea, Rep.': 'South Korea', \n",
    "           'Iran, Islamic Rep.': 'Iran',\n",
    "           'Hong Kong SAR, China': 'Hong Kong'}\n",
    "    GDP['Country_M'] = GDP['Country Name']\n",
    "    GDP = GDP.set_index('Country Name')\n",
    "    for country in GDP.index:\n",
    "        for key,value in dicts.items():\n",
    "            if(country==key):\n",
    "                GDP.set_value(country,'Country_M',value)\n",
    "    GDP.reset_index(drop=True,inplace=True)\n",
    "    GDP.columns = ['Country Code', 'Indicator Name', 'Indicator Code', '1960', '1961',\n",
    "           '1962', '1963', '1964', '1965', '1966', '1967', '1968', '1969', '1970',\n",
    "           '1971', '1972', '1973', '1974', '1975', '1976', '1977', '1978', '1979',\n",
    "           '1980', '1981', '1982', '1983', '1984', '1985', '1986', '1987', '1988',\n",
    "           '1989', '1990', '1991', '1992', '1993', '1994', '1995', '1996', '1997',\n",
    "           '1998', '1999', '2000', '2001', '2002', '2003', '2004', '2005', '2006',\n",
    "           '2007', '2008', '2009', '2010', '2011', '2012', '2013', '2014', '2015',\n",
    "           'Country']\n",
    "    GDP_col_needed = list(np.arange(2006,2016,1))\n",
    "    GDP_col_needed = list(map(str,GDP_col_needed))\n",
    "    GDP_col_needed.append('Country')\n",
    "    GDP_DF2 = GDP[GDP_col_needed]\n",
    "    return GDP_DF2"
   ]
  },
  {
   "cell_type": "code",
   "execution_count": 188,
   "metadata": {
    "collapsed": true
   },
   "outputs": [],
   "source": [
    "GDP_df = gdp()"
   ]
  },
  {
   "cell_type": "code",
   "execution_count": 189,
   "metadata": {
    "collapsed": false
   },
   "outputs": [
    {
     "name": "stdout",
     "output_type": "stream",
     "text": [
      "<class 'pandas.core.frame.DataFrame'>\n",
      "RangeIndex: 264 entries, 0 to 263\n",
      "Data columns (total 11 columns):\n",
      "2006       237 non-null float64\n",
      "2007       237 non-null float64\n",
      "2008       238 non-null float64\n",
      "2009       238 non-null float64\n",
      "2010       243 non-null float64\n",
      "2011       238 non-null float64\n",
      "2012       237 non-null float64\n",
      "2013       237 non-null float64\n",
      "2014       230 non-null float64\n",
      "2015       214 non-null float64\n",
      "Country    264 non-null object\n",
      "dtypes: float64(10), object(1)\n",
      "memory usage: 22.8+ KB\n"
     ]
    }
   ],
   "source": [
    "GDP_df.info()"
   ]
  },
  {
   "cell_type": "code",
   "execution_count": 190,
   "metadata": {
    "collapsed": false
   },
   "outputs": [
    {
     "data": {
      "text/html": [
       "<div>\n",
       "<table border=\"1\" class=\"dataframe\">\n",
       "  <thead>\n",
       "    <tr style=\"text-align: right;\">\n",
       "      <th></th>\n",
       "      <th>2006</th>\n",
       "      <th>2007</th>\n",
       "      <th>2008</th>\n",
       "      <th>2009</th>\n",
       "      <th>2010</th>\n",
       "      <th>2011</th>\n",
       "      <th>2012</th>\n",
       "      <th>2013</th>\n",
       "      <th>2014</th>\n",
       "      <th>2015</th>\n",
       "      <th>Country</th>\n",
       "    </tr>\n",
       "  </thead>\n",
       "  <tbody>\n",
       "    <tr>\n",
       "      <th>0</th>\n",
       "      <td>NaN</td>\n",
       "      <td>NaN</td>\n",
       "      <td>NaN</td>\n",
       "      <td>NaN</td>\n",
       "      <td>2.467704e+09</td>\n",
       "      <td>NaN</td>\n",
       "      <td>NaN</td>\n",
       "      <td>NaN</td>\n",
       "      <td>NaN</td>\n",
       "      <td>NaN</td>\n",
       "      <td>Aruba</td>\n",
       "    </tr>\n",
       "    <tr>\n",
       "      <th>263</th>\n",
       "      <td>1.006276e+10</td>\n",
       "      <td>9.695130e+09</td>\n",
       "      <td>7.982103e+09</td>\n",
       "      <td>8.459783e+09</td>\n",
       "      <td>9.422161e+09</td>\n",
       "      <td>1.054391e+10</td>\n",
       "      <td>1.165789e+10</td>\n",
       "      <td>1.218064e+10</td>\n",
       "      <td>1.264939e+10</td>\n",
       "      <td>1.278517e+10</td>\n",
       "      <td>Zimbabwe</td>\n",
       "    </tr>\n",
       "  </tbody>\n",
       "</table>\n",
       "</div>"
      ],
      "text/plain": [
       "             2006          2007          2008          2009          2010  \\\n",
       "0             NaN           NaN           NaN           NaN  2.467704e+09   \n",
       "263  1.006276e+10  9.695130e+09  7.982103e+09  8.459783e+09  9.422161e+09   \n",
       "\n",
       "             2011          2012          2013          2014          2015  \\\n",
       "0             NaN           NaN           NaN           NaN           NaN   \n",
       "263  1.054391e+10  1.165789e+10  1.218064e+10  1.264939e+10  1.278517e+10   \n",
       "\n",
       "      Country  \n",
       "0       Aruba  \n",
       "263  Zimbabwe  "
      ]
     },
     "execution_count": 190,
     "metadata": {},
     "output_type": "execute_result"
    }
   ],
   "source": [
    "GDP_df.iloc[[0,-1]]"
   ]
  },
  {
   "cell_type": "code",
   "execution_count": 191,
   "metadata": {
    "collapsed": true
   },
   "outputs": [],
   "source": [
    "def scimen():\n",
    "    ScimEn = pd.read_excel('scimagojr-3.xlsx')\n",
    "    return ScimEn"
   ]
  },
  {
   "cell_type": "code",
   "execution_count": 192,
   "metadata": {
    "collapsed": false
   },
   "outputs": [],
   "source": [
    "ScimEn_df = scimen()"
   ]
  },
  {
   "cell_type": "code",
   "execution_count": 193,
   "metadata": {
    "collapsed": false
   },
   "outputs": [
    {
     "name": "stdout",
     "output_type": "stream",
     "text": [
      "<class 'pandas.core.frame.DataFrame'>\n",
      "RangeIndex: 191 entries, 0 to 190\n",
      "Data columns (total 8 columns):\n",
      "Rank                      191 non-null int64\n",
      "Country                   191 non-null object\n",
      "Documents                 191 non-null int64\n",
      "Citable documents         191 non-null int64\n",
      "Citations                 191 non-null int64\n",
      "Self-citations            191 non-null int64\n",
      "Citations per document    191 non-null float64\n",
      "H index                   191 non-null int64\n",
      "dtypes: float64(1), int64(6), object(1)\n",
      "memory usage: 12.0+ KB\n"
     ]
    }
   ],
   "source": [
    "ScimEn_df.info()"
   ]
  },
  {
   "cell_type": "code",
   "execution_count": 194,
   "metadata": {
    "collapsed": false
   },
   "outputs": [
    {
     "data": {
      "text/html": [
       "<div>\n",
       "<table border=\"1\" class=\"dataframe\">\n",
       "  <thead>\n",
       "    <tr style=\"text-align: right;\">\n",
       "      <th></th>\n",
       "      <th>Rank</th>\n",
       "      <th>Country</th>\n",
       "      <th>Documents</th>\n",
       "      <th>Citable documents</th>\n",
       "      <th>Citations</th>\n",
       "      <th>Self-citations</th>\n",
       "      <th>Citations per document</th>\n",
       "      <th>H index</th>\n",
       "    </tr>\n",
       "  </thead>\n",
       "  <tbody>\n",
       "    <tr>\n",
       "      <th>0</th>\n",
       "      <td>1</td>\n",
       "      <td>China</td>\n",
       "      <td>127050</td>\n",
       "      <td>126767</td>\n",
       "      <td>597237</td>\n",
       "      <td>411683</td>\n",
       "      <td>4.7</td>\n",
       "      <td>138</td>\n",
       "    </tr>\n",
       "    <tr>\n",
       "      <th>190</th>\n",
       "      <td>191</td>\n",
       "      <td>Mauritania</td>\n",
       "      <td>1</td>\n",
       "      <td>1</td>\n",
       "      <td>1</td>\n",
       "      <td>0</td>\n",
       "      <td>1.0</td>\n",
       "      <td>1</td>\n",
       "    </tr>\n",
       "  </tbody>\n",
       "</table>\n",
       "</div>"
      ],
      "text/plain": [
       "     Rank     Country  Documents  Citable documents  Citations  \\\n",
       "0       1       China     127050             126767     597237   \n",
       "190   191  Mauritania          1                  1          1   \n",
       "\n",
       "     Self-citations  Citations per document  H index  \n",
       "0            411683                     4.7      138  \n",
       "190               0                     1.0        1  "
      ]
     },
     "execution_count": 194,
     "metadata": {},
     "output_type": "execute_result"
    }
   ],
   "source": [
    "ScimEn_df.iloc[[0,-1]]"
   ]
  },
  {
   "cell_type": "markdown",
   "metadata": {},
   "source": [
    "## Question-1:"
   ]
  },
  {
   "cell_type": "code",
   "execution_count": 195,
   "metadata": {
    "collapsed": true
   },
   "outputs": [],
   "source": [
    "def answer_one():\n",
    "    energy_df, GDP_df, ScimEn_df = energy(),gdp(),scimen()\n",
    "    tdf = pd.merge(energy_df,GDP_df,how='inner',left_on='Country',right_on='Country')\n",
    "    tdf = pd.merge(tdf,ScimEn_df,how='inner',left_on='Country',right_on='Country')\n",
    "    condition_mask = tdf['Rank'] <= 15\n",
    "    res = tdf[condition_mask]\n",
    "    return res"
   ]
  },
  {
   "cell_type": "code",
   "execution_count": 196,
   "metadata": {
    "collapsed": false
   },
   "outputs": [],
   "source": [
    "a = answer_one()"
   ]
  },
  {
   "cell_type": "code",
   "execution_count": 197,
   "metadata": {
    "collapsed": false
   },
   "outputs": [
    {
     "data": {
      "text/plain": [
       "(15, 21)"
      ]
     },
     "execution_count": 197,
     "metadata": {},
     "output_type": "execute_result"
    }
   ],
   "source": [
    "a.shape"
   ]
  },
  {
   "cell_type": "code",
   "execution_count": null,
   "metadata": {
    "collapsed": false
   },
   "outputs": [],
   "source": []
  },
  {
   "cell_type": "code",
   "execution_count": null,
   "metadata": {
    "collapsed": true
   },
   "outputs": [],
   "source": []
  }
 ],
 "metadata": {
  "kernelspec": {
   "display_name": "Python 3",
   "language": "python",
   "name": "python3"
  },
  "language_info": {
   "codemirror_mode": {
    "name": "ipython",
    "version": 3
   },
   "file_extension": ".py",
   "mimetype": "text/x-python",
   "name": "python",
   "nbconvert_exporter": "python",
   "pygments_lexer": "ipython3",
   "version": "3.5.4"
  }
 },
 "nbformat": 4,
 "nbformat_minor": 0
}
